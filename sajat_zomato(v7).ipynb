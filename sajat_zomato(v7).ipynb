{
 "cells": [
  {
   "cell_type": "markdown",
   "metadata": {},
   "source": [
    "## Adatok beolvasása"
   ]
  },
  {
   "cell_type": "markdown",
   "metadata": {},
   "source": [
    "Importok:"
   ]
  },
  {
   "cell_type": "code",
   "execution_count": 1,
   "metadata": {},
   "outputs": [],
   "source": [
    "import pandas as pd\n",
    "import numpy as np\n",
    "import seaborn as sns\n",
    "import os\n",
    "import hashlib\n",
    "import string\n",
    "import matplotlib.pyplot as plt\n",
    "from sklearn.utils import shuffle\n",
    "from sklearn.preprocessing import LabelEncoder\n",
    "from sklearn.preprocessing import OneHotEncoder\n",
    "from sklearn.tree import DecisionTreeRegressor\n",
    "from sklearn.ensemble import RandomForestRegressor\n",
    "from sklearn.model_selection import cross_val_score\n",
    "from sklearn.metrics import mean_squared_error\n",
    "from sklearn.linear_model import LinearRegression\n",
    "from sklearn.model_selection import GridSearchCV\n",
    "#from sklearn.model_selection import RandomizedSearchCV\n",
    "#from scipy.stats import randint as sp_randint\n",
    "from collections import Counter\n",
    "from mpl_toolkits.basemap import Basemap\n",
    "from folium.plugins import HeatMap\n",
    "import folium\n",
    "from geopy.geocoders import Nominatim\n",
    "from sklearn.tree import export_graphviz\n",
    "from IPython.display import Image\n",
    "import pydot\n",
    "from sklearn.metrics import classification_report, confusion_matrix\n",
    "from sklearn.neighbors import KNeighborsClassifier\n",
    "from sklearn.cluster import KMeans\n",
    "from sklearn.model_selection import train_test_split"
   ]
  },
  {
   "cell_type": "code",
   "execution_count": 2,
   "metadata": {},
   "outputs": [],
   "source": [
    "def load_data(path):\n",
    " csv_path = os.path.join(path, \"zomato.csv\")\n",
    " return pd.read_csv(csv_path)\n",
    "\n",
    "zomato = load_data(\"datasets\")"
   ]
  },
  {
   "cell_type": "markdown",
   "metadata": {},
   "source": [
    "Adatok összekeverése annak érdekében, hogy esetleges mintákat elimináljuk a kezdeti adatbázisban."
   ]
  },
  {
   "cell_type": "code",
   "execution_count": 3,
   "metadata": {},
   "outputs": [],
   "source": [
    "zomato = shuffle(zomato)\n",
    "zomato.reset_index(inplace=True, drop=True)"
   ]
  },
  {
   "cell_type": "code",
   "execution_count": 4,
   "metadata": {},
   "outputs": [],
   "source": [
    "backup_zomato = zomato.copy()"
   ]
  },
  {
   "cell_type": "code",
   "execution_count": 5,
   "metadata": {},
   "outputs": [
    {
     "data": {
      "text/html": [
       "<div>\n",
       "<style scoped>\n",
       "    .dataframe tbody tr th:only-of-type {\n",
       "        vertical-align: middle;\n",
       "    }\n",
       "\n",
       "    .dataframe tbody tr th {\n",
       "        vertical-align: top;\n",
       "    }\n",
       "\n",
       "    .dataframe thead th {\n",
       "        text-align: right;\n",
       "    }\n",
       "</style>\n",
       "<table border=\"1\" class=\"dataframe\">\n",
       "  <thead>\n",
       "    <tr style=\"text-align: right;\">\n",
       "      <th></th>\n",
       "      <th>url</th>\n",
       "      <th>address</th>\n",
       "      <th>name</th>\n",
       "      <th>online_order</th>\n",
       "      <th>book_table</th>\n",
       "      <th>rate</th>\n",
       "      <th>votes</th>\n",
       "      <th>phone</th>\n",
       "      <th>location</th>\n",
       "      <th>rest_type</th>\n",
       "      <th>dish_liked</th>\n",
       "      <th>cuisines</th>\n",
       "      <th>approx_cost(for two people)</th>\n",
       "      <th>reviews_list</th>\n",
       "      <th>menu_item</th>\n",
       "      <th>listed_in(type)</th>\n",
       "      <th>listed_in(city)</th>\n",
       "    </tr>\n",
       "  </thead>\n",
       "  <tbody>\n",
       "    <tr>\n",
       "      <th>0</th>\n",
       "      <td>https://www.zomato.com/bangalore/cafe-azzure-m...</td>\n",
       "      <td>52, Brigade Road, Haridevpur, Shanthala Nagar,...</td>\n",
       "      <td>Cafe Azzure</td>\n",
       "      <td>Yes</td>\n",
       "      <td>Yes</td>\n",
       "      <td>4.3/5</td>\n",
       "      <td>2671</td>\n",
       "      <td>080 49653400</td>\n",
       "      <td>MG Road</td>\n",
       "      <td>Cafe</td>\n",
       "      <td>Pasta, Wedges, Pizza, Nachos, Mocktails, Peri ...</td>\n",
       "      <td>Cafe, Continental, Italian, Burger</td>\n",
       "      <td>1,200</td>\n",
       "      <td>[('Rated 4.0', 'RATED\\n  Brunch time hea !! An...</td>\n",
       "      <td>['Azzure Special Twister Veg Pizza', 'Azzure S...</td>\n",
       "      <td>Cafes</td>\n",
       "      <td>Frazer Town</td>\n",
       "    </tr>\n",
       "    <tr>\n",
       "      <th>1</th>\n",
       "      <td>https://www.zomato.com/bangalore/koshe-kosha-k...</td>\n",
       "      <td>1016, 1st Floor, 80 Feet Road, Koramangala 1st...</td>\n",
       "      <td>Koshe Kosha</td>\n",
       "      <td>Yes</td>\n",
       "      <td>No</td>\n",
       "      <td>4.0/5</td>\n",
       "      <td>572</td>\n",
       "      <td>+91 9830949494</td>\n",
       "      <td>Koramangala 1st Block</td>\n",
       "      <td>Casual Dining</td>\n",
       "      <td>Fish, Kosha Mangsho, Chicken Curry, Luchi, Chi...</td>\n",
       "      <td>Bengali, Seafood</td>\n",
       "      <td>600</td>\n",
       "      <td>[('Rated 4.0', 'RATED\\n  Best place for Bengal...</td>\n",
       "      <td>[]</td>\n",
       "      <td>Delivery</td>\n",
       "      <td>HSR</td>\n",
       "    </tr>\n",
       "    <tr>\n",
       "      <th>2</th>\n",
       "      <td>https://www.zomato.com/bangalore/toscano-lavel...</td>\n",
       "      <td>2nd Floor, UB City, Vittal Mallya Road, Lavell...</td>\n",
       "      <td>Toscano</td>\n",
       "      <td>Yes</td>\n",
       "      <td>Yes</td>\n",
       "      <td>4.4 /5</td>\n",
       "      <td>1853</td>\n",
       "      <td>080 41738800\\n+91 7619320071</td>\n",
       "      <td>Lavelle Road</td>\n",
       "      <td>Casual Dining</td>\n",
       "      <td>Pizza, Pasta, Pepperoni, Wine, Salads, Chicken...</td>\n",
       "      <td>Italian, Salad</td>\n",
       "      <td>1,500</td>\n",
       "      <td>[('Rated 5.0', 'RATED\\n  Toscano has semi open...</td>\n",
       "      <td>[]</td>\n",
       "      <td>Delivery</td>\n",
       "      <td>MG Road</td>\n",
       "    </tr>\n",
       "    <tr>\n",
       "      <th>3</th>\n",
       "      <td>https://www.zomato.com/bangalore/pizza-palace-...</td>\n",
       "      <td>Hongasandra, 1st Main Road, Bommanahalli, Bang...</td>\n",
       "      <td>Pizza Palace</td>\n",
       "      <td>Yes</td>\n",
       "      <td>No</td>\n",
       "      <td>NEW</td>\n",
       "      <td>0</td>\n",
       "      <td>+91 8553388664\\r\\n+91 9880447764</td>\n",
       "      <td>Bommanahalli</td>\n",
       "      <td>Quick Bites</td>\n",
       "      <td>NaN</td>\n",
       "      <td>Pizza, Fast Food</td>\n",
       "      <td>300</td>\n",
       "      <td>[('Rated 1.0', \"RATED\\n  This is the worst piz...</td>\n",
       "      <td>[]</td>\n",
       "      <td>Dine-out</td>\n",
       "      <td>HSR</td>\n",
       "    </tr>\n",
       "    <tr>\n",
       "      <th>4</th>\n",
       "      <td>https://www.zomato.com/bangalore/rescafe-resid...</td>\n",
       "      <td>Devatha Plaza, Residency Road, Bangalore</td>\n",
       "      <td>Rescafe</td>\n",
       "      <td>No</td>\n",
       "      <td>No</td>\n",
       "      <td>3.8 /5</td>\n",
       "      <td>41</td>\n",
       "      <td>+91 8040976676</td>\n",
       "      <td>Residency Road</td>\n",
       "      <td>Quick Bites</td>\n",
       "      <td>Samosa, Tea</td>\n",
       "      <td>Beverages</td>\n",
       "      <td>100</td>\n",
       "      <td>[('Rated 4.5', 'RATED\\n  Great experience been...</td>\n",
       "      <td>[]</td>\n",
       "      <td>Dine-out</td>\n",
       "      <td>MG Road</td>\n",
       "    </tr>\n",
       "    <tr>\n",
       "      <th>5</th>\n",
       "      <td>https://www.zomato.com/bangalore/five-senses-u...</td>\n",
       "      <td>9, Lake Square, Kensington Road, SIndhi Colony...</td>\n",
       "      <td>Five Senses</td>\n",
       "      <td>Yes</td>\n",
       "      <td>No</td>\n",
       "      <td>NEW</td>\n",
       "      <td>0</td>\n",
       "      <td>+91 9986001270</td>\n",
       "      <td>Ulsoor</td>\n",
       "      <td>Takeaway, Delivery</td>\n",
       "      <td>NaN</td>\n",
       "      <td>North Indian, Fast Food, Chinese</td>\n",
       "      <td>500</td>\n",
       "      <td>[]</td>\n",
       "      <td>[]</td>\n",
       "      <td>Delivery</td>\n",
       "      <td>MG Road</td>\n",
       "    </tr>\n",
       "    <tr>\n",
       "      <th>6</th>\n",
       "      <td>https://www.zomato.com/bangalore/meghana-birya...</td>\n",
       "      <td>163, Shreyas Arcade, Opposite Apollo Pharmacy,...</td>\n",
       "      <td>Meghana Biryani</td>\n",
       "      <td>Yes</td>\n",
       "      <td>No</td>\n",
       "      <td>2.3 /5</td>\n",
       "      <td>240</td>\n",
       "      <td>+91 9980820099\\n+91 9980840099</td>\n",
       "      <td>Bellandur</td>\n",
       "      <td>Casual Dining</td>\n",
       "      <td>Paneer Biryani, Vegetable Biryani, Chicken Bon...</td>\n",
       "      <td>North Indian</td>\n",
       "      <td>800</td>\n",
       "      <td>[('Rated 2.0', 'RATED\\n  Ordered for their spe...</td>\n",
       "      <td>[]</td>\n",
       "      <td>Dine-out</td>\n",
       "      <td>Sarjapur Road</td>\n",
       "    </tr>\n",
       "    <tr>\n",
       "      <th>7</th>\n",
       "      <td>https://www.zomato.com/bangalore/swathi-deluxe...</td>\n",
       "      <td>Near Big Bazar, Double Road, Shanti Nagar, Ban...</td>\n",
       "      <td>Swathi Deluxe Restaurant</td>\n",
       "      <td>Yes</td>\n",
       "      <td>No</td>\n",
       "      <td>3.0/5</td>\n",
       "      <td>74</td>\n",
       "      <td>+91 9880218888\\r\\r\\r\\r\\n080 22210083</td>\n",
       "      <td>Shanti Nagar</td>\n",
       "      <td>Casual Dining</td>\n",
       "      <td>Biryani, Chicken Kebab, Andhra Meal, Lime Soda</td>\n",
       "      <td>North Indian</td>\n",
       "      <td>500</td>\n",
       "      <td>[('Rated 5.0', 'RATED\\n  Quick delivery and th...</td>\n",
       "      <td>['Veg Biryani', 'Chicken Biryani', 'Veg Meals'...</td>\n",
       "      <td>Delivery</td>\n",
       "      <td>Brigade Road</td>\n",
       "    </tr>\n",
       "    <tr>\n",
       "      <th>8</th>\n",
       "      <td>https://www.zomato.com/bangalore/the-wok-white...</td>\n",
       "      <td>13,14,15, SJR Park I, Leisure Well EPIP, White...</td>\n",
       "      <td>The Wok</td>\n",
       "      <td>Yes</td>\n",
       "      <td>No</td>\n",
       "      <td>2.8/5</td>\n",
       "      <td>89</td>\n",
       "      <td>080 41604444\\r\\n080 41604443</td>\n",
       "      <td>Whitefield</td>\n",
       "      <td>Food Court</td>\n",
       "      <td>Momos, Chop Suey</td>\n",
       "      <td>Chinese, Momos</td>\n",
       "      <td>500</td>\n",
       "      <td>[('Rated 1.0', 'RATED\\n  Honestly one of the w...</td>\n",
       "      <td>['Chicken Manchow Soup', 'Veg Manchurian', 'Ch...</td>\n",
       "      <td>Delivery</td>\n",
       "      <td>Brookefield</td>\n",
       "    </tr>\n",
       "    <tr>\n",
       "      <th>9</th>\n",
       "      <td>https://www.zomato.com/bangalore/north-indian-...</td>\n",
       "      <td>188, 5th Cross, KHB Colony, Koramangala 5th Bl...</td>\n",
       "      <td>North Indian And Bengali Mess</td>\n",
       "      <td>No</td>\n",
       "      <td>No</td>\n",
       "      <td>3.7 /5</td>\n",
       "      <td>34</td>\n",
       "      <td>+91 8971812966</td>\n",
       "      <td>Koramangala 5th Block</td>\n",
       "      <td>Mess</td>\n",
       "      <td>NaN</td>\n",
       "      <td>North Indian, Bengali</td>\n",
       "      <td>300</td>\n",
       "      <td>[('Rated 1.0', \"RATED\\n  We went today for lun...</td>\n",
       "      <td>[]</td>\n",
       "      <td>Dine-out</td>\n",
       "      <td>Koramangala 4th Block</td>\n",
       "    </tr>\n",
       "    <tr>\n",
       "      <th>10</th>\n",
       "      <td>https://www.zomato.com/bangalore/skywalk-resto...</td>\n",
       "      <td>169, 80 Feet Road, Koramangala 1st Block, Bang...</td>\n",
       "      <td>Skywalk Restobar</td>\n",
       "      <td>No</td>\n",
       "      <td>No</td>\n",
       "      <td>3.3 /5</td>\n",
       "      <td>5</td>\n",
       "      <td>+91 8095095550\\r\\n+91 9500122544</td>\n",
       "      <td>Koramangala 1st Block</td>\n",
       "      <td>Casual Dining, Bar</td>\n",
       "      <td>NaN</td>\n",
       "      <td>North Indian, South Indian</td>\n",
       "      <td>700</td>\n",
       "      <td>[('Rated 5.0', 'RATED\\n  Polite and friendly s...</td>\n",
       "      <td>[]</td>\n",
       "      <td>Pubs and bars</td>\n",
       "      <td>Koramangala 5th Block</td>\n",
       "    </tr>\n",
       "    <tr>\n",
       "      <th>11</th>\n",
       "      <td>https://www.zomato.com/bangalore/marhaba-nagaw...</td>\n",
       "      <td>FC K06A, 4th Floor, MSR Regaliaa, Elements Mal...</td>\n",
       "      <td>Marhaba</td>\n",
       "      <td>Yes</td>\n",
       "      <td>No</td>\n",
       "      <td>3.6/5</td>\n",
       "      <td>42</td>\n",
       "      <td>+91 8067294021</td>\n",
       "      <td>Nagawara</td>\n",
       "      <td>Casual Dining</td>\n",
       "      <td>Chicken Biryani, Mint Lemonade, Falafel, Frenc...</td>\n",
       "      <td>Arabian, Mediterranean, North Indian</td>\n",
       "      <td>600</td>\n",
       "      <td>[('Rated 4.5', 'RATED\\n  Good food here.. Trie...</td>\n",
       "      <td>['Lemon Pepper Barbecue Chicken [Half]', 'Spic...</td>\n",
       "      <td>Delivery</td>\n",
       "      <td>Kammanahalli</td>\n",
       "    </tr>\n",
       "    <tr>\n",
       "      <th>12</th>\n",
       "      <td>https://www.zomato.com/bangalore/zaica-dine-wi...</td>\n",
       "      <td>2010, HAL 2nd Stage, 100 Feet Road, Indiranaga...</td>\n",
       "      <td>Zaica Dine &amp; Wine</td>\n",
       "      <td>Yes</td>\n",
       "      <td>Yes</td>\n",
       "      <td>4.0/5</td>\n",
       "      <td>1013</td>\n",
       "      <td>+91 9731333833\\r\\n080 41201745</td>\n",
       "      <td>Indiranagar</td>\n",
       "      <td>Casual Dining</td>\n",
       "      <td>Chocolate Pani Puri, Butter Chicken, Gajar Hal...</td>\n",
       "      <td>North Indian</td>\n",
       "      <td>1,200</td>\n",
       "      <td>[('Rated 5.0', \"RATED\\n  This place is located...</td>\n",
       "      <td>[]</td>\n",
       "      <td>Delivery</td>\n",
       "      <td>Indiranagar</td>\n",
       "    </tr>\n",
       "    <tr>\n",
       "      <th>13</th>\n",
       "      <td>https://www.zomato.com/bangalore/the-chocolate...</td>\n",
       "      <td>5, By The Way Foodcourt, Skywards Tech Park, D...</td>\n",
       "      <td>The Chocolate Room</td>\n",
       "      <td>Yes</td>\n",
       "      <td>No</td>\n",
       "      <td>2.8/5</td>\n",
       "      <td>44</td>\n",
       "      <td>+91 6362409695</td>\n",
       "      <td>Electronic City</td>\n",
       "      <td>Cafe</td>\n",
       "      <td>NaN</td>\n",
       "      <td>Cafe, Beverages</td>\n",
       "      <td>600</td>\n",
       "      <td>[('Rated 1.0', 'RATED\\n  As bad as it can get,...</td>\n",
       "      <td>[]</td>\n",
       "      <td>Desserts</td>\n",
       "      <td>Electronic City</td>\n",
       "    </tr>\n",
       "    <tr>\n",
       "      <th>14</th>\n",
       "      <td>https://www.zomato.com/bangalore/new-hilal-res...</td>\n",
       "      <td>10, HKP Road, Shivajinagar, Bangalore</td>\n",
       "      <td>New Hilal Restaurant</td>\n",
       "      <td>Yes</td>\n",
       "      <td>No</td>\n",
       "      <td>4.0 /5</td>\n",
       "      <td>111</td>\n",
       "      <td>080 22867300</td>\n",
       "      <td>Shivajinagar</td>\n",
       "      <td>Casual Dining</td>\n",
       "      <td>Ghee Rice, Butter Chicken, Hyderabadi Chicken,...</td>\n",
       "      <td>North Indian, Chinese, Mughlai</td>\n",
       "      <td>700</td>\n",
       "      <td>[('Rated 4.0', 'RATED\\n  This restaurant was o...</td>\n",
       "      <td>['Mutton Dabba Ghost', 'Mutton Biryani', 'Egg ...</td>\n",
       "      <td>Dine-out</td>\n",
       "      <td>MG Road</td>\n",
       "    </tr>\n",
       "    <tr>\n",
       "      <th>15</th>\n",
       "      <td>https://www.zomato.com/bangalore/banashankari-...</td>\n",
       "      <td>17/1, Ramalh Garden, Kadieranahall Circle, Nea...</td>\n",
       "      <td>Banashankari Nati Style</td>\n",
       "      <td>No</td>\n",
       "      <td>No</td>\n",
       "      <td>NaN</td>\n",
       "      <td>0</td>\n",
       "      <td>+91 9035141678\\r\\n+91 9742174293</td>\n",
       "      <td>Banashankari</td>\n",
       "      <td>Quick Bites</td>\n",
       "      <td>NaN</td>\n",
       "      <td>Biryani, Chinese, South Indian, North Indian</td>\n",
       "      <td>350</td>\n",
       "      <td>[]</td>\n",
       "      <td>[]</td>\n",
       "      <td>Dine-out</td>\n",
       "      <td>Basavanagudi</td>\n",
       "    </tr>\n",
       "    <tr>\n",
       "      <th>16</th>\n",
       "      <td>https://www.zomato.com/bangalore/kennys-restau...</td>\n",
       "      <td>29, Buddha Vihara Road, Frazer Town, Bangalore</td>\n",
       "      <td>Kenny's Restaurant</td>\n",
       "      <td>Yes</td>\n",
       "      <td>No</td>\n",
       "      <td>3.6/5</td>\n",
       "      <td>31</td>\n",
       "      <td>+91 9902704444</td>\n",
       "      <td>Frazer Town</td>\n",
       "      <td>Quick Bites</td>\n",
       "      <td>NaN</td>\n",
       "      <td>Chinese, North Indian</td>\n",
       "      <td>450</td>\n",
       "      <td>[('Rated 5.0', \"RATED\\n  The best Chinese food...</td>\n",
       "      <td>[]</td>\n",
       "      <td>Delivery</td>\n",
       "      <td>Church Street</td>\n",
       "    </tr>\n",
       "    <tr>\n",
       "      <th>17</th>\n",
       "      <td>https://www.zomato.com/bangalore/little-kolkat...</td>\n",
       "      <td>6/1, Pipe Line Road, Ejipura Main Road, Ejipur...</td>\n",
       "      <td>Little Kolkata</td>\n",
       "      <td>Yes</td>\n",
       "      <td>No</td>\n",
       "      <td>3.9 /5</td>\n",
       "      <td>96</td>\n",
       "      <td>+91 7349514383\\n+91 9535415192</td>\n",
       "      <td>Ejipura</td>\n",
       "      <td>Quick Bites</td>\n",
       "      <td>Chicken Curry, Fish, Thali, Rolls, Rasgulla, C...</td>\n",
       "      <td>Bengali, North Indian</td>\n",
       "      <td>500</td>\n",
       "      <td>[('Rated 5.0', \"RATED\\n  Being a Bengali in Ba...</td>\n",
       "      <td>[]</td>\n",
       "      <td>Dine-out</td>\n",
       "      <td>Koramangala 6th Block</td>\n",
       "    </tr>\n",
       "    <tr>\n",
       "      <th>18</th>\n",
       "      <td>https://www.zomato.com/bangalore/upsouth-malle...</td>\n",
       "      <td>3rd Floor, Mantri Square, Sampige Road, Malles...</td>\n",
       "      <td>Upsouth</td>\n",
       "      <td>Yes</td>\n",
       "      <td>No</td>\n",
       "      <td>4.2 /5</td>\n",
       "      <td>470</td>\n",
       "      <td>080 22667311</td>\n",
       "      <td>Malleshwaram</td>\n",
       "      <td>Food Court</td>\n",
       "      <td>Filter Coffee, Elaneer Mousse, Tea, Poori Bhaj...</td>\n",
       "      <td>South Indian</td>\n",
       "      <td>300</td>\n",
       "      <td>[('Rated 4.0', \"RATED\\n  Mantri has a huge foo...</td>\n",
       "      <td>[]</td>\n",
       "      <td>Dine-out</td>\n",
       "      <td>Rajajinagar</td>\n",
       "    </tr>\n",
       "    <tr>\n",
       "      <th>19</th>\n",
       "      <td>https://www.zomato.com/bangalore/cafe-vivacity...</td>\n",
       "      <td>2303, 21st Cross, K R Road, 2nd Stage, Banasha...</td>\n",
       "      <td>Cafe Vivacity</td>\n",
       "      <td>Yes</td>\n",
       "      <td>No</td>\n",
       "      <td>3.8 /5</td>\n",
       "      <td>91</td>\n",
       "      <td>080 26768182\\r\\n+91 9845704455</td>\n",
       "      <td>Banashankari</td>\n",
       "      <td>Cafe</td>\n",
       "      <td>Garlic Bread, Burgers, Sandwiches, Pizza, Hot ...</td>\n",
       "      <td>Cafe</td>\n",
       "      <td>650</td>\n",
       "      <td>[('Rated 2.0', 'RATED\\n  Not so good place as ...</td>\n",
       "      <td>['Choco Block Pancake', 'Death by Chocolate Pa...</td>\n",
       "      <td>Dine-out</td>\n",
       "      <td>Jayanagar</td>\n",
       "    </tr>\n",
       "    <tr>\n",
       "      <th>20</th>\n",
       "      <td>https://www.zomato.com/bangalore/fish-chain-el...</td>\n",
       "      <td>Kitchens@, 1st Floor Skywards Sun Park, Neelad...</td>\n",
       "      <td>Fish Chain</td>\n",
       "      <td>Yes</td>\n",
       "      <td>No</td>\n",
       "      <td>NEW</td>\n",
       "      <td>0</td>\n",
       "      <td>080 43334333</td>\n",
       "      <td>Electronic City</td>\n",
       "      <td>Takeaway, Delivery</td>\n",
       "      <td>NaN</td>\n",
       "      <td>Seafood, BBQ, Biryani</td>\n",
       "      <td>250</td>\n",
       "      <td>[('Rated 5.0', 'RATED\\n  I ordered from this p...</td>\n",
       "      <td>[]</td>\n",
       "      <td>Delivery</td>\n",
       "      <td>Electronic City</td>\n",
       "    </tr>\n",
       "    <tr>\n",
       "      <th>21</th>\n",
       "      <td>https://www.zomato.com/bangalore/rayans-biryan...</td>\n",
       "      <td>394/1, S.S Chambers, Anand Nagar, Outer Ring R...</td>\n",
       "      <td>Rayan's Biryani</td>\n",
       "      <td>No</td>\n",
       "      <td>No</td>\n",
       "      <td>3.6/5</td>\n",
       "      <td>26</td>\n",
       "      <td>+91 9945778786</td>\n",
       "      <td>Marathahalli</td>\n",
       "      <td>Quick Bites</td>\n",
       "      <td>NaN</td>\n",
       "      <td>Andhra, Biryani, Beverages, Kebab</td>\n",
       "      <td>450</td>\n",
       "      <td>[('Rated 2.0', \"RATED\\n  didn't get what i ord...</td>\n",
       "      <td>[]</td>\n",
       "      <td>Delivery</td>\n",
       "      <td>Brookefield</td>\n",
       "    </tr>\n",
       "    <tr>\n",
       "      <th>22</th>\n",
       "      <td>https://www.zomato.com/bangalore/chungs-chines...</td>\n",
       "      <td>13, 106, West Minster Building, Cunningham Roa...</td>\n",
       "      <td>Chung's Chinese Corner</td>\n",
       "      <td>Yes</td>\n",
       "      <td>No</td>\n",
       "      <td>3.4 /5</td>\n",
       "      <td>207</td>\n",
       "      <td>080 32211006\\n080 22204949</td>\n",
       "      <td>Cunningham Road</td>\n",
       "      <td>Casual Dining</td>\n",
       "      <td>Noodles, Honey Chilli Chicken, Crispy Chilli C...</td>\n",
       "      <td>Chinese, Asian, American, Seafood</td>\n",
       "      <td>600</td>\n",
       "      <td>[('Rated 1.0', \"RATED\\n  One needs to have lov...</td>\n",
       "      <td>[]</td>\n",
       "      <td>Dine-out</td>\n",
       "      <td>Residency Road</td>\n",
       "    </tr>\n",
       "    <tr>\n",
       "      <th>23</th>\n",
       "      <td>https://www.zomato.com/bangalore/sweet-truth-1...</td>\n",
       "      <td>69/1, Gowreesha Complex, Opposite Ananda Valma...</td>\n",
       "      <td>Sweet Truth</td>\n",
       "      <td>Yes</td>\n",
       "      <td>No</td>\n",
       "      <td>3.7/5</td>\n",
       "      <td>33</td>\n",
       "      <td>+91 7710055553</td>\n",
       "      <td>Bannerghatta Road</td>\n",
       "      <td>Bakery</td>\n",
       "      <td>NaN</td>\n",
       "      <td>Bakery, Desserts</td>\n",
       "      <td>500</td>\n",
       "      <td>[('Rated 5.0', 'RATED\\n  The name in itself is...</td>\n",
       "      <td>[]</td>\n",
       "      <td>Delivery</td>\n",
       "      <td>BTM</td>\n",
       "    </tr>\n",
       "    <tr>\n",
       "      <th>24</th>\n",
       "      <td>https://www.zomato.com/bangalore/woodys-commer...</td>\n",
       "      <td>177-178, Commercial Street, Bangalore</td>\n",
       "      <td>Woody's</td>\n",
       "      <td>No</td>\n",
       "      <td>No</td>\n",
       "      <td>2.5 /5</td>\n",
       "      <td>433</td>\n",
       "      <td>080 25596444\\n080 25582714</td>\n",
       "      <td>Commercial Street</td>\n",
       "      <td>Casual Dining</td>\n",
       "      <td>Maddur Vada, Idli, Thali, Tea, Butter Masala D...</td>\n",
       "      <td>Chinese, South Indian, North Indian</td>\n",
       "      <td>650</td>\n",
       "      <td>[('Rated 4.0', 'RATED\\n  One of the oldest and...</td>\n",
       "      <td>[]</td>\n",
       "      <td>Dine-out</td>\n",
       "      <td>Lavelle Road</td>\n",
       "    </tr>\n",
       "    <tr>\n",
       "      <th>25</th>\n",
       "      <td>https://www.zomato.com/bangalore/white-plate-m...</td>\n",
       "      <td>103, MG Road, Bangalore</td>\n",
       "      <td>White Plate</td>\n",
       "      <td>No</td>\n",
       "      <td>Yes</td>\n",
       "      <td>4.2 /5</td>\n",
       "      <td>264</td>\n",
       "      <td>080 49653403</td>\n",
       "      <td>MG Road</td>\n",
       "      <td>Casual Dining, Bar</td>\n",
       "      <td>Cocktails, Tom Yum Soup, Lobster Bisque, Lobst...</td>\n",
       "      <td>Thai, Continental, North Indian</td>\n",
       "      <td>1,500</td>\n",
       "      <td>[('Rated 4.0', 'RATED\\n  Went here on a weekda...</td>\n",
       "      <td>[]</td>\n",
       "      <td>Drinks &amp; nightlife</td>\n",
       "      <td>Residency Road</td>\n",
       "    </tr>\n",
       "    <tr>\n",
       "      <th>26</th>\n",
       "      <td>https://www.zomato.com/bangalore/udupi-nalapak...</td>\n",
       "      <td>55/2, Devarabisanahalli Ring Road, Off Sakra W...</td>\n",
       "      <td>Udupi Nalapaka</td>\n",
       "      <td>Yes</td>\n",
       "      <td>No</td>\n",
       "      <td>3.9 /5</td>\n",
       "      <td>41</td>\n",
       "      <td>+91 9945668630</td>\n",
       "      <td>Bellandur</td>\n",
       "      <td>Quick Bites</td>\n",
       "      <td>NaN</td>\n",
       "      <td>South Indian, North Indian, Chinese</td>\n",
       "      <td>400</td>\n",
       "      <td>[('Rated 4.0', 'RATED\\n  Good place to have de...</td>\n",
       "      <td>['Jeera Rice', 'Vegetable Fried Rice', 'Vegeta...</td>\n",
       "      <td>Delivery</td>\n",
       "      <td>Marathahalli</td>\n",
       "    </tr>\n",
       "    <tr>\n",
       "      <th>27</th>\n",
       "      <td>https://www.zomato.com/bangalore/mums-kitchen-...</td>\n",
       "      <td>31, 2nd Floor, 5th Main, Shantiniketan Layout,...</td>\n",
       "      <td>Mum?s Kitchen</td>\n",
       "      <td>Yes</td>\n",
       "      <td>No</td>\n",
       "      <td>3.5/5</td>\n",
       "      <td>118</td>\n",
       "      <td>+91 8827059708\\r\\n+91 9148014714</td>\n",
       "      <td>Marathahalli</td>\n",
       "      <td>Delivery</td>\n",
       "      <td>Paratha, Chole Bhature, Matar Paneer, Baingan ...</td>\n",
       "      <td>North Indian, South Indian</td>\n",
       "      <td>200</td>\n",
       "      <td>[('Rated 5.0', 'RATED\\n  I had ordered chhole ...</td>\n",
       "      <td>['Jeera Rice', 'Fried Khichdi With Dahi', 'Pla...</td>\n",
       "      <td>Delivery</td>\n",
       "      <td>Brookefield</td>\n",
       "    </tr>\n",
       "    <tr>\n",
       "      <th>28</th>\n",
       "      <td>https://www.zomato.com/bangalore/amravathi-res...</td>\n",
       "      <td>9, Maruthi Nagar, Madiwala, BTM, Bangalore</td>\n",
       "      <td>Amravathi Restaurants &amp; Caterers</td>\n",
       "      <td>No</td>\n",
       "      <td>No</td>\n",
       "      <td>3.1 /5</td>\n",
       "      <td>6</td>\n",
       "      <td>+91 9845727093</td>\n",
       "      <td>BTM</td>\n",
       "      <td>Quick Bites</td>\n",
       "      <td>NaN</td>\n",
       "      <td>North Indian, Chinese</td>\n",
       "      <td>400</td>\n",
       "      <td>[('Rated 3.0', \"RATED\\n  Chicken cusine and Ch...</td>\n",
       "      <td>[]</td>\n",
       "      <td>Delivery</td>\n",
       "      <td>Koramangala 7th Block</td>\n",
       "    </tr>\n",
       "    <tr>\n",
       "      <th>29</th>\n",
       "      <td>https://www.zomato.com/bangalore/ayda-persian-...</td>\n",
       "      <td>1, 1st Floor, Church Street, Bangalore</td>\n",
       "      <td>Ayda Persian Kitchen</td>\n",
       "      <td>Yes</td>\n",
       "      <td>No</td>\n",
       "      <td>3.9/5</td>\n",
       "      <td>224</td>\n",
       "      <td>080 41478209\\r\\n080 25586522</td>\n",
       "      <td>Church Street</td>\n",
       "      <td>Casual Dining</td>\n",
       "      <td>Roti, Naan, Butter Chicken, Biryani, Saffron R...</td>\n",
       "      <td>North Indian, Iranian</td>\n",
       "      <td>950</td>\n",
       "      <td>[('Rated 4.0', 'RATED\\n  This tiny hidden gem ...</td>\n",
       "      <td>[]</td>\n",
       "      <td>Dine-out</td>\n",
       "      <td>Brigade Road</td>\n",
       "    </tr>\n",
       "    <tr>\n",
       "      <th>...</th>\n",
       "      <td>...</td>\n",
       "      <td>...</td>\n",
       "      <td>...</td>\n",
       "      <td>...</td>\n",
       "      <td>...</td>\n",
       "      <td>...</td>\n",
       "      <td>...</td>\n",
       "      <td>...</td>\n",
       "      <td>...</td>\n",
       "      <td>...</td>\n",
       "      <td>...</td>\n",
       "      <td>...</td>\n",
       "      <td>...</td>\n",
       "      <td>...</td>\n",
       "      <td>...</td>\n",
       "      <td>...</td>\n",
       "      <td>...</td>\n",
       "    </tr>\n",
       "    <tr>\n",
       "      <th>51687</th>\n",
       "      <td>https://www.zomato.com/bangalore/somilan-steak...</td>\n",
       "      <td>52/2, Sujay's Pride, Church Street, Bangalore</td>\n",
       "      <td>Somilan Steak House</td>\n",
       "      <td>No</td>\n",
       "      <td>No</td>\n",
       "      <td>4.3/5</td>\n",
       "      <td>524</td>\n",
       "      <td>+91 8884680133\\r\\r\\n+91 6360926262</td>\n",
       "      <td>Church Street</td>\n",
       "      <td>Casual Dining</td>\n",
       "      <td>Salads, Beef Steak, Pork Chops, Crispy Pork, W...</td>\n",
       "      <td>North Eastern, Asian, Naga, Steak, Momos</td>\n",
       "      <td>800</td>\n",
       "      <td>[('Rated 5.0', \"RATED\\n  Undoubtedly I can say...</td>\n",
       "      <td>[]</td>\n",
       "      <td>Dine-out</td>\n",
       "      <td>Brigade Road</td>\n",
       "    </tr>\n",
       "    <tr>\n",
       "      <th>51688</th>\n",
       "      <td>https://www.zomato.com/bangalore/anna-kuteera-...</td>\n",
       "      <td>14, St. Marks Road, Bangalore</td>\n",
       "      <td>Anna Kuteera</td>\n",
       "      <td>Yes</td>\n",
       "      <td>No</td>\n",
       "      <td>3.8/5</td>\n",
       "      <td>62</td>\n",
       "      <td>+91 8095011126</td>\n",
       "      <td>St. Marks Road</td>\n",
       "      <td>Casual Dining</td>\n",
       "      <td>Panner Tikka, Coffee, Vada, Idli</td>\n",
       "      <td>South Indian, North Indian, Chinese</td>\n",
       "      <td>400</td>\n",
       "      <td>[('Rated 4.0', 'RATED\\n  Scrumptious scrumptio...</td>\n",
       "      <td>[]</td>\n",
       "      <td>Delivery</td>\n",
       "      <td>Church Street</td>\n",
       "    </tr>\n",
       "    <tr>\n",
       "      <th>51689</th>\n",
       "      <td>https://www.zomato.com/bangalore/ruh-bellandur...</td>\n",
       "      <td>4th Floor, Ganapa Tower, Sarjapur Outer Ring R...</td>\n",
       "      <td>Ruh</td>\n",
       "      <td>Yes</td>\n",
       "      <td>Yes</td>\n",
       "      <td>4.1/5</td>\n",
       "      <td>3020</td>\n",
       "      <td>+91 9972305871\\r\\r\\r\\r\\n+91 9972934777</td>\n",
       "      <td>Bellandur</td>\n",
       "      <td>Casual Dining</td>\n",
       "      <td>Fattoush Salad, Mutton Biryani, Mutton Roganjo...</td>\n",
       "      <td>North Indian, Mughlai, Mediterranean, Iranian</td>\n",
       "      <td>1,000</td>\n",
       "      <td>[('Rated 4.0', 'RATED\\n  This is a beautiful p...</td>\n",
       "      <td>[]</td>\n",
       "      <td>Dine-out</td>\n",
       "      <td>Bellandur</td>\n",
       "    </tr>\n",
       "    <tr>\n",
       "      <th>51690</th>\n",
       "      <td>https://www.zomato.com/bangalore/half-girlfrie...</td>\n",
       "      <td>Ground floor 24, 4th main, Narayan Reddy Layou...</td>\n",
       "      <td>Half Girlfriend</td>\n",
       "      <td>Yes</td>\n",
       "      <td>No</td>\n",
       "      <td>NEW</td>\n",
       "      <td>0</td>\n",
       "      <td>+91 8050008155</td>\n",
       "      <td>Electronic City</td>\n",
       "      <td>Quick Bites</td>\n",
       "      <td>NaN</td>\n",
       "      <td>Biryani, North Indian, Chinese, Fast Food</td>\n",
       "      <td>600</td>\n",
       "      <td>[]</td>\n",
       "      <td>[]</td>\n",
       "      <td>Delivery</td>\n",
       "      <td>Electronic City</td>\n",
       "    </tr>\n",
       "    <tr>\n",
       "      <th>51691</th>\n",
       "      <td>https://www.zomato.com/bangalore/mandya-gowdru...</td>\n",
       "      <td>7th Cross Road, Agara Village, 1st Sector, HSR...</td>\n",
       "      <td>Mandya Gowdru Donne Biriyani</td>\n",
       "      <td>Yes</td>\n",
       "      <td>No</td>\n",
       "      <td>3.8/5</td>\n",
       "      <td>282</td>\n",
       "      <td>+91 9686715392\\r\\r\\n+91 9945409389</td>\n",
       "      <td>HSR</td>\n",
       "      <td>Quick Bites</td>\n",
       "      <td>NaN</td>\n",
       "      <td>Biryani, South Indian</td>\n",
       "      <td>350</td>\n",
       "      <td>[('Rated 3.0', \"RATED\\n  Street shop and a qui...</td>\n",
       "      <td>[]</td>\n",
       "      <td>Delivery</td>\n",
       "      <td>Koramangala 4th Block</td>\n",
       "    </tr>\n",
       "    <tr>\n",
       "      <th>51692</th>\n",
       "      <td>https://www.zomato.com/bangalore/goli-vada-pav...</td>\n",
       "      <td>1004, 9th Main Road, 7th Sector, HSR, Bangalore</td>\n",
       "      <td>Goli Vada Pav No. 1</td>\n",
       "      <td>Yes</td>\n",
       "      <td>No</td>\n",
       "      <td>3.8/5</td>\n",
       "      <td>69</td>\n",
       "      <td>080 48660854\\r\\n+91 8787349075</td>\n",
       "      <td>HSR</td>\n",
       "      <td>Quick Bites</td>\n",
       "      <td>NaN</td>\n",
       "      <td>Street Food</td>\n",
       "      <td>200</td>\n",
       "      <td>[('Rated 4.0', 'RATED\\n  Been here many times....</td>\n",
       "      <td>[]</td>\n",
       "      <td>Dine-out</td>\n",
       "      <td>HSR</td>\n",
       "    </tr>\n",
       "    <tr>\n",
       "      <th>51693</th>\n",
       "      <td>https://www.zomato.com/bangalore/sri-raghavend...</td>\n",
       "      <td>133, Chick Bazar Road Shivaji Circle, Shivajin...</td>\n",
       "      <td>Sri Raghavendra Tiffin Center</td>\n",
       "      <td>No</td>\n",
       "      <td>No</td>\n",
       "      <td>NaN</td>\n",
       "      <td>0</td>\n",
       "      <td>+91 9742238721</td>\n",
       "      <td>Shivajinagar</td>\n",
       "      <td>Quick Bites</td>\n",
       "      <td>NaN</td>\n",
       "      <td>South Indian</td>\n",
       "      <td>200</td>\n",
       "      <td>[]</td>\n",
       "      <td>[]</td>\n",
       "      <td>Dine-out</td>\n",
       "      <td>Residency Road</td>\n",
       "    </tr>\n",
       "    <tr>\n",
       "      <th>51694</th>\n",
       "      <td>https://www.zomato.com/bangalore/new-hilal-res...</td>\n",
       "      <td>15, 5th Main Bescom Road, Kullapa Circle, Kamm...</td>\n",
       "      <td>New Hilal Restaurant</td>\n",
       "      <td>No</td>\n",
       "      <td>No</td>\n",
       "      <td>NaN</td>\n",
       "      <td>0</td>\n",
       "      <td>+91 9538771888</td>\n",
       "      <td>Kammanahalli</td>\n",
       "      <td>Casual Dining</td>\n",
       "      <td>NaN</td>\n",
       "      <td>Biryani, Chinese, Kebab</td>\n",
       "      <td>550</td>\n",
       "      <td>[('Rated 1.0', \"RATED\\n  Nobody god dam picks ...</td>\n",
       "      <td>[]</td>\n",
       "      <td>Delivery</td>\n",
       "      <td>Kammanahalli</td>\n",
       "    </tr>\n",
       "    <tr>\n",
       "      <th>51695</th>\n",
       "      <td>https://www.zomato.com/bangalore/the-pakoda-sh...</td>\n",
       "      <td>Royal suits hotel, Kalyan Nagar.</td>\n",
       "      <td>The Pakoda Shop</td>\n",
       "      <td>Yes</td>\n",
       "      <td>No</td>\n",
       "      <td>3.4/5</td>\n",
       "      <td>12</td>\n",
       "      <td>+91 8088922298</td>\n",
       "      <td>Kalyan Nagar</td>\n",
       "      <td>Delivery</td>\n",
       "      <td>NaN</td>\n",
       "      <td>Street Food</td>\n",
       "      <td>150</td>\n",
       "      <td>[('Rated 3.0', 'RATED\\n  Very less quantity fo...</td>\n",
       "      <td>[]</td>\n",
       "      <td>Delivery</td>\n",
       "      <td>Kammanahalli</td>\n",
       "    </tr>\n",
       "    <tr>\n",
       "      <th>51696</th>\n",
       "      <td>https://www.zomato.com/bangalore/maza-e-hind-b...</td>\n",
       "      <td>1, Sai Baba Temple Road, Manjunatha Layout, Gr...</td>\n",
       "      <td>Maza E Hind</td>\n",
       "      <td>No</td>\n",
       "      <td>No</td>\n",
       "      <td>NaN</td>\n",
       "      <td>0</td>\n",
       "      <td>+91 7337804563</td>\n",
       "      <td>Bellandur</td>\n",
       "      <td>Quick Bites</td>\n",
       "      <td>NaN</td>\n",
       "      <td>North Indian</td>\n",
       "      <td>300</td>\n",
       "      <td>[]</td>\n",
       "      <td>[]</td>\n",
       "      <td>Dine-out</td>\n",
       "      <td>Bellandur</td>\n",
       "    </tr>\n",
       "    <tr>\n",
       "      <th>51697</th>\n",
       "      <td>https://www.zomato.com/bangalore/raenss-cafe-i...</td>\n",
       "      <td>1210, Park Avenue Building, 100 Feet Road, Ind...</td>\n",
       "      <td>Raenss Cafe</td>\n",
       "      <td>Yes</td>\n",
       "      <td>No</td>\n",
       "      <td>2.4 /5</td>\n",
       "      <td>128</td>\n",
       "      <td>080 41133234\\n080 49594650</td>\n",
       "      <td>Indiranagar</td>\n",
       "      <td>Cafe</td>\n",
       "      <td>Burgers, Hot Dog, Coffee, Noodles, Hot Chocola...</td>\n",
       "      <td>Cafe, Fast Food</td>\n",
       "      <td>600</td>\n",
       "      <td>[('Rated 2.0', 'RATED\\n  The food was a big di...</td>\n",
       "      <td>['Waffle in Ice Cream and Choco Sauce', 'Nutty...</td>\n",
       "      <td>Cafes</td>\n",
       "      <td>Old Airport Road</td>\n",
       "    </tr>\n",
       "    <tr>\n",
       "      <th>51698</th>\n",
       "      <td>https://www.zomato.com/bangalore/cool-bites-ko...</td>\n",
       "      <td>100, 1st Cross, 2nd Main Chikku Lakshmi Layout...</td>\n",
       "      <td>Cool Bites</td>\n",
       "      <td>Yes</td>\n",
       "      <td>No</td>\n",
       "      <td>NaN</td>\n",
       "      <td>0</td>\n",
       "      <td>+91 9645786876</td>\n",
       "      <td>Koramangala 4th Block</td>\n",
       "      <td>Quick Bites</td>\n",
       "      <td>NaN</td>\n",
       "      <td>Fast Food, Juices</td>\n",
       "      <td>200</td>\n",
       "      <td>[]</td>\n",
       "      <td>[]</td>\n",
       "      <td>Delivery</td>\n",
       "      <td>Jayanagar</td>\n",
       "    </tr>\n",
       "    <tr>\n",
       "      <th>51699</th>\n",
       "      <td>https://www.zomato.com/bangalore/royal-fast-fo...</td>\n",
       "      <td>23 main Ejipura main Road, Bangalore</td>\n",
       "      <td>Royal Fast Food</td>\n",
       "      <td>No</td>\n",
       "      <td>No</td>\n",
       "      <td>NaN</td>\n",
       "      <td>0</td>\n",
       "      <td>+91 9986153272</td>\n",
       "      <td>Ejipura</td>\n",
       "      <td>Quick Bites</td>\n",
       "      <td>NaN</td>\n",
       "      <td>South Indian, Chinese</td>\n",
       "      <td>300</td>\n",
       "      <td>[]</td>\n",
       "      <td>[]</td>\n",
       "      <td>Dine-out</td>\n",
       "      <td>Koramangala 4th Block</td>\n",
       "    </tr>\n",
       "    <tr>\n",
       "      <th>51700</th>\n",
       "      <td>https://www.zomato.com/bangalore/deccan-spices...</td>\n",
       "      <td>1, Nissan House, Palm Grove Main Road, Austin ...</td>\n",
       "      <td>Deccan Spices</td>\n",
       "      <td>Yes</td>\n",
       "      <td>No</td>\n",
       "      <td>3.7/5</td>\n",
       "      <td>23</td>\n",
       "      <td>080 25545252</td>\n",
       "      <td>Richmond Road</td>\n",
       "      <td>Quick Bites</td>\n",
       "      <td>NaN</td>\n",
       "      <td>Biryani, Mughlai, Fast Food</td>\n",
       "      <td>500</td>\n",
       "      <td>[('Rated 4.0', 'RATED\\n  food is really good. ...</td>\n",
       "      <td>[]</td>\n",
       "      <td>Delivery</td>\n",
       "      <td>Brigade Road</td>\n",
       "    </tr>\n",
       "    <tr>\n",
       "      <th>51701</th>\n",
       "      <td>https://www.zomato.com/bangalore/nutri-fit-hsr...</td>\n",
       "      <td>526/A &amp; 517/A, First Floor, Ganesha Complex, 1...</td>\n",
       "      <td>Nutri Fit</td>\n",
       "      <td>Yes</td>\n",
       "      <td>No</td>\n",
       "      <td>3.4/5</td>\n",
       "      <td>5</td>\n",
       "      <td>+91 7892674303</td>\n",
       "      <td>HSR</td>\n",
       "      <td>Takeaway, Delivery</td>\n",
       "      <td>NaN</td>\n",
       "      <td>Healthy Food</td>\n",
       "      <td>300</td>\n",
       "      <td>[('Rated 5.0', 'RATED\\n  Best by far in hygien...</td>\n",
       "      <td>[]</td>\n",
       "      <td>Delivery</td>\n",
       "      <td>Koramangala 4th Block</td>\n",
       "    </tr>\n",
       "    <tr>\n",
       "      <th>51702</th>\n",
       "      <td>https://www.zomato.com/bangalore/chinita-real-...</td>\n",
       "      <td>25, 1st Floor, 5th Cross, Koramangala 5th Bloc...</td>\n",
       "      <td>Chinita Real Mexican Food</td>\n",
       "      <td>No</td>\n",
       "      <td>No</td>\n",
       "      <td>4.5 /5</td>\n",
       "      <td>733</td>\n",
       "      <td>+91 9591038009\\r\\n080 43711400</td>\n",
       "      <td>Koramangala 5th Block</td>\n",
       "      <td>Casual Dining</td>\n",
       "      <td>Tacos, Churros, Nachos, Salad, Enchiladas, Bur...</td>\n",
       "      <td>Mexican</td>\n",
       "      <td>1,200</td>\n",
       "      <td>[('Rated 4.0', \"RATED\\n  Been to this place co...</td>\n",
       "      <td>[]</td>\n",
       "      <td>Dine-out</td>\n",
       "      <td>Koramangala 5th Block</td>\n",
       "    </tr>\n",
       "    <tr>\n",
       "      <th>51703</th>\n",
       "      <td>https://www.zomato.com/bangalore/aromas-hydera...</td>\n",
       "      <td>Opposite Manyatha Tech Park, Beside Honda Serv...</td>\n",
       "      <td>Aroma's Hyderabad House</td>\n",
       "      <td>Yes</td>\n",
       "      <td>No</td>\n",
       "      <td>4.2/5</td>\n",
       "      <td>533</td>\n",
       "      <td>+91 8970588888\\r\\n+91 8970688888</td>\n",
       "      <td>Nagawara</td>\n",
       "      <td>Casual Dining</td>\n",
       "      <td>Vegetable Biryani, Hyderabadi Biryani, Chicken...</td>\n",
       "      <td>Mughlai, Biryani, North Indian</td>\n",
       "      <td>800</td>\n",
       "      <td>[('Rated 4.0', 'RATED\\n  Nice and cozy place t...</td>\n",
       "      <td>[]</td>\n",
       "      <td>Delivery</td>\n",
       "      <td>Kammanahalli</td>\n",
       "    </tr>\n",
       "    <tr>\n",
       "      <th>51704</th>\n",
       "      <td>https://www.zomato.com/bangalore/birbal-darbar...</td>\n",
       "      <td>18/1C, Doddakannelli, Near Decathlon, Opposite...</td>\n",
       "      <td>Birbal Darbar</td>\n",
       "      <td>No</td>\n",
       "      <td>No</td>\n",
       "      <td>4.1 /5</td>\n",
       "      <td>317</td>\n",
       "      <td>089 51074700</td>\n",
       "      <td>Sarjapur Road</td>\n",
       "      <td>Casual Dining</td>\n",
       "      <td>Tandoori Chicken, Veg Kolhapuri, Jal-jeera, Ch...</td>\n",
       "      <td>North Indian, Chinese, Biryani</td>\n",
       "      <td>600</td>\n",
       "      <td>[('Rated 4.0', 'RATED\\n  Nice place and a good...</td>\n",
       "      <td>[]</td>\n",
       "      <td>Delivery</td>\n",
       "      <td>Sarjapur Road</td>\n",
       "    </tr>\n",
       "    <tr>\n",
       "      <th>51705</th>\n",
       "      <td>https://www.zomato.com/bangalore/the-cake-fact...</td>\n",
       "      <td>1379/A, 13th Cross Road, West of Chord Road, 2...</td>\n",
       "      <td>The Cake Factory</td>\n",
       "      <td>No</td>\n",
       "      <td>No</td>\n",
       "      <td>3.4 /5</td>\n",
       "      <td>4</td>\n",
       "      <td>+91 9538858359\\n+91 9916777089</td>\n",
       "      <td>Rajajinagar</td>\n",
       "      <td>Bakery</td>\n",
       "      <td>NaN</td>\n",
       "      <td>Bakery</td>\n",
       "      <td>300</td>\n",
       "      <td>[('Rated 5.0', 'RATED\\n  I just love their cak...</td>\n",
       "      <td>[]</td>\n",
       "      <td>Delivery</td>\n",
       "      <td>Rajajinagar</td>\n",
       "    </tr>\n",
       "    <tr>\n",
       "      <th>51706</th>\n",
       "      <td>https://www.zomato.com/bangalore/juice-lounge-...</td>\n",
       "      <td>439, Ground Floor, Near Poorvika Showroom, 6th...</td>\n",
       "      <td>Juice Lounge</td>\n",
       "      <td>Yes</td>\n",
       "      <td>No</td>\n",
       "      <td>3.1 /5</td>\n",
       "      <td>28</td>\n",
       "      <td>+91 8618401501</td>\n",
       "      <td>BTM</td>\n",
       "      <td>Beverage Shop</td>\n",
       "      <td>NaN</td>\n",
       "      <td>Beverages, Healthy Food</td>\n",
       "      <td>250</td>\n",
       "      <td>[('Rated 3.0', 'RATED\\n  I had got my order de...</td>\n",
       "      <td>[]</td>\n",
       "      <td>Delivery</td>\n",
       "      <td>Koramangala 6th Block</td>\n",
       "    </tr>\n",
       "    <tr>\n",
       "      <th>51707</th>\n",
       "      <td>https://www.zomato.com/SarjapurSocial?context=...</td>\n",
       "      <td>22, 57/58/1/2, Saket Callipolis, Doddakannhall...</td>\n",
       "      <td>Sarjapur Social</td>\n",
       "      <td>Yes</td>\n",
       "      <td>No</td>\n",
       "      <td>4.6 /5</td>\n",
       "      <td>1324</td>\n",
       "      <td>+91 9152017988</td>\n",
       "      <td>Sarjapur Road</td>\n",
       "      <td>Bar, Casual Dining</td>\n",
       "      <td>Cocktails, Mocktails, Momos, Chilli Chicken, C...</td>\n",
       "      <td>American, North Indian, Chinese, Finger Food</td>\n",
       "      <td>1,500</td>\n",
       "      <td>[('Rated 5.0', 'RATED\\n  Great place to hang o...</td>\n",
       "      <td>['Chilli Paneer Black Pepper China Box', 'Chil...</td>\n",
       "      <td>Pubs and bars</td>\n",
       "      <td>Sarjapur Road</td>\n",
       "    </tr>\n",
       "    <tr>\n",
       "      <th>51708</th>\n",
       "      <td>https://www.zomato.com/bangalore/akshaya-sweet...</td>\n",
       "      <td>1004, 26th Main, Opposite HDFC Bank, 4th T Blo...</td>\n",
       "      <td>Akshaya Sweets &amp; Chats</td>\n",
       "      <td>Yes</td>\n",
       "      <td>No</td>\n",
       "      <td>NaN</td>\n",
       "      <td>0</td>\n",
       "      <td>+91 9986000554\\n+91 9886730461</td>\n",
       "      <td>Jayanagar</td>\n",
       "      <td>Sweet Shop</td>\n",
       "      <td>NaN</td>\n",
       "      <td>Mithai, Street Food</td>\n",
       "      <td>200</td>\n",
       "      <td>[('Rated 5.0', 'RATED\\n  Ok now this particula...</td>\n",
       "      <td>[]</td>\n",
       "      <td>Delivery</td>\n",
       "      <td>Koramangala 7th Block</td>\n",
       "    </tr>\n",
       "    <tr>\n",
       "      <th>51709</th>\n",
       "      <td>https://www.zomato.com/bangalore/maria-taste-c...</td>\n",
       "      <td>1st Main, Sree Ramanjaneya Layout, Marathahall...</td>\n",
       "      <td>Maria Taste Circle</td>\n",
       "      <td>Yes</td>\n",
       "      <td>No</td>\n",
       "      <td>3.9 /5</td>\n",
       "      <td>671</td>\n",
       "      <td>+91 9035520077\\n+91 9035520088</td>\n",
       "      <td>Marathahalli</td>\n",
       "      <td>Casual Dining</td>\n",
       "      <td>Appam, Paratha, Crab Masala, Tea, Mutton Stew,...</td>\n",
       "      <td>South Indian, North Indian, Kerala, Seafood</td>\n",
       "      <td>450</td>\n",
       "      <td>[('Rated 3.0', 'RATED\\n  This one is a decent ...</td>\n",
       "      <td>[]</td>\n",
       "      <td>Dine-out</td>\n",
       "      <td>Marathahalli</td>\n",
       "    </tr>\n",
       "    <tr>\n",
       "      <th>51710</th>\n",
       "      <td>https://www.zomato.com/bangalore/easy-bites-jp...</td>\n",
       "      <td>1260 SY 35/4 SJR Tower's, 24th Main Puttanhall...</td>\n",
       "      <td>Easy Bites</td>\n",
       "      <td>Yes</td>\n",
       "      <td>No</td>\n",
       "      <td>4.1/5</td>\n",
       "      <td>63</td>\n",
       "      <td>080 43334321</td>\n",
       "      <td>JP Nagar</td>\n",
       "      <td>Takeaway, Delivery</td>\n",
       "      <td>Sandwich, Crispy Chicken, French Fries</td>\n",
       "      <td>Fast Food, Sandwich</td>\n",
       "      <td>300</td>\n",
       "      <td>[('Rated 1.0', \"RATED\\n  I ordered three tawa ...</td>\n",
       "      <td>['Fitshack', 'Snack Pop Box', 'Popullicious Co...</td>\n",
       "      <td>Delivery</td>\n",
       "      <td>Bannerghatta Road</td>\n",
       "    </tr>\n",
       "    <tr>\n",
       "      <th>51711</th>\n",
       "      <td>https://www.zomato.com/bangalore/olivers-pub-d...</td>\n",
       "      <td>ITPL Ascendas Park Square Mall, ITPL, First Fl...</td>\n",
       "      <td>Oliver's Pub &amp; Diner</td>\n",
       "      <td>Yes</td>\n",
       "      <td>Yes</td>\n",
       "      <td>3.9 /5</td>\n",
       "      <td>548</td>\n",
       "      <td>+91 8043691111\\n+91 8028026519</td>\n",
       "      <td>Whitefield</td>\n",
       "      <td>Pub, Casual Dining</td>\n",
       "      <td>Pizza, Beer, Cocktails, Nachos, Pasta, Moo Bur...</td>\n",
       "      <td>Finger Food, American, Continental, Burger, Pizza</td>\n",
       "      <td>1,500</td>\n",
       "      <td>[('Rated 4.0', \"RATED\\n  I had :-\\n\\n1. Italia...</td>\n",
       "      <td>['Chicken Wings', 'Pepper Chicken', 'Chicken S...</td>\n",
       "      <td>Dine-out</td>\n",
       "      <td>Whitefield</td>\n",
       "    </tr>\n",
       "    <tr>\n",
       "      <th>51712</th>\n",
       "      <td>https://www.zomato.com/bangalore/matteo-coffea...</td>\n",
       "      <td>2, Church Street, Bangalore</td>\n",
       "      <td>Matteo Coffea</td>\n",
       "      <td>No</td>\n",
       "      <td>No</td>\n",
       "      <td>4.4 /5</td>\n",
       "      <td>2652</td>\n",
       "      <td>080 43336000</td>\n",
       "      <td>Church Street</td>\n",
       "      <td>Cafe</td>\n",
       "      <td>Coffee, Pasta, Donut, Salads, Choco Brownie Sh...</td>\n",
       "      <td>Cafe</td>\n",
       "      <td>600</td>\n",
       "      <td>[('Rated 3.0', 'RATED\\n  Its a huge Cafe opp. ...</td>\n",
       "      <td>[]</td>\n",
       "      <td>Dine-out</td>\n",
       "      <td>MG Road</td>\n",
       "    </tr>\n",
       "    <tr>\n",
       "      <th>51713</th>\n",
       "      <td>https://www.zomato.com/bangalore/bengaluru-bak...</td>\n",
       "      <td>JW Marriott Bengaluru, 24/1, Vittal Mallya Roa...</td>\n",
       "      <td>Bengaluru Baking Company - JW Marriott Bengaluru</td>\n",
       "      <td>No</td>\n",
       "      <td>No</td>\n",
       "      <td>4.3 /5</td>\n",
       "      <td>526</td>\n",
       "      <td>+91 9900244769\\n080 67188511</td>\n",
       "      <td>Lavelle Road</td>\n",
       "      <td>Bakery, Cafe</td>\n",
       "      <td>Coffee, Fruit Tart, Croissants, Eclair, Sandwi...</td>\n",
       "      <td>Salad, Bakery, Cafe, Sandwich, Italian, Burger</td>\n",
       "      <td>1,400</td>\n",
       "      <td>[('Rated 4.0', 'RATED\\n  I recall dining here ...</td>\n",
       "      <td>[]</td>\n",
       "      <td>Cafes</td>\n",
       "      <td>Lavelle Road</td>\n",
       "    </tr>\n",
       "    <tr>\n",
       "      <th>51714</th>\n",
       "      <td>https://www.zomato.com/bangalore/bao-grills-ba...</td>\n",
       "      <td>172/1, Unit TF 17, 3rd Floor Vega City Mall, S...</td>\n",
       "      <td>Bao &amp; Grills</td>\n",
       "      <td>No</td>\n",
       "      <td>No</td>\n",
       "      <td>NEW</td>\n",
       "      <td>0</td>\n",
       "      <td>+91 9986969992</td>\n",
       "      <td>Bannerghatta Road</td>\n",
       "      <td>Food Court</td>\n",
       "      <td>NaN</td>\n",
       "      <td>Chinese, Asian</td>\n",
       "      <td>300</td>\n",
       "      <td>[('Rated 4.0', 'RATED\\n  They are located at t...</td>\n",
       "      <td>[]</td>\n",
       "      <td>Dine-out</td>\n",
       "      <td>JP Nagar</td>\n",
       "    </tr>\n",
       "    <tr>\n",
       "      <th>51715</th>\n",
       "      <td>https://www.zomato.com/bangalore/bramhin-tiffi...</td>\n",
       "      <td>648 Ground Floor, Janardhan Towers Opposite El...</td>\n",
       "      <td>Bramhin Tiffins</td>\n",
       "      <td>No</td>\n",
       "      <td>No</td>\n",
       "      <td>3.6/5</td>\n",
       "      <td>12</td>\n",
       "      <td>+91 9886497597</td>\n",
       "      <td>JP Nagar</td>\n",
       "      <td>Quick Bites</td>\n",
       "      <td>NaN</td>\n",
       "      <td>South Indian</td>\n",
       "      <td>150</td>\n",
       "      <td>[('Rated 4.0', 'RATED\\n  No nonsense menu to s...</td>\n",
       "      <td>[]</td>\n",
       "      <td>Dine-out</td>\n",
       "      <td>JP Nagar</td>\n",
       "    </tr>\n",
       "    <tr>\n",
       "      <th>51716</th>\n",
       "      <td>https://www.zomato.com/bangalore/cafe-terra-ko...</td>\n",
       "      <td>1004, Wipro Signal, 80 Feet Road, 1st Block, K...</td>\n",
       "      <td>Cafe Terra</td>\n",
       "      <td>Yes</td>\n",
       "      <td>No</td>\n",
       "      <td>4.1 /5</td>\n",
       "      <td>778</td>\n",
       "      <td>080 41313553\\r\\n+91 9739477277</td>\n",
       "      <td>Koramangala 1st Block</td>\n",
       "      <td>Cafe</td>\n",
       "      <td>English Breakfast, Waffles, Chocolate Cake, Fr...</td>\n",
       "      <td>Cafe, Continental</td>\n",
       "      <td>700</td>\n",
       "      <td>[('Rated 4.0', 'RATED\\n  Literally, all day br...</td>\n",
       "      <td>['Oats with Honey, Fruit and Nuts', 'Veg Engli...</td>\n",
       "      <td>Delivery</td>\n",
       "      <td>Koramangala 5th Block</td>\n",
       "    </tr>\n",
       "  </tbody>\n",
       "</table>\n",
       "<p>51717 rows × 17 columns</p>\n",
       "</div>"
      ],
      "text/plain": [
       "                                                     url  \\\n",
       "0      https://www.zomato.com/bangalore/cafe-azzure-m...   \n",
       "1      https://www.zomato.com/bangalore/koshe-kosha-k...   \n",
       "2      https://www.zomato.com/bangalore/toscano-lavel...   \n",
       "3      https://www.zomato.com/bangalore/pizza-palace-...   \n",
       "4      https://www.zomato.com/bangalore/rescafe-resid...   \n",
       "5      https://www.zomato.com/bangalore/five-senses-u...   \n",
       "6      https://www.zomato.com/bangalore/meghana-birya...   \n",
       "7      https://www.zomato.com/bangalore/swathi-deluxe...   \n",
       "8      https://www.zomato.com/bangalore/the-wok-white...   \n",
       "9      https://www.zomato.com/bangalore/north-indian-...   \n",
       "10     https://www.zomato.com/bangalore/skywalk-resto...   \n",
       "11     https://www.zomato.com/bangalore/marhaba-nagaw...   \n",
       "12     https://www.zomato.com/bangalore/zaica-dine-wi...   \n",
       "13     https://www.zomato.com/bangalore/the-chocolate...   \n",
       "14     https://www.zomato.com/bangalore/new-hilal-res...   \n",
       "15     https://www.zomato.com/bangalore/banashankari-...   \n",
       "16     https://www.zomato.com/bangalore/kennys-restau...   \n",
       "17     https://www.zomato.com/bangalore/little-kolkat...   \n",
       "18     https://www.zomato.com/bangalore/upsouth-malle...   \n",
       "19     https://www.zomato.com/bangalore/cafe-vivacity...   \n",
       "20     https://www.zomato.com/bangalore/fish-chain-el...   \n",
       "21     https://www.zomato.com/bangalore/rayans-biryan...   \n",
       "22     https://www.zomato.com/bangalore/chungs-chines...   \n",
       "23     https://www.zomato.com/bangalore/sweet-truth-1...   \n",
       "24     https://www.zomato.com/bangalore/woodys-commer...   \n",
       "25     https://www.zomato.com/bangalore/white-plate-m...   \n",
       "26     https://www.zomato.com/bangalore/udupi-nalapak...   \n",
       "27     https://www.zomato.com/bangalore/mums-kitchen-...   \n",
       "28     https://www.zomato.com/bangalore/amravathi-res...   \n",
       "29     https://www.zomato.com/bangalore/ayda-persian-...   \n",
       "...                                                  ...   \n",
       "51687  https://www.zomato.com/bangalore/somilan-steak...   \n",
       "51688  https://www.zomato.com/bangalore/anna-kuteera-...   \n",
       "51689  https://www.zomato.com/bangalore/ruh-bellandur...   \n",
       "51690  https://www.zomato.com/bangalore/half-girlfrie...   \n",
       "51691  https://www.zomato.com/bangalore/mandya-gowdru...   \n",
       "51692  https://www.zomato.com/bangalore/goli-vada-pav...   \n",
       "51693  https://www.zomato.com/bangalore/sri-raghavend...   \n",
       "51694  https://www.zomato.com/bangalore/new-hilal-res...   \n",
       "51695  https://www.zomato.com/bangalore/the-pakoda-sh...   \n",
       "51696  https://www.zomato.com/bangalore/maza-e-hind-b...   \n",
       "51697  https://www.zomato.com/bangalore/raenss-cafe-i...   \n",
       "51698  https://www.zomato.com/bangalore/cool-bites-ko...   \n",
       "51699  https://www.zomato.com/bangalore/royal-fast-fo...   \n",
       "51700  https://www.zomato.com/bangalore/deccan-spices...   \n",
       "51701  https://www.zomato.com/bangalore/nutri-fit-hsr...   \n",
       "51702  https://www.zomato.com/bangalore/chinita-real-...   \n",
       "51703  https://www.zomato.com/bangalore/aromas-hydera...   \n",
       "51704  https://www.zomato.com/bangalore/birbal-darbar...   \n",
       "51705  https://www.zomato.com/bangalore/the-cake-fact...   \n",
       "51706  https://www.zomato.com/bangalore/juice-lounge-...   \n",
       "51707  https://www.zomato.com/SarjapurSocial?context=...   \n",
       "51708  https://www.zomato.com/bangalore/akshaya-sweet...   \n",
       "51709  https://www.zomato.com/bangalore/maria-taste-c...   \n",
       "51710  https://www.zomato.com/bangalore/easy-bites-jp...   \n",
       "51711  https://www.zomato.com/bangalore/olivers-pub-d...   \n",
       "51712  https://www.zomato.com/bangalore/matteo-coffea...   \n",
       "51713  https://www.zomato.com/bangalore/bengaluru-bak...   \n",
       "51714  https://www.zomato.com/bangalore/bao-grills-ba...   \n",
       "51715  https://www.zomato.com/bangalore/bramhin-tiffi...   \n",
       "51716  https://www.zomato.com/bangalore/cafe-terra-ko...   \n",
       "\n",
       "                                                 address  \\\n",
       "0      52, Brigade Road, Haridevpur, Shanthala Nagar,...   \n",
       "1      1016, 1st Floor, 80 Feet Road, Koramangala 1st...   \n",
       "2      2nd Floor, UB City, Vittal Mallya Road, Lavell...   \n",
       "3      Hongasandra, 1st Main Road, Bommanahalli, Bang...   \n",
       "4               Devatha Plaza, Residency Road, Bangalore   \n",
       "5      9, Lake Square, Kensington Road, SIndhi Colony...   \n",
       "6      163, Shreyas Arcade, Opposite Apollo Pharmacy,...   \n",
       "7      Near Big Bazar, Double Road, Shanti Nagar, Ban...   \n",
       "8      13,14,15, SJR Park I, Leisure Well EPIP, White...   \n",
       "9      188, 5th Cross, KHB Colony, Koramangala 5th Bl...   \n",
       "10     169, 80 Feet Road, Koramangala 1st Block, Bang...   \n",
       "11     FC K06A, 4th Floor, MSR Regaliaa, Elements Mal...   \n",
       "12     2010, HAL 2nd Stage, 100 Feet Road, Indiranaga...   \n",
       "13     5, By The Way Foodcourt, Skywards Tech Park, D...   \n",
       "14                 10, HKP Road, Shivajinagar, Bangalore   \n",
       "15     17/1, Ramalh Garden, Kadieranahall Circle, Nea...   \n",
       "16        29, Buddha Vihara Road, Frazer Town, Bangalore   \n",
       "17     6/1, Pipe Line Road, Ejipura Main Road, Ejipur...   \n",
       "18     3rd Floor, Mantri Square, Sampige Road, Malles...   \n",
       "19     2303, 21st Cross, K R Road, 2nd Stage, Banasha...   \n",
       "20     Kitchens@, 1st Floor Skywards Sun Park, Neelad...   \n",
       "21     394/1, S.S Chambers, Anand Nagar, Outer Ring R...   \n",
       "22     13, 106, West Minster Building, Cunningham Roa...   \n",
       "23     69/1, Gowreesha Complex, Opposite Ananda Valma...   \n",
       "24                 177-178, Commercial Street, Bangalore   \n",
       "25                               103, MG Road, Bangalore   \n",
       "26     55/2, Devarabisanahalli Ring Road, Off Sakra W...   \n",
       "27     31, 2nd Floor, 5th Main, Shantiniketan Layout,...   \n",
       "28            9, Maruthi Nagar, Madiwala, BTM, Bangalore   \n",
       "29                1, 1st Floor, Church Street, Bangalore   \n",
       "...                                                  ...   \n",
       "51687      52/2, Sujay's Pride, Church Street, Bangalore   \n",
       "51688                      14, St. Marks Road, Bangalore   \n",
       "51689  4th Floor, Ganapa Tower, Sarjapur Outer Ring R...   \n",
       "51690  Ground floor 24, 4th main, Narayan Reddy Layou...   \n",
       "51691  7th Cross Road, Agara Village, 1st Sector, HSR...   \n",
       "51692    1004, 9th Main Road, 7th Sector, HSR, Bangalore   \n",
       "51693  133, Chick Bazar Road Shivaji Circle, Shivajin...   \n",
       "51694  15, 5th Main Bescom Road, Kullapa Circle, Kamm...   \n",
       "51695                   Royal suits hotel, Kalyan Nagar.   \n",
       "51696  1, Sai Baba Temple Road, Manjunatha Layout, Gr...   \n",
       "51697  1210, Park Avenue Building, 100 Feet Road, Ind...   \n",
       "51698  100, 1st Cross, 2nd Main Chikku Lakshmi Layout...   \n",
       "51699               23 main Ejipura main Road, Bangalore   \n",
       "51700  1, Nissan House, Palm Grove Main Road, Austin ...   \n",
       "51701  526/A & 517/A, First Floor, Ganesha Complex, 1...   \n",
       "51702  25, 1st Floor, 5th Cross, Koramangala 5th Bloc...   \n",
       "51703  Opposite Manyatha Tech Park, Beside Honda Serv...   \n",
       "51704  18/1C, Doddakannelli, Near Decathlon, Opposite...   \n",
       "51705  1379/A, 13th Cross Road, West of Chord Road, 2...   \n",
       "51706  439, Ground Floor, Near Poorvika Showroom, 6th...   \n",
       "51707  22, 57/58/1/2, Saket Callipolis, Doddakannhall...   \n",
       "51708  1004, 26th Main, Opposite HDFC Bank, 4th T Blo...   \n",
       "51709  1st Main, Sree Ramanjaneya Layout, Marathahall...   \n",
       "51710  1260 SY 35/4 SJR Tower's, 24th Main Puttanhall...   \n",
       "51711  ITPL Ascendas Park Square Mall, ITPL, First Fl...   \n",
       "51712                        2, Church Street, Bangalore   \n",
       "51713  JW Marriott Bengaluru, 24/1, Vittal Mallya Roa...   \n",
       "51714  172/1, Unit TF 17, 3rd Floor Vega City Mall, S...   \n",
       "51715  648 Ground Floor, Janardhan Towers Opposite El...   \n",
       "51716  1004, Wipro Signal, 80 Feet Road, 1st Block, K...   \n",
       "\n",
       "                                                   name online_order  \\\n",
       "0                                           Cafe Azzure          Yes   \n",
       "1                                           Koshe Kosha          Yes   \n",
       "2                                               Toscano          Yes   \n",
       "3                                          Pizza Palace          Yes   \n",
       "4                                               Rescafe           No   \n",
       "5                                           Five Senses          Yes   \n",
       "6                                       Meghana Biryani          Yes   \n",
       "7                              Swathi Deluxe Restaurant          Yes   \n",
       "8                                               The Wok          Yes   \n",
       "9                         North Indian And Bengali Mess           No   \n",
       "10                                     Skywalk Restobar           No   \n",
       "11                                              Marhaba          Yes   \n",
       "12                                    Zaica Dine & Wine          Yes   \n",
       "13                                   The Chocolate Room          Yes   \n",
       "14                                 New Hilal Restaurant          Yes   \n",
       "15                              Banashankari Nati Style           No   \n",
       "16                                   Kenny's Restaurant          Yes   \n",
       "17                                       Little Kolkata          Yes   \n",
       "18                                              Upsouth          Yes   \n",
       "19                                        Cafe Vivacity          Yes   \n",
       "20                                           Fish Chain          Yes   \n",
       "21                                      Rayan's Biryani           No   \n",
       "22                               Chung's Chinese Corner          Yes   \n",
       "23                                          Sweet Truth          Yes   \n",
       "24                                              Woody's           No   \n",
       "25                                          White Plate           No   \n",
       "26                                       Udupi Nalapaka          Yes   \n",
       "27                                        Mum?s Kitchen          Yes   \n",
       "28                     Amravathi Restaurants & Caterers           No   \n",
       "29                                 Ayda Persian Kitchen          Yes   \n",
       "...                                                 ...          ...   \n",
       "51687                               Somilan Steak House           No   \n",
       "51688                                      Anna Kuteera          Yes   \n",
       "51689                                               Ruh          Yes   \n",
       "51690                                   Half Girlfriend          Yes   \n",
       "51691                      Mandya Gowdru Donne Biriyani          Yes   \n",
       "51692                               Goli Vada Pav No. 1          Yes   \n",
       "51693                     Sri Raghavendra Tiffin Center           No   \n",
       "51694                              New Hilal Restaurant           No   \n",
       "51695                                   The Pakoda Shop          Yes   \n",
       "51696                                       Maza E Hind           No   \n",
       "51697                                       Raenss Cafe          Yes   \n",
       "51698                                        Cool Bites          Yes   \n",
       "51699                                   Royal Fast Food           No   \n",
       "51700                                     Deccan Spices          Yes   \n",
       "51701                                         Nutri Fit          Yes   \n",
       "51702                         Chinita Real Mexican Food           No   \n",
       "51703                           Aroma's Hyderabad House          Yes   \n",
       "51704                                     Birbal Darbar           No   \n",
       "51705                                  The Cake Factory           No   \n",
       "51706                                      Juice Lounge          Yes   \n",
       "51707                                   Sarjapur Social          Yes   \n",
       "51708                            Akshaya Sweets & Chats          Yes   \n",
       "51709                                Maria Taste Circle          Yes   \n",
       "51710                                        Easy Bites          Yes   \n",
       "51711                              Oliver's Pub & Diner          Yes   \n",
       "51712                                     Matteo Coffea           No   \n",
       "51713  Bengaluru Baking Company - JW Marriott Bengaluru           No   \n",
       "51714                                      Bao & Grills           No   \n",
       "51715                                   Bramhin Tiffins           No   \n",
       "51716                                        Cafe Terra          Yes   \n",
       "\n",
       "      book_table    rate  votes                                   phone  \\\n",
       "0            Yes   4.3/5   2671                            080 49653400   \n",
       "1             No   4.0/5    572                          +91 9830949494   \n",
       "2            Yes  4.4 /5   1853            080 41738800\\n+91 7619320071   \n",
       "3             No     NEW      0        +91 8553388664\\r\\n+91 9880447764   \n",
       "4             No  3.8 /5     41                          +91 8040976676   \n",
       "5             No     NEW      0                          +91 9986001270   \n",
       "6             No  2.3 /5    240          +91 9980820099\\n+91 9980840099   \n",
       "7             No   3.0/5     74    +91 9880218888\\r\\r\\r\\r\\n080 22210083   \n",
       "8             No   2.8/5     89            080 41604444\\r\\n080 41604443   \n",
       "9             No  3.7 /5     34                          +91 8971812966   \n",
       "10            No  3.3 /5      5        +91 8095095550\\r\\n+91 9500122544   \n",
       "11            No   3.6/5     42                          +91 8067294021   \n",
       "12           Yes   4.0/5   1013          +91 9731333833\\r\\n080 41201745   \n",
       "13            No   2.8/5     44                          +91 6362409695   \n",
       "14            No  4.0 /5    111                            080 22867300   \n",
       "15            No     NaN      0        +91 9035141678\\r\\n+91 9742174293   \n",
       "16            No   3.6/5     31                          +91 9902704444   \n",
       "17            No  3.9 /5     96          +91 7349514383\\n+91 9535415192   \n",
       "18            No  4.2 /5    470                            080 22667311   \n",
       "19            No  3.8 /5     91          080 26768182\\r\\n+91 9845704455   \n",
       "20            No     NEW      0                            080 43334333   \n",
       "21            No   3.6/5     26                          +91 9945778786   \n",
       "22            No  3.4 /5    207              080 32211006\\n080 22204949   \n",
       "23            No   3.7/5     33                          +91 7710055553   \n",
       "24            No  2.5 /5    433              080 25596444\\n080 25582714   \n",
       "25           Yes  4.2 /5    264                            080 49653403   \n",
       "26            No  3.9 /5     41                          +91 9945668630   \n",
       "27            No   3.5/5    118        +91 8827059708\\r\\n+91 9148014714   \n",
       "28            No  3.1 /5      6                          +91 9845727093   \n",
       "29            No   3.9/5    224            080 41478209\\r\\n080 25586522   \n",
       "...          ...     ...    ...                                     ...   \n",
       "51687         No   4.3/5    524      +91 8884680133\\r\\r\\n+91 6360926262   \n",
       "51688         No   3.8/5     62                          +91 8095011126   \n",
       "51689        Yes   4.1/5   3020  +91 9972305871\\r\\r\\r\\r\\n+91 9972934777   \n",
       "51690         No     NEW      0                          +91 8050008155   \n",
       "51691         No   3.8/5    282      +91 9686715392\\r\\r\\n+91 9945409389   \n",
       "51692         No   3.8/5     69          080 48660854\\r\\n+91 8787349075   \n",
       "51693         No     NaN      0                          +91 9742238721   \n",
       "51694         No     NaN      0                          +91 9538771888   \n",
       "51695         No   3.4/5     12                          +91 8088922298   \n",
       "51696         No     NaN      0                          +91 7337804563   \n",
       "51697         No  2.4 /5    128              080 41133234\\n080 49594650   \n",
       "51698         No     NaN      0                          +91 9645786876   \n",
       "51699         No     NaN      0                          +91 9986153272   \n",
       "51700         No   3.7/5     23                            080 25545252   \n",
       "51701         No   3.4/5      5                          +91 7892674303   \n",
       "51702         No  4.5 /5    733          +91 9591038009\\r\\n080 43711400   \n",
       "51703         No   4.2/5    533        +91 8970588888\\r\\n+91 8970688888   \n",
       "51704         No  4.1 /5    317                            089 51074700   \n",
       "51705         No  3.4 /5      4          +91 9538858359\\n+91 9916777089   \n",
       "51706         No  3.1 /5     28                          +91 8618401501   \n",
       "51707         No  4.6 /5   1324                          +91 9152017988   \n",
       "51708         No     NaN      0          +91 9986000554\\n+91 9886730461   \n",
       "51709         No  3.9 /5    671          +91 9035520077\\n+91 9035520088   \n",
       "51710         No   4.1/5     63                            080 43334321   \n",
       "51711        Yes  3.9 /5    548          +91 8043691111\\n+91 8028026519   \n",
       "51712         No  4.4 /5   2652                            080 43336000   \n",
       "51713         No  4.3 /5    526            +91 9900244769\\n080 67188511   \n",
       "51714         No     NEW      0                          +91 9986969992   \n",
       "51715         No   3.6/5     12                          +91 9886497597   \n",
       "51716         No  4.1 /5    778          080 41313553\\r\\n+91 9739477277   \n",
       "\n",
       "                    location           rest_type  \\\n",
       "0                    MG Road                Cafe   \n",
       "1      Koramangala 1st Block       Casual Dining   \n",
       "2               Lavelle Road       Casual Dining   \n",
       "3               Bommanahalli         Quick Bites   \n",
       "4             Residency Road         Quick Bites   \n",
       "5                     Ulsoor  Takeaway, Delivery   \n",
       "6                  Bellandur       Casual Dining   \n",
       "7               Shanti Nagar       Casual Dining   \n",
       "8                 Whitefield          Food Court   \n",
       "9      Koramangala 5th Block                Mess   \n",
       "10     Koramangala 1st Block  Casual Dining, Bar   \n",
       "11                  Nagawara       Casual Dining   \n",
       "12               Indiranagar       Casual Dining   \n",
       "13           Electronic City                Cafe   \n",
       "14              Shivajinagar       Casual Dining   \n",
       "15              Banashankari         Quick Bites   \n",
       "16               Frazer Town         Quick Bites   \n",
       "17                   Ejipura         Quick Bites   \n",
       "18              Malleshwaram          Food Court   \n",
       "19              Banashankari                Cafe   \n",
       "20           Electronic City  Takeaway, Delivery   \n",
       "21              Marathahalli         Quick Bites   \n",
       "22           Cunningham Road       Casual Dining   \n",
       "23         Bannerghatta Road              Bakery   \n",
       "24         Commercial Street       Casual Dining   \n",
       "25                   MG Road  Casual Dining, Bar   \n",
       "26                 Bellandur         Quick Bites   \n",
       "27              Marathahalli            Delivery   \n",
       "28                       BTM         Quick Bites   \n",
       "29             Church Street       Casual Dining   \n",
       "...                      ...                 ...   \n",
       "51687          Church Street       Casual Dining   \n",
       "51688         St. Marks Road       Casual Dining   \n",
       "51689              Bellandur       Casual Dining   \n",
       "51690        Electronic City         Quick Bites   \n",
       "51691                    HSR         Quick Bites   \n",
       "51692                    HSR         Quick Bites   \n",
       "51693           Shivajinagar         Quick Bites   \n",
       "51694           Kammanahalli       Casual Dining   \n",
       "51695           Kalyan Nagar            Delivery   \n",
       "51696              Bellandur         Quick Bites   \n",
       "51697            Indiranagar                Cafe   \n",
       "51698  Koramangala 4th Block         Quick Bites   \n",
       "51699                Ejipura         Quick Bites   \n",
       "51700          Richmond Road         Quick Bites   \n",
       "51701                    HSR  Takeaway, Delivery   \n",
       "51702  Koramangala 5th Block       Casual Dining   \n",
       "51703               Nagawara       Casual Dining   \n",
       "51704          Sarjapur Road       Casual Dining   \n",
       "51705            Rajajinagar              Bakery   \n",
       "51706                    BTM       Beverage Shop   \n",
       "51707          Sarjapur Road  Bar, Casual Dining   \n",
       "51708              Jayanagar          Sweet Shop   \n",
       "51709           Marathahalli       Casual Dining   \n",
       "51710               JP Nagar  Takeaway, Delivery   \n",
       "51711             Whitefield  Pub, Casual Dining   \n",
       "51712          Church Street                Cafe   \n",
       "51713           Lavelle Road        Bakery, Cafe   \n",
       "51714      Bannerghatta Road          Food Court   \n",
       "51715               JP Nagar         Quick Bites   \n",
       "51716  Koramangala 1st Block                Cafe   \n",
       "\n",
       "                                              dish_liked  \\\n",
       "0      Pasta, Wedges, Pizza, Nachos, Mocktails, Peri ...   \n",
       "1      Fish, Kosha Mangsho, Chicken Curry, Luchi, Chi...   \n",
       "2      Pizza, Pasta, Pepperoni, Wine, Salads, Chicken...   \n",
       "3                                                    NaN   \n",
       "4                                            Samosa, Tea   \n",
       "5                                                    NaN   \n",
       "6      Paneer Biryani, Vegetable Biryani, Chicken Bon...   \n",
       "7         Biryani, Chicken Kebab, Andhra Meal, Lime Soda   \n",
       "8                                       Momos, Chop Suey   \n",
       "9                                                    NaN   \n",
       "10                                                   NaN   \n",
       "11     Chicken Biryani, Mint Lemonade, Falafel, Frenc...   \n",
       "12     Chocolate Pani Puri, Butter Chicken, Gajar Hal...   \n",
       "13                                                   NaN   \n",
       "14     Ghee Rice, Butter Chicken, Hyderabadi Chicken,...   \n",
       "15                                                   NaN   \n",
       "16                                                   NaN   \n",
       "17     Chicken Curry, Fish, Thali, Rolls, Rasgulla, C...   \n",
       "18     Filter Coffee, Elaneer Mousse, Tea, Poori Bhaj...   \n",
       "19     Garlic Bread, Burgers, Sandwiches, Pizza, Hot ...   \n",
       "20                                                   NaN   \n",
       "21                                                   NaN   \n",
       "22     Noodles, Honey Chilli Chicken, Crispy Chilli C...   \n",
       "23                                                   NaN   \n",
       "24     Maddur Vada, Idli, Thali, Tea, Butter Masala D...   \n",
       "25     Cocktails, Tom Yum Soup, Lobster Bisque, Lobst...   \n",
       "26                                                   NaN   \n",
       "27     Paratha, Chole Bhature, Matar Paneer, Baingan ...   \n",
       "28                                                   NaN   \n",
       "29     Roti, Naan, Butter Chicken, Biryani, Saffron R...   \n",
       "...                                                  ...   \n",
       "51687  Salads, Beef Steak, Pork Chops, Crispy Pork, W...   \n",
       "51688                   Panner Tikka, Coffee, Vada, Idli   \n",
       "51689  Fattoush Salad, Mutton Biryani, Mutton Roganjo...   \n",
       "51690                                                NaN   \n",
       "51691                                                NaN   \n",
       "51692                                                NaN   \n",
       "51693                                                NaN   \n",
       "51694                                                NaN   \n",
       "51695                                                NaN   \n",
       "51696                                                NaN   \n",
       "51697  Burgers, Hot Dog, Coffee, Noodles, Hot Chocola...   \n",
       "51698                                                NaN   \n",
       "51699                                                NaN   \n",
       "51700                                                NaN   \n",
       "51701                                                NaN   \n",
       "51702  Tacos, Churros, Nachos, Salad, Enchiladas, Bur...   \n",
       "51703  Vegetable Biryani, Hyderabadi Biryani, Chicken...   \n",
       "51704  Tandoori Chicken, Veg Kolhapuri, Jal-jeera, Ch...   \n",
       "51705                                                NaN   \n",
       "51706                                                NaN   \n",
       "51707  Cocktails, Mocktails, Momos, Chilli Chicken, C...   \n",
       "51708                                                NaN   \n",
       "51709  Appam, Paratha, Crab Masala, Tea, Mutton Stew,...   \n",
       "51710             Sandwich, Crispy Chicken, French Fries   \n",
       "51711  Pizza, Beer, Cocktails, Nachos, Pasta, Moo Bur...   \n",
       "51712  Coffee, Pasta, Donut, Salads, Choco Brownie Sh...   \n",
       "51713  Coffee, Fruit Tart, Croissants, Eclair, Sandwi...   \n",
       "51714                                                NaN   \n",
       "51715                                                NaN   \n",
       "51716  English Breakfast, Waffles, Chocolate Cake, Fr...   \n",
       "\n",
       "                                                cuisines  \\\n",
       "0                     Cafe, Continental, Italian, Burger   \n",
       "1                                       Bengali, Seafood   \n",
       "2                                         Italian, Salad   \n",
       "3                                       Pizza, Fast Food   \n",
       "4                                              Beverages   \n",
       "5                       North Indian, Fast Food, Chinese   \n",
       "6                                           North Indian   \n",
       "7                                           North Indian   \n",
       "8                                         Chinese, Momos   \n",
       "9                                  North Indian, Bengali   \n",
       "10                            North Indian, South Indian   \n",
       "11                  Arabian, Mediterranean, North Indian   \n",
       "12                                          North Indian   \n",
       "13                                       Cafe, Beverages   \n",
       "14                        North Indian, Chinese, Mughlai   \n",
       "15          Biryani, Chinese, South Indian, North Indian   \n",
       "16                                 Chinese, North Indian   \n",
       "17                                 Bengali, North Indian   \n",
       "18                                          South Indian   \n",
       "19                                                  Cafe   \n",
       "20                                 Seafood, BBQ, Biryani   \n",
       "21                     Andhra, Biryani, Beverages, Kebab   \n",
       "22                     Chinese, Asian, American, Seafood   \n",
       "23                                      Bakery, Desserts   \n",
       "24                   Chinese, South Indian, North Indian   \n",
       "25                       Thai, Continental, North Indian   \n",
       "26                   South Indian, North Indian, Chinese   \n",
       "27                            North Indian, South Indian   \n",
       "28                                 North Indian, Chinese   \n",
       "29                                 North Indian, Iranian   \n",
       "...                                                  ...   \n",
       "51687           North Eastern, Asian, Naga, Steak, Momos   \n",
       "51688                South Indian, North Indian, Chinese   \n",
       "51689      North Indian, Mughlai, Mediterranean, Iranian   \n",
       "51690          Biryani, North Indian, Chinese, Fast Food   \n",
       "51691                              Biryani, South Indian   \n",
       "51692                                        Street Food   \n",
       "51693                                       South Indian   \n",
       "51694                            Biryani, Chinese, Kebab   \n",
       "51695                                        Street Food   \n",
       "51696                                       North Indian   \n",
       "51697                                    Cafe, Fast Food   \n",
       "51698                                  Fast Food, Juices   \n",
       "51699                              South Indian, Chinese   \n",
       "51700                        Biryani, Mughlai, Fast Food   \n",
       "51701                                       Healthy Food   \n",
       "51702                                            Mexican   \n",
       "51703                     Mughlai, Biryani, North Indian   \n",
       "51704                     North Indian, Chinese, Biryani   \n",
       "51705                                             Bakery   \n",
       "51706                            Beverages, Healthy Food   \n",
       "51707       American, North Indian, Chinese, Finger Food   \n",
       "51708                                Mithai, Street Food   \n",
       "51709        South Indian, North Indian, Kerala, Seafood   \n",
       "51710                                Fast Food, Sandwich   \n",
       "51711  Finger Food, American, Continental, Burger, Pizza   \n",
       "51712                                               Cafe   \n",
       "51713     Salad, Bakery, Cafe, Sandwich, Italian, Burger   \n",
       "51714                                     Chinese, Asian   \n",
       "51715                                       South Indian   \n",
       "51716                                  Cafe, Continental   \n",
       "\n",
       "      approx_cost(for two people)  \\\n",
       "0                           1,200   \n",
       "1                             600   \n",
       "2                           1,500   \n",
       "3                             300   \n",
       "4                             100   \n",
       "5                             500   \n",
       "6                             800   \n",
       "7                             500   \n",
       "8                             500   \n",
       "9                             300   \n",
       "10                            700   \n",
       "11                            600   \n",
       "12                          1,200   \n",
       "13                            600   \n",
       "14                            700   \n",
       "15                            350   \n",
       "16                            450   \n",
       "17                            500   \n",
       "18                            300   \n",
       "19                            650   \n",
       "20                            250   \n",
       "21                            450   \n",
       "22                            600   \n",
       "23                            500   \n",
       "24                            650   \n",
       "25                          1,500   \n",
       "26                            400   \n",
       "27                            200   \n",
       "28                            400   \n",
       "29                            950   \n",
       "...                           ...   \n",
       "51687                         800   \n",
       "51688                         400   \n",
       "51689                       1,000   \n",
       "51690                         600   \n",
       "51691                         350   \n",
       "51692                         200   \n",
       "51693                         200   \n",
       "51694                         550   \n",
       "51695                         150   \n",
       "51696                         300   \n",
       "51697                         600   \n",
       "51698                         200   \n",
       "51699                         300   \n",
       "51700                         500   \n",
       "51701                         300   \n",
       "51702                       1,200   \n",
       "51703                         800   \n",
       "51704                         600   \n",
       "51705                         300   \n",
       "51706                         250   \n",
       "51707                       1,500   \n",
       "51708                         200   \n",
       "51709                         450   \n",
       "51710                         300   \n",
       "51711                       1,500   \n",
       "51712                         600   \n",
       "51713                       1,400   \n",
       "51714                         300   \n",
       "51715                         150   \n",
       "51716                         700   \n",
       "\n",
       "                                            reviews_list  \\\n",
       "0      [('Rated 4.0', 'RATED\\n  Brunch time hea !! An...   \n",
       "1      [('Rated 4.0', 'RATED\\n  Best place for Bengal...   \n",
       "2      [('Rated 5.0', 'RATED\\n  Toscano has semi open...   \n",
       "3      [('Rated 1.0', \"RATED\\n  This is the worst piz...   \n",
       "4      [('Rated 4.5', 'RATED\\n  Great experience been...   \n",
       "5                                                     []   \n",
       "6      [('Rated 2.0', 'RATED\\n  Ordered for their spe...   \n",
       "7      [('Rated 5.0', 'RATED\\n  Quick delivery and th...   \n",
       "8      [('Rated 1.0', 'RATED\\n  Honestly one of the w...   \n",
       "9      [('Rated 1.0', \"RATED\\n  We went today for lun...   \n",
       "10     [('Rated 5.0', 'RATED\\n  Polite and friendly s...   \n",
       "11     [('Rated 4.5', 'RATED\\n  Good food here.. Trie...   \n",
       "12     [('Rated 5.0', \"RATED\\n  This place is located...   \n",
       "13     [('Rated 1.0', 'RATED\\n  As bad as it can get,...   \n",
       "14     [('Rated 4.0', 'RATED\\n  This restaurant was o...   \n",
       "15                                                    []   \n",
       "16     [('Rated 5.0', \"RATED\\n  The best Chinese food...   \n",
       "17     [('Rated 5.0', \"RATED\\n  Being a Bengali in Ba...   \n",
       "18     [('Rated 4.0', \"RATED\\n  Mantri has a huge foo...   \n",
       "19     [('Rated 2.0', 'RATED\\n  Not so good place as ...   \n",
       "20     [('Rated 5.0', 'RATED\\n  I ordered from this p...   \n",
       "21     [('Rated 2.0', \"RATED\\n  didn't get what i ord...   \n",
       "22     [('Rated 1.0', \"RATED\\n  One needs to have lov...   \n",
       "23     [('Rated 5.0', 'RATED\\n  The name in itself is...   \n",
       "24     [('Rated 4.0', 'RATED\\n  One of the oldest and...   \n",
       "25     [('Rated 4.0', 'RATED\\n  Went here on a weekda...   \n",
       "26     [('Rated 4.0', 'RATED\\n  Good place to have de...   \n",
       "27     [('Rated 5.0', 'RATED\\n  I had ordered chhole ...   \n",
       "28     [('Rated 3.0', \"RATED\\n  Chicken cusine and Ch...   \n",
       "29     [('Rated 4.0', 'RATED\\n  This tiny hidden gem ...   \n",
       "...                                                  ...   \n",
       "51687  [('Rated 5.0', \"RATED\\n  Undoubtedly I can say...   \n",
       "51688  [('Rated 4.0', 'RATED\\n  Scrumptious scrumptio...   \n",
       "51689  [('Rated 4.0', 'RATED\\n  This is a beautiful p...   \n",
       "51690                                                 []   \n",
       "51691  [('Rated 3.0', \"RATED\\n  Street shop and a qui...   \n",
       "51692  [('Rated 4.0', 'RATED\\n  Been here many times....   \n",
       "51693                                                 []   \n",
       "51694  [('Rated 1.0', \"RATED\\n  Nobody god dam picks ...   \n",
       "51695  [('Rated 3.0', 'RATED\\n  Very less quantity fo...   \n",
       "51696                                                 []   \n",
       "51697  [('Rated 2.0', 'RATED\\n  The food was a big di...   \n",
       "51698                                                 []   \n",
       "51699                                                 []   \n",
       "51700  [('Rated 4.0', 'RATED\\n  food is really good. ...   \n",
       "51701  [('Rated 5.0', 'RATED\\n  Best by far in hygien...   \n",
       "51702  [('Rated 4.0', \"RATED\\n  Been to this place co...   \n",
       "51703  [('Rated 4.0', 'RATED\\n  Nice and cozy place t...   \n",
       "51704  [('Rated 4.0', 'RATED\\n  Nice place and a good...   \n",
       "51705  [('Rated 5.0', 'RATED\\n  I just love their cak...   \n",
       "51706  [('Rated 3.0', 'RATED\\n  I had got my order de...   \n",
       "51707  [('Rated 5.0', 'RATED\\n  Great place to hang o...   \n",
       "51708  [('Rated 5.0', 'RATED\\n  Ok now this particula...   \n",
       "51709  [('Rated 3.0', 'RATED\\n  This one is a decent ...   \n",
       "51710  [('Rated 1.0', \"RATED\\n  I ordered three tawa ...   \n",
       "51711  [('Rated 4.0', \"RATED\\n  I had :-\\n\\n1. Italia...   \n",
       "51712  [('Rated 3.0', 'RATED\\n  Its a huge Cafe opp. ...   \n",
       "51713  [('Rated 4.0', 'RATED\\n  I recall dining here ...   \n",
       "51714  [('Rated 4.0', 'RATED\\n  They are located at t...   \n",
       "51715  [('Rated 4.0', 'RATED\\n  No nonsense menu to s...   \n",
       "51716  [('Rated 4.0', 'RATED\\n  Literally, all day br...   \n",
       "\n",
       "                                               menu_item     listed_in(type)  \\\n",
       "0      ['Azzure Special Twister Veg Pizza', 'Azzure S...               Cafes   \n",
       "1                                                     []            Delivery   \n",
       "2                                                     []            Delivery   \n",
       "3                                                     []            Dine-out   \n",
       "4                                                     []            Dine-out   \n",
       "5                                                     []            Delivery   \n",
       "6                                                     []            Dine-out   \n",
       "7      ['Veg Biryani', 'Chicken Biryani', 'Veg Meals'...            Delivery   \n",
       "8      ['Chicken Manchow Soup', 'Veg Manchurian', 'Ch...            Delivery   \n",
       "9                                                     []            Dine-out   \n",
       "10                                                    []       Pubs and bars   \n",
       "11     ['Lemon Pepper Barbecue Chicken [Half]', 'Spic...            Delivery   \n",
       "12                                                    []            Delivery   \n",
       "13                                                    []            Desserts   \n",
       "14     ['Mutton Dabba Ghost', 'Mutton Biryani', 'Egg ...            Dine-out   \n",
       "15                                                    []            Dine-out   \n",
       "16                                                    []            Delivery   \n",
       "17                                                    []            Dine-out   \n",
       "18                                                    []            Dine-out   \n",
       "19     ['Choco Block Pancake', 'Death by Chocolate Pa...            Dine-out   \n",
       "20                                                    []            Delivery   \n",
       "21                                                    []            Delivery   \n",
       "22                                                    []            Dine-out   \n",
       "23                                                    []            Delivery   \n",
       "24                                                    []            Dine-out   \n",
       "25                                                    []  Drinks & nightlife   \n",
       "26     ['Jeera Rice', 'Vegetable Fried Rice', 'Vegeta...            Delivery   \n",
       "27     ['Jeera Rice', 'Fried Khichdi With Dahi', 'Pla...            Delivery   \n",
       "28                                                    []            Delivery   \n",
       "29                                                    []            Dine-out   \n",
       "...                                                  ...                 ...   \n",
       "51687                                                 []            Dine-out   \n",
       "51688                                                 []            Delivery   \n",
       "51689                                                 []            Dine-out   \n",
       "51690                                                 []            Delivery   \n",
       "51691                                                 []            Delivery   \n",
       "51692                                                 []            Dine-out   \n",
       "51693                                                 []            Dine-out   \n",
       "51694                                                 []            Delivery   \n",
       "51695                                                 []            Delivery   \n",
       "51696                                                 []            Dine-out   \n",
       "51697  ['Waffle in Ice Cream and Choco Sauce', 'Nutty...               Cafes   \n",
       "51698                                                 []            Delivery   \n",
       "51699                                                 []            Dine-out   \n",
       "51700                                                 []            Delivery   \n",
       "51701                                                 []            Delivery   \n",
       "51702                                                 []            Dine-out   \n",
       "51703                                                 []            Delivery   \n",
       "51704                                                 []            Delivery   \n",
       "51705                                                 []            Delivery   \n",
       "51706                                                 []            Delivery   \n",
       "51707  ['Chilli Paneer Black Pepper China Box', 'Chil...       Pubs and bars   \n",
       "51708                                                 []            Delivery   \n",
       "51709                                                 []            Dine-out   \n",
       "51710  ['Fitshack', 'Snack Pop Box', 'Popullicious Co...            Delivery   \n",
       "51711  ['Chicken Wings', 'Pepper Chicken', 'Chicken S...            Dine-out   \n",
       "51712                                                 []            Dine-out   \n",
       "51713                                                 []               Cafes   \n",
       "51714                                                 []            Dine-out   \n",
       "51715                                                 []            Dine-out   \n",
       "51716  ['Oats with Honey, Fruit and Nuts', 'Veg Engli...            Delivery   \n",
       "\n",
       "             listed_in(city)  \n",
       "0                Frazer Town  \n",
       "1                        HSR  \n",
       "2                    MG Road  \n",
       "3                        HSR  \n",
       "4                    MG Road  \n",
       "5                    MG Road  \n",
       "6              Sarjapur Road  \n",
       "7               Brigade Road  \n",
       "8                Brookefield  \n",
       "9      Koramangala 4th Block  \n",
       "10     Koramangala 5th Block  \n",
       "11              Kammanahalli  \n",
       "12               Indiranagar  \n",
       "13           Electronic City  \n",
       "14                   MG Road  \n",
       "15              Basavanagudi  \n",
       "16             Church Street  \n",
       "17     Koramangala 6th Block  \n",
       "18               Rajajinagar  \n",
       "19                 Jayanagar  \n",
       "20           Electronic City  \n",
       "21               Brookefield  \n",
       "22            Residency Road  \n",
       "23                       BTM  \n",
       "24              Lavelle Road  \n",
       "25            Residency Road  \n",
       "26              Marathahalli  \n",
       "27               Brookefield  \n",
       "28     Koramangala 7th Block  \n",
       "29              Brigade Road  \n",
       "...                      ...  \n",
       "51687           Brigade Road  \n",
       "51688          Church Street  \n",
       "51689              Bellandur  \n",
       "51690        Electronic City  \n",
       "51691  Koramangala 4th Block  \n",
       "51692                    HSR  \n",
       "51693         Residency Road  \n",
       "51694           Kammanahalli  \n",
       "51695           Kammanahalli  \n",
       "51696              Bellandur  \n",
       "51697       Old Airport Road  \n",
       "51698              Jayanagar  \n",
       "51699  Koramangala 4th Block  \n",
       "51700           Brigade Road  \n",
       "51701  Koramangala 4th Block  \n",
       "51702  Koramangala 5th Block  \n",
       "51703           Kammanahalli  \n",
       "51704          Sarjapur Road  \n",
       "51705            Rajajinagar  \n",
       "51706  Koramangala 6th Block  \n",
       "51707          Sarjapur Road  \n",
       "51708  Koramangala 7th Block  \n",
       "51709           Marathahalli  \n",
       "51710      Bannerghatta Road  \n",
       "51711             Whitefield  \n",
       "51712                MG Road  \n",
       "51713           Lavelle Road  \n",
       "51714               JP Nagar  \n",
       "51715               JP Nagar  \n",
       "51716  Koramangala 5th Block  \n",
       "\n",
       "[51717 rows x 17 columns]"
      ]
     },
     "execution_count": 5,
     "metadata": {},
     "output_type": "execute_result"
    }
   ],
   "source": [
    "zomato"
   ]
  },
  {
   "cell_type": "code",
   "execution_count": 6,
   "metadata": {},
   "outputs": [
    {
     "name": "stdout",
     "output_type": "stream",
     "text": [
      "<class 'pandas.core.frame.DataFrame'>\n",
      "RangeIndex: 51717 entries, 0 to 51716\n",
      "Data columns (total 17 columns):\n",
      "url                            51717 non-null object\n",
      "address                        51717 non-null object\n",
      "name                           51717 non-null object\n",
      "online_order                   51717 non-null object\n",
      "book_table                     51717 non-null object\n",
      "rate                           43942 non-null object\n",
      "votes                          51717 non-null int64\n",
      "phone                          50509 non-null object\n",
      "location                       51696 non-null object\n",
      "rest_type                      51490 non-null object\n",
      "dish_liked                     23639 non-null object\n",
      "cuisines                       51672 non-null object\n",
      "approx_cost(for two people)    51371 non-null object\n",
      "reviews_list                   51717 non-null object\n",
      "menu_item                      51717 non-null object\n",
      "listed_in(type)                51717 non-null object\n",
      "listed_in(city)                51717 non-null object\n",
      "dtypes: int64(1), object(16)\n",
      "memory usage: 6.7+ MB\n"
     ]
    }
   ],
   "source": [
    "zomato.info()"
   ]
  },
  {
   "cell_type": "code",
   "execution_count": 7,
   "metadata": {
    "scrolled": true
   },
   "outputs": [
    {
     "name": "stdout",
     "output_type": "stream",
     "text": [
      "51717\n",
      "8792\n",
      "14927\n",
      "NEW       2208\n",
      "3.9/5     2098\n",
      "3.8/5     2022\n",
      "3.7/5     2011\n",
      "3.9 /5    1874\n",
      "3.8 /5    1851\n",
      "3.7 /5    1810\n",
      "3.6/5     1773\n",
      "4.0/5     1609\n",
      "4.0 /5    1574\n",
      "3.6 /5    1543\n",
      "4.1/5     1474\n",
      "4.1 /5    1474\n",
      "3.5/5     1431\n",
      "3.5 /5    1353\n",
      "3.4/5     1259\n",
      "3.4 /5    1217\n",
      "3.3/5     1168\n",
      "4.2 /5    1165\n",
      "3.3 /5    1142\n",
      "4.2/5     1019\n",
      "3.2/5     1006\n",
      "4.3 /5     917\n",
      "3.2 /5     867\n",
      "3.1/5      862\n",
      "4.3/5      776\n",
      "3.1 /5     699\n",
      "4.4 /5     628\n",
      "3.0/5      558\n",
      "4.4/5      519\n",
      "          ... \n",
      "2.8/5      313\n",
      "2.8 /5     287\n",
      "4.5/5      247\n",
      "4.6 /5     175\n",
      "2.7/5      170\n",
      "2.6/5      143\n",
      "2.7 /5     137\n",
      "4.6/5      125\n",
      "2.6 /5     117\n",
      "4.7 /5      86\n",
      "4.7/5       81\n",
      "-           69\n",
      "2.5 /5      56\n",
      "2.5/5       45\n",
      "4.8 /5      43\n",
      "2.4/5       40\n",
      "4.9 /5      30\n",
      "2.4 /5      30\n",
      "2.3/5       28\n",
      "4.9/5       25\n",
      "4.8/5       23\n",
      "2.3 /5      23\n",
      "2.2/5       19\n",
      "2.1 /5      13\n",
      "2.1/5       11\n",
      "2.2 /5       7\n",
      "2.0 /5       7\n",
      "2.0/5        4\n",
      "1.8 /5       3\n",
      "1.8/5        2\n",
      "Name: rate, Length: 64, dtype: int64\n"
     ]
    }
   ],
   "source": [
    "print(len(set(zomato['url'])))\n",
    "print(len(set(zomato['name'])))\n",
    "print(len(set(zomato['phone'])))\n",
    "print(zomato['rate'].value_counts())"
   ]
  },
  {
   "cell_type": "markdown",
   "metadata": {},
   "source": [
    "## A feleslegesnek vélt attribútumok eldobása"
   ]
  },
  {
   "cell_type": "code",
   "execution_count": 8,
   "metadata": {},
   "outputs": [],
   "source": [
    "zomato = zomato.drop(['url',  'phone', 'location', 'rest_type', 'reviews_list', 'menu_item'], axis=1)"
   ]
  },
  {
   "cell_type": "markdown",
   "metadata": {},
   "source": [
    "## Az adatbázis tanító és teszt szettekre felbontásáért felelős függvények"
   ]
  },
  {
   "cell_type": "code",
   "execution_count": 9,
   "metadata": {
    "scrolled": true
   },
   "outputs": [],
   "source": [
    "def split_train_test_by_id(data, test_ratio, id_column, hash=hashlib.md5):\n",
    " ids = data[id_column]\n",
    " in_test_set = ids.apply(lambda id_: test_set_check(id_, test_ratio, hash))\n",
    " return data.loc[~in_test_set], data.loc[in_test_set]\n",
    "\n",
    "def test_set_check(identifier, test_ratio, hash):\n",
    " return hash(np.int64(identifier)).digest()[-1] < 256 * test_ratio\n"
   ]
  },
  {
   "cell_type": "markdown",
   "metadata": {},
   "source": [
    "## Szöveges oszlopok átalakítására való függvények"
   ]
  },
  {
   "cell_type": "code",
   "execution_count": 10,
   "metadata": {},
   "outputs": [],
   "source": [
    "def yesNoConverter(column):\n",
    "    encoder = LabelEncoder()\n",
    "    column_converted = encoder.fit_transform(column)\n",
    "    return column_converted"
   ]
  },
  {
   "cell_type": "code",
   "execution_count": 11,
   "metadata": {},
   "outputs": [],
   "source": [
    "def label_factorize(df):\n",
    "    for col in df.columns[~df.columns.isin(['rate', 'approx_cost(for two people)', 'votes', 'listed_in(type)', 'listed_in(city)'])]:\n",
    "        df[col] = df[col].factorize()[0]\n",
    "    return df"
   ]
  },
  {
   "cell_type": "code",
   "execution_count": 12,
   "metadata": {},
   "outputs": [],
   "source": [
    "def one_hotTransformer(zomato_encoded):\n",
    "    encoder = OneHotEncoder(categories='auto')\n",
    "    zomato_cat_1hot = encoder.fit_transform(zomato_encoded.reshape(-1,1))\n",
    "    return zomato_cat_1hot"
   ]
  },
  {
   "cell_type": "code",
   "execution_count": 13,
   "metadata": {},
   "outputs": [],
   "source": [
    "type_labels = list()\n",
    "city_labels = list()\n",
    "\n",
    "def labelEncoder(column, city):\n",
    "    global type_labels\n",
    "    global city_labels\n",
    "    encoder = LabelEncoder()\n",
    "    zomato_cat_encoded = encoder.fit_transform(column)\n",
    "    if city:\n",
    "        city_labels = list(encoder.classes_)\n",
    "    else:\n",
    "        type_labels = list(encoder.classes_)\n",
    "    \n",
    "    return zomato_cat_encoded"
   ]
  },
  {
   "cell_type": "markdown",
   "metadata": {},
   "source": [
    "## A 'rate' oszlop megtisztítására való függvény"
   ]
  },
  {
   "cell_type": "markdown",
   "metadata": {},
   "source": [
    "Eredetileg '4.1 / 5', 'NEW', '-', '3.5/5' formákban találhatóak az adatok.\n",
    "Ezekből csak az első tag kellene, a szöveges információkat pedig nan értékekkel helyettesítjük."
   ]
  },
  {
   "cell_type": "code",
   "execution_count": 14,
   "metadata": {},
   "outputs": [],
   "source": [
    "def isfloat(value):\n",
    "  try:\n",
    "    float(value)\n",
    "    return True\n",
    "  except ValueError:\n",
    "    return False\n",
    "\n",
    "def cleanRates(data):\n",
    "    if(isinstance(data, float)):\n",
    "        return data\n",
    "    else:\n",
    "        cleanData = data.translate({ord(c): None for c in string.whitespace})\n",
    "        vote = cleanData.split('/')\n",
    "        if (isfloat(vote[0])):\n",
    "            return float(vote[0])\n",
    "        else:\n",
    "            return np.nan"
   ]
  },
  {
   "cell_type": "markdown",
   "metadata": {},
   "source": [
    "## Medián kiszámítására használatos függvény"
   ]
  },
  {
   "cell_type": "markdown",
   "metadata": {},
   "source": [
    "Minden olyan adatot, amit később fel kell használni a teszt szettel való műveletek során, egy-egy globális dictionary-be mentjük el.\n",
    "Az egyes oszlopokhoz tartozó értékek az oszlop neve alapján érthetőek el (ez a kulcs)."
   ]
  },
  {
   "cell_type": "code",
   "execution_count": 15,
   "metadata": {},
   "outputs": [],
   "source": [
    "def calculateMedianByColumnName(column, column_name):\n",
    "    items_cleaned = []\n",
    "    numpy_array = np.array(column)\n",
    "    for x in numpy_array:\n",
    "        if not np.isnan(x):\n",
    "            items_cleaned.append(x)\n",
    "            \n",
    "    global median      \n",
    "    median[column_name] = np.median(items_cleaned)\n",
    "    return median[column_name]"
   ]
  },
  {
   "cell_type": "code",
   "execution_count": 16,
   "metadata": {},
   "outputs": [],
   "source": [
    "# csak inicializálás, hogy meglegyenek globálisan\n",
    "median = dict()\n",
    "\n",
    "def replaceNanByMedian(column, column_name, training):\n",
    "    if training:\n",
    "        global median\n",
    "        median[column_name] = calculateMedianByColumnName(column, column_name)\n",
    "        \n",
    "    column_cleaned = []\n",
    "    numpy_array = np.array(column)\n",
    "    for x in numpy_array:\n",
    "        if np.isnan(x):\n",
    "            column_cleaned.append(median[column_name])\n",
    "        else:\n",
    "            column_cleaned.append(x)\n",
    "    return column_cleaned"
   ]
  },
  {
   "cell_type": "markdown",
   "metadata": {},
   "source": [
    "## Standard és MinMax skálázó függvények"
   ]
  },
  {
   "cell_type": "code",
   "execution_count": 17,
   "metadata": {},
   "outputs": [],
   "source": [
    "# csak inicializálás, hogy meglegyenek globálisan\n",
    "mean = dict()\n",
    "variance = dict()\n",
    "\n",
    "def standardScaler(column, column_name, training):\n",
    "    if training:\n",
    "        global mean\n",
    "        mean[column_name] = np.mean(column)\n",
    "        global variance\n",
    "        variance[column_name] = np.var(column)\n",
    "        \n",
    "    standardizedCol = []\n",
    "    for x in column:\n",
    "        standardizedCol.append((x - mean[column_name]) / variance[column_name])\n",
    "   \n",
    "    return standardizedCol"
   ]
  },
  {
   "cell_type": "code",
   "execution_count": 18,
   "metadata": {},
   "outputs": [],
   "source": [
    "# csak inicializálás, hogy meglegyenek globálisan\n",
    "min_value = dict()\n",
    "max_value = dict()\n",
    "\n",
    "def Normalize(column, column_name, training):\n",
    "    if training:\n",
    "        global min_value\n",
    "        min_value[column_name] = float(column.min())\n",
    "        global max_value\n",
    "        max_value[column_name] = float(column.max())\n",
    "        \n",
    "    column_substract = []\n",
    "    for x in column:\n",
    "        column_substract.append((float(x)-min_value[column_name])/(max_value[column_name]-min_value[column_name]))\n",
    "    return column_substract"
   ]
  },
  {
   "cell_type": "markdown",
   "metadata": {},
   "source": [
    "### Apróbb függvény, ami a tizedesvesszőt tartalmazó számadatokból kiveszi a tizedesvesszőt. (Tizedesvesszővel string formátumban vannak)"
   ]
  },
  {
   "cell_type": "code",
   "execution_count": 19,
   "metadata": {},
   "outputs": [],
   "source": [
    "def ConvertFromMoneyToString(column):\n",
    "    column_converted = []\n",
    "    for x in column:\n",
    "        if not isfloat(x):\n",
    "            x = x.replace(\",\", \"\")\n",
    "            column_converted.append(float(x))\n",
    "        else:\n",
    "            column_converted.append(float(x))\n",
    "    return column_converted"
   ]
  },
  {
   "cell_type": "markdown",
   "metadata": {},
   "source": [
    "## Az eredmények megjelenítéséért felelős függvények"
   ]
  },
  {
   "cell_type": "code",
   "execution_count": 20,
   "metadata": {},
   "outputs": [],
   "source": [
    "def display_scores(scores):\n",
    "    print(\"Scores:\", scores)\n",
    "    print(\"Mean:\", scores.mean())\n",
    "    print(\"Standard deviation:\", scores.std())\n",
    "    print(\"\\n\")"
   ]
  },
  {
   "cell_type": "code",
   "execution_count": 21,
   "metadata": {},
   "outputs": [],
   "source": [
    "def displayLinRegPredictions(lin_reg, train_set_ready_df, labels_ready):\n",
    "    some_data = train_set_ready_df.iloc[:5]\n",
    "    #some_data = train_set.iloc[:5]\n",
    "    some_labels = pd.DataFrame(data=labels_ready).iloc[:5]\n",
    "\n",
    "    print(\"Predictions:\\t\", lin_reg.predict(train_set_ready_df.iloc[:5]))\n",
    "    print(\"Labels:\\t\\t\", some_labels)\n",
    "    print(\"\\n\")"
   ]
  },
  {
   "cell_type": "code",
   "execution_count": 22,
   "metadata": {},
   "outputs": [],
   "source": [
    "statistic_table = pd.DataFrame()\n",
    "\n",
    "def printToStatistics(name, rmse, details, pg, mean='Nan', sd='NaN'):\n",
    "    global statistic_table \n",
    "    statistic_table = statistic_table.append({'name' : name , \n",
    "                                              'rmse' : rmse , \n",
    "                                              'details' : details,\n",
    "                                              'mean' : mean,\n",
    "                                              'standard deviation' : sd,\n",
    "                                              'purging' : pg\n",
    "                                             } , ignore_index=True)"
   ]
  },
  {
   "cell_type": "code",
   "execution_count": 23,
   "metadata": {},
   "outputs": [],
   "source": [
    "test_statistic_table = pd.DataFrame()\n",
    "\n",
    "def printToTestStatistics(name, score):\n",
    "    global test_statistic_table \n",
    "    test_statistic_table = test_statistic_table.append({'name' : name , \n",
    "                                              'score' : score\n",
    "                                             } , ignore_index=True)"
   ]
  },
  {
   "cell_type": "markdown",
   "metadata": {},
   "source": [
    "## Saját pipeline egy függvény formájában"
   ]
  },
  {
   "cell_type": "markdown",
   "metadata": {},
   "source": [
    "A szükséges helyeken a hiányzó értékeket -1-ekkel töltjük fel, mert ez adta a legjobb eredményt. \n",
    "A paraméterben megadható skálázóval skálázzuk a megfelelő attribútumokat az adat \"megtisztítása\" után (pl. string --> float).\n",
    "Némely paraméterre OneHot kódolót is használunk, mert így sikerült a legjobb eredményt elérni.\n",
    "Miután minden paramétert feldolgoztunk, egy mátrixot rakunk össze a paraméterekből."
   ]
  },
  {
   "cell_type": "code",
   "execution_count": 24,
   "metadata": {},
   "outputs": [],
   "source": [
    "# csak hogy globális legyen\n",
    "zomato_labels =  []\n",
    "\n",
    "def runPipeline(dataset, training, scaler):\n",
    "    dataset_ready = dataset.copy()\n",
    "    \n",
    "    dataset_ready = label_factorize(dataset_ready)\n",
    "    #dataset_ready = dataset_ready.drop(['rate'], axis=1).fillna(-1) #filling nan values by -1\n",
    "    dataset_ready['name'] = dataset_ready['name'].fillna(-1)\n",
    "    dataset_ready['cuisines'] = dataset_ready['cuisines'].fillna(-1)\n",
    "    dataset_ready['dish_liked'] = dataset_ready['dish_liked'].fillna(-1)\n",
    "    dataset_ready['address'] = dataset_ready['address'].fillna(-1)\n",
    "    \n",
    "    dataset_ready['online_order'] = yesNoConverter(dataset_ready['online_order'])\n",
    "    dataset_ready['book_table'] = yesNoConverter(dataset_ready['book_table'])\n",
    "    \n",
    "    dataset_type_encoded = labelEncoder(dataset_ready['listed_in(type)'], False)\n",
    "    dataset_type_encoded_oneHot = one_hotTransformer(dataset_type_encoded)\n",
    "        \n",
    "    dataset_city_encoded = labelEncoder(dataset_ready['listed_in(city)'], True)\n",
    "    dataset_city_encoded_oneHot = one_hotTransformer(dataset_city_encoded)\n",
    "    \n",
    "    dataset_ready['approx_cost(for two people)'] = ConvertFromMoneyToString(dataset_ready['approx_cost(for two people)'])\n",
    "    dataset_ready['approx_cost(for two people)'] = replaceNanByMedian(dataset_ready['approx_cost(for two people)'], \"approx_cost(for two people)\", training)\n",
    "    dataset_ready['approx_cost(for two people)'] = scaler(dataset_ready['approx_cost(for two people)'], \"approx_cost(for two people)\", training)\n",
    "    dataset_ready['name'] = scaler(dataset_ready['name'], \"name\", training)\n",
    "    dataset_ready['address'] = scaler(dataset_ready['address'], \"address\", training)\n",
    "    dataset_ready['dish_liked'] = scaler(dataset_ready['dish_liked'], \"dish_liked\", training)\n",
    "    dataset_ready['cuisines'] = scaler(dataset_ready['cuisines'], \"cuisines\", training)\n",
    "    dataset_ready['votes'] = scaler(dataset_ready['votes'], \"votes\", training)\n",
    "    dataset_num = dataset_ready.drop(['listed_in(type)', 'listed_in(city)', 'rate'], axis=1)\n",
    "    dataset_ready = np.concatenate((np.concatenate((dataset_num, dataset_type_encoded_oneHot.toarray()), axis=1), dataset_city_encoded_oneHot.toarray()), axis=1)\n",
    "    return dataset_ready"
   ]
  },
  {
   "cell_type": "markdown",
   "metadata": {},
   "source": [
    "## Az adat betanítására, majd a betanított adatbázison modelleken való futtatására vaó függvény"
   ]
  },
  {
   "cell_type": "markdown",
   "metadata": {},
   "source": [
    "Nem ad vissza adatot, futás közben az összes modellel produkált eredményt sorban kiírja."
   ]
  },
  {
   "cell_type": "code",
   "execution_count": 25,
   "metadata": {},
   "outputs": [],
   "source": [
    "def trainDataWithGivenScalerAndRunAllModels(dataset, labels, scaler, details, purging):\n",
    "    dataset_ready = runPipeline(dataset, True, scaler)\n",
    "    dataset_ready_df = pd.DataFrame(dataset_ready)\n",
    "    \n",
    "    # Lineáris regresszió    \n",
    "    lin_reg = LinearRegression()\n",
    "    lin_reg.fit(dataset_ready, labels)\n",
    "    train_set_predictions = lin_reg.predict(dataset_ready_df)\n",
    "    lin_mse = mean_squared_error(labels, train_set_predictions)\n",
    "    lin_rmse = np.sqrt(lin_mse)\n",
    "    printToStatistics('LinearRegression', lin_rmse, details, purging, lin_rmse)\n",
    "    print(\"Linear Regression with\", details)\n",
    "    displayLinRegPredictions(lin_reg, dataset_ready_df, labels)\n",
    "    \n",
    "    # Döntési fa\n",
    "    tree_reg = DecisionTreeRegressor()\n",
    "    tree_reg.fit(dataset_ready, labels)\n",
    "    train_set_predictions = tree_reg.predict(dataset_ready_df)\n",
    "    tree_mse = mean_squared_error(labels, train_set_predictions)\n",
    "    tree_rmse = np.sqrt(tree_mse)\n",
    "    decision_tree_scores = cross_val_score(tree_reg, dataset_ready_df, labels, scoring=\"neg_mean_squared_error\", cv=10)\n",
    "    tree_rmse_scores = np.sqrt(-decision_tree_scores)\n",
    "    printToStatistics('DecisionTreeRegressor', tree_rmse, details, purging, tree_rmse_scores.mean(), tree_rmse_scores.std())\n",
    "    print(\"Decision Tree with\", details)\n",
    "    display_scores(tree_rmse_scores)\n",
    "    \n",
    "    # Random forest\n",
    "    forest_reg = RandomForestRegressor(10)\n",
    "    forest_reg.fit(dataset_ready_df, pd.DataFrame(data=labels).values.ravel())\n",
    "    train_set_predictions = forest_reg.predict(dataset_ready_df)\n",
    "    forest_mse = mean_squared_error(labels, train_set_predictions)\n",
    "    forest_rmse = np.sqrt(forest_mse)\n",
    "    forest_scores = cross_val_score(forest_reg, dataset_ready_df, pd.DataFrame(data=labels).values.ravel(), scoring=\"neg_mean_squared_error\", cv=10)\n",
    "    forest_rmse_scores = np.sqrt(-forest_scores)\n",
    "    printToStatistics('RandomForestRegressor', forest_rmse, details, purging, forest_rmse_scores.mean(), forest_rmse_scores.std())\n",
    "    print(\"Random forest with\", details)\n",
    "    display_scores(forest_rmse_scores)"
   ]
  },
  {
   "cell_type": "markdown",
   "metadata": {},
   "source": [
    "## Vizualizáló függvények"
   ]
  },
  {
   "cell_type": "markdown",
   "metadata": {},
   "source": [
    "Attribútumok fontosságát vizualizáló függvény"
   ]
  },
  {
   "cell_type": "code",
   "execution_count": 26,
   "metadata": {},
   "outputs": [],
   "source": [
    "def plot_importances(model, cols):\n",
    "    plt.figure(figsize=(12,6))\n",
    "    f_imp = pd.Series(model.feature_importances_, index=cols).sort_values(ascending=True)\n",
    "    f_imp.plot(kind='barh')"
   ]
  },
  {
   "cell_type": "markdown",
   "metadata": {},
   "source": [
    "Az éttermeket térképen elhelyező vizualizáció alapjának generálását végző függvény."
   ]
  },
  {
   "cell_type": "code",
   "execution_count": 27,
   "metadata": {},
   "outputs": [],
   "source": [
    "def generateBaseMap(default_location=[12.97, 77.59], default_zoom_start=12):\n",
    "    base_map = folium.Map(location=default_location, control_scale=True, zoom_start=default_zoom_start)\n",
    "    return base_map"
   ]
  },
  {
   "cell_type": "markdown",
   "metadata": {},
   "source": [
    "## Az adatbázis kezdeti feldolgozása"
   ]
  },
  {
   "cell_type": "markdown",
   "metadata": {},
   "source": [
    "Cél attribútum üres értéket tartalmazó soroait eldobjuk (ehhez előbb szükséges az értékelések átalakítása nekünk megfelelő (4.1/5 --> 4.1) formába).\n",
    "Majd tanító és teszt szettekre bontása."
   ]
  },
  {
   "cell_type": "code",
   "execution_count": 28,
   "metadata": {},
   "outputs": [],
   "source": [
    "#MAIN\n",
    "dataset = zomato.copy()\n",
    "cleaned_rate_labels = []\n",
    "        \n",
    "dataset = dataset.loc[dataset['rate'] !='NEW']\n",
    "dataset = dataset.loc[dataset['rate'] !='-'].reset_index(drop=True)\n",
    "\n",
    "for n in dataset['rate']:\n",
    "    cleaned_rate_labels.append(float(cleanRates(n)))\n",
    "dataset['rate'] = cleaned_rate_labels\n",
    "dataset = dataset.drop(dataset[np.isnan(dataset['rate'])].index)\n",
    "\n",
    "dataset = dataset.reset_index()\n",
    "\n",
    "train_set, test_set = split_train_test_by_id(dataset, 0.2, \"index\")\n",
    "\n",
    "train_labels = train_set['rate']\n",
    "train_set = train_set.drop('index', axis=1)\n",
    "test_labels = test_set['rate']\n",
    "test_set = test_set.drop('index', axis=1)"
   ]
  },
  {
   "cell_type": "code",
   "execution_count": 29,
   "metadata": {},
   "outputs": [
    {
     "data": {
      "text/plain": [
       "(41665, 12)"
      ]
     },
     "execution_count": 29,
     "metadata": {},
     "output_type": "execute_result"
    }
   ],
   "source": [
    "dataset.shape"
   ]
  },
  {
   "cell_type": "markdown",
   "metadata": {},
   "source": [
    "41665 darab adatsorunk marad. A többiben hiányos volt a 'rate' oszlop értéke."
   ]
  },
  {
   "cell_type": "markdown",
   "metadata": {},
   "source": [
    "## A modellek kipróbálása mindkét skálázóval"
   ]
  },
  {
   "cell_type": "markdown",
   "metadata": {},
   "source": [
    "Meghívja a runPipeline()-t, majd egyesével futtatja a feldolgozott adathalmazt a modelleken."
   ]
  },
  {
   "cell_type": "code",
   "execution_count": 30,
   "metadata": {},
   "outputs": [
    {
     "name": "stdout",
     "output_type": "stream",
     "text": [
      "Running Models with MinMax\n",
      "Linear Regression with MinMaxNorm with Basic Data\n",
      "Predictions:\t [4.40993881 3.67397308 4.21305847 3.52101517 3.51435089]\n",
      "Labels:\t\t    rate\n",
      "0   4.3\n",
      "1   4.0\n",
      "2   4.4\n",
      "3   3.8\n",
      "6   2.8\n",
      "\n",
      "\n",
      "Decision Tree with MinMaxNorm with Basic Data\n",
      "Scores: [0.17029741 0.20673628 0.17925784 0.18379589 0.19616111 0.19258274\n",
      " 0.20880122 0.18444654 0.21143724 0.20783767]\n",
      "Mean: 0.1941353929783539\n",
      "Standard deviation: 0.013630332597209296\n",
      "\n",
      "\n",
      "Random forest with MinMaxNorm with Basic Data\n",
      "Scores: [0.15883506 0.17983505 0.15619562 0.1552813  0.16410168 0.15197016\n",
      " 0.16651902 0.15296289 0.16985381 0.16445035]\n",
      "Mean: 0.16200049433986832\n",
      "Standard deviation: 0.008256693032399478\n",
      "\n",
      "\n",
      "Running Models with StandardScaler\n",
      "Linear Regression with StandardScaler with Basic Data\n",
      "Predictions:\t [4.40981201 3.6739378  4.21305016 3.52100037 3.51435793]\n",
      "Labels:\t\t    rate\n",
      "0   4.3\n",
      "1   4.0\n",
      "2   4.4\n",
      "3   3.8\n",
      "6   2.8\n",
      "\n",
      "\n",
      "Decision Tree with StandardScaler with Basic Data\n",
      "Scores: [0.17479188 0.2074357  0.18007241 0.19206498 0.19358293 0.1883047\n",
      " 0.20927051 0.18156013 0.20898906 0.21303011]\n",
      "Mean: 0.1949102410446866\n",
      "Standard deviation: 0.013214661574057153\n",
      "\n",
      "\n",
      "Random forest with StandardScaler with Basic Data\n",
      "Scores: [0.15761873 0.17670772 0.1588551  0.16050962 0.16061223 0.15180477\n",
      " 0.15980585 0.15746128 0.16521862 0.16816655]\n",
      "Mean: 0.1616760470393211\n",
      "Standard deviation: 0.006528732311689208\n",
      "\n",
      "\n"
     ]
    }
   ],
   "source": [
    "print(\"Running Models with MinMax\")\n",
    "trainDataWithGivenScalerAndRunAllModels(train_set, train_labels, Normalize, \"MinMaxNorm with Basic Data\", \"No\")\n",
    "\n",
    "print(\"Running Models with StandardScaler\")\n",
    "trainDataWithGivenScalerAndRunAllModels(train_set, train_labels, standardScaler, \"StandardScaler with Basic Data\", \"No\")"
   ]
  },
  {
   "cell_type": "markdown",
   "metadata": {},
   "source": [
    "A modellek által elért rmse- és mean-értékek ábrázolva. Mindegyikből 2 van, mert a két különböző skálázóval közel azonos hiba-értékeket értek el a modellek."
   ]
  },
  {
   "cell_type": "code",
   "execution_count": 31,
   "metadata": {},
   "outputs": [
    {
     "data": {
      "image/png": "[encoded data removed]",
      "text/plain": [
       "<Figure size 432x288 with 1 Axes>"
      ]
     },
     "metadata": {
      "needs_background": "light"
     },
     "output_type": "display_data"
    }
   ],
   "source": [
    "%matplotlib inline\n",
    "ax = statistic_table.plot.hist(bins=12, alpha=0.5)"
   ]
  },
  {
   "cell_type": "markdown",
   "metadata": {},
   "source": [
    "## A 'votes' oszlopból a kiugró értékek helyettesítése az általunk megadott maximum értékkel, majd a modellek ismételt futtatása a 'purgált' adatbázissal"
   ]
  },
  {
   "cell_type": "code",
   "execution_count": 32,
   "metadata": {},
   "outputs": [
    {
     "name": "stdout",
     "output_type": "stream",
     "text": [
      "(41665, 12)\n",
      "Running Models with MinMax\n",
      "Linear Regression with MinMaxNorm with Purged Data\n",
      "Predictions:\t [4.50221296 3.69358534 4.26433621 3.52181029 3.51144852]\n",
      "Labels:\t\t    rate\n",
      "0   4.3\n",
      "1   4.0\n",
      "2   4.4\n",
      "3   3.8\n",
      "6   2.8\n",
      "\n",
      "\n",
      "Decision Tree with MinMaxNorm with Purged Data\n",
      "Scores: [0.20216093 0.21676143 0.19708957 0.19141975 0.21016705 0.19259057\n",
      " 0.21562144 0.20037695 0.21663396 0.23716048]\n",
      "Mean: 0.20799821212802408\n",
      "Standard deviation: 0.0133716961429452\n",
      "\n",
      "\n",
      "Random forest with MinMaxNorm with Purged Data\n",
      "Scores: [0.18369112 0.18999531 0.17079202 0.16549427 0.17088758 0.16234207\n",
      " 0.17243064 0.16090504 0.17747261 0.18948156]\n",
      "Mean: 0.1743492228403422\n",
      "Standard deviation: 0.010012291285687095\n",
      "\n",
      "\n",
      "Running Models with StandardScaler\n",
      "Linear Regression with StandardScaler  with Purged Data\n",
      "Predictions:\t [4.50221296 3.69358534 4.26433621 3.52181028 3.51144852]\n",
      "Labels:\t\t    rate\n",
      "0   4.3\n",
      "1   4.0\n",
      "2   4.4\n",
      "3   3.8\n",
      "6   2.8\n",
      "\n",
      "\n",
      "Decision Tree with StandardScaler  with Purged Data\n",
      "Scores: [0.20137578 0.21775449 0.19223772 0.1946245  0.20508767 0.1943297\n",
      " 0.2184585  0.20220636 0.2166061  0.23762458]\n",
      "Mean: 0.20803053959779003\n",
      "Standard deviation: 0.013624831378556116\n",
      "\n",
      "\n",
      "Random forest with StandardScaler  with Purged Data\n",
      "Scores: [0.17932314 0.18428768 0.16726338 0.16559179 0.16877367 0.16011528\n",
      " 0.16949856 0.16758751 0.17349482 0.20197904]\n",
      "Mean: 0.17379148604213174\n",
      "Standard deviation: 0.011464652122030718\n",
      "\n",
      "\n"
     ]
    }
   ],
   "source": [
    "#PURGÁLÁS\n",
    "zomato_with_id = zomato.reset_index()\n",
    "purged_dataset = dataset.copy()\n",
    "#purged_dataset = dataset.drop(dataset[dataset[\"votes\"] > 5000].index)\n",
    "purged_dataset[\"votes\"].where(purged_dataset[\"votes\"] < 5000, 5000, inplace=True)\n",
    "print(purged_dataset.shape)\n",
    "purged_dataset = purged_dataset.reset_index()\n",
    "\n",
    "second_train_set, second_test_set = split_train_test_by_id(purged_dataset, 0.2, \"index\")\n",
    "second_train_labels = second_train_set['rate']\n",
    "second_train_set = second_train_set.drop('index', axis=1)\n",
    "second_test_labels = second_test_set['rate']\n",
    "second_test_set = second_test_set.drop('index', axis=1)\n",
    "\n",
    "print(\"Running Models with MinMax\")\n",
    "trainDataWithGivenScalerAndRunAllModels(second_train_set, second_train_labels,  Normalize, \"MinMaxNorm with Purged Data\", \"Yes\")\n",
    "\n",
    "print(\"Running Models with StandardScaler\")\n",
    "trainDataWithGivenScalerAndRunAllModels(second_train_set, second_train_labels, standardScaler, \"StandardScaler  with Purged Data\", \"Yes\")"
   ]
  },
  {
   "cell_type": "markdown",
   "metadata": {},
   "source": [
    "Látható, hogy a purgált adatbázison (minden, 5000 szavazatnál többel rendelkező adatsorban 5000-re cseréltük a szavazatszámot) minden modell, bármely skálázót is alkalmaztuk, rosszabb eredményt ért el.\n",
    "\n",
    "A purgálás után során úgy tűnik, negatív módon torzítjuk aza adatot, mely az eredmények romlásához vezetett."
   ]
  },
  {
   "cell_type": "markdown",
   "metadata": {},
   "source": [
    "## Feldolgozott (fit hívás) adatbázisok elmentése későbbi használatra"
   ]
  },
  {
   "cell_type": "code",
   "execution_count": 33,
   "metadata": {},
   "outputs": [],
   "source": [
    "train_set_ready_with_minmax = runPipeline(train_set, True, Normalize)\n",
    "\n",
    "train_set_ready_with_standard_scaler = runPipeline(train_set, True, standardScaler)"
   ]
  },
  {
   "cell_type": "code",
   "execution_count": 34,
   "metadata": {},
   "outputs": [
    {
     "name": "stdout",
     "output_type": "stream",
     "text": [
      "(33136, 45)\n",
      "[[0.00000000e+00 0.00000000e+00 0.00000000e+00 ... 0.00000000e+00\n",
      "  0.00000000e+00 0.00000000e+00]\n",
      " [1.17868930e-04 1.55327742e-04 0.00000000e+00 ... 0.00000000e+00\n",
      "  0.00000000e+00 0.00000000e+00]\n",
      " [2.35737860e-04 3.10655483e-04 0.00000000e+00 ... 0.00000000e+00\n",
      "  0.00000000e+00 0.00000000e+00]\n",
      " ...\n",
      " [3.42998586e-02 3.83814849e-01 1.00000000e+00 ... 0.00000000e+00\n",
      "  0.00000000e+00 0.00000000e+00]\n",
      " [1.00000000e+00 1.00000000e+00 1.00000000e+00 ... 0.00000000e+00\n",
      "  0.00000000e+00 0.00000000e+00]\n",
      " [1.08793022e-01 1.38397018e-01 0.00000000e+00 ... 0.00000000e+00\n",
      "  0.00000000e+00 0.00000000e+00]]\n"
     ]
    }
   ],
   "source": [
    "print(train_set_ready_with_minmax.shape)\n",
    "print(train_set_ready_with_minmax)"
   ]
  },
  {
   "cell_type": "markdown",
   "metadata": {},
   "source": [
    "## Modellek elért eredményeinek táblázata"
   ]
  },
  {
   "cell_type": "markdown",
   "metadata": {},
   "source": [
    "Látható, hogy a RandomForestRegressor éri el konzekvensen a legjobb eredményt, s tizedekkel bár, de a nem purgált dataset-en való, standard skálázást használó verziója a legjobb."
   ]
  },
  {
   "cell_type": "code",
   "execution_count": 35,
   "metadata": {},
   "outputs": [
    {
     "data": {
      "text/html": [
       "<div>\n",
       "<style scoped>\n",
       "    .dataframe tbody tr th:only-of-type {\n",
       "        vertical-align: middle;\n",
       "    }\n",
       "\n",
       "    .dataframe tbody tr th {\n",
       "        vertical-align: top;\n",
       "    }\n",
       "\n",
       "    .dataframe thead th {\n",
       "        text-align: right;\n",
       "    }\n",
       "</style>\n",
       "<table border=\"1\" class=\"dataframe\">\n",
       "  <thead>\n",
       "    <tr style=\"text-align: right;\">\n",
       "      <th></th>\n",
       "      <th>details</th>\n",
       "      <th>mean</th>\n",
       "      <th>name</th>\n",
       "      <th>purging</th>\n",
       "      <th>rmse</th>\n",
       "      <th>standard deviation</th>\n",
       "    </tr>\n",
       "  </thead>\n",
       "  <tbody>\n",
       "    <tr>\n",
       "      <th>0</th>\n",
       "      <td>MinMaxNorm with Basic Data</td>\n",
       "      <td>0.348219</td>\n",
       "      <td>LinearRegression</td>\n",
       "      <td>No</td>\n",
       "      <td>3.482192e-01</td>\n",
       "      <td>NaN</td>\n",
       "    </tr>\n",
       "    <tr>\n",
       "      <th>1</th>\n",
       "      <td>MinMaxNorm with Basic Data</td>\n",
       "      <td>0.194135</td>\n",
       "      <td>DecisionTreeRegressor</td>\n",
       "      <td>No</td>\n",
       "      <td>5.631693e-16</td>\n",
       "      <td>0.0136303</td>\n",
       "    </tr>\n",
       "    <tr>\n",
       "      <th>2</th>\n",
       "      <td>MinMaxNorm with Basic Data</td>\n",
       "      <td>0.162000</td>\n",
       "      <td>RandomForestRegressor</td>\n",
       "      <td>No</td>\n",
       "      <td>6.622622e-02</td>\n",
       "      <td>0.00825669</td>\n",
       "    </tr>\n",
       "    <tr>\n",
       "      <th>3</th>\n",
       "      <td>StandardScaler with Basic Data</td>\n",
       "      <td>0.348219</td>\n",
       "      <td>LinearRegression</td>\n",
       "      <td>No</td>\n",
       "      <td>3.482192e-01</td>\n",
       "      <td>NaN</td>\n",
       "    </tr>\n",
       "    <tr>\n",
       "      <th>4</th>\n",
       "      <td>StandardScaler with Basic Data</td>\n",
       "      <td>0.194910</td>\n",
       "      <td>DecisionTreeRegressor</td>\n",
       "      <td>No</td>\n",
       "      <td>5.647523e-16</td>\n",
       "      <td>0.0132147</td>\n",
       "    </tr>\n",
       "    <tr>\n",
       "      <th>5</th>\n",
       "      <td>StandardScaler with Basic Data</td>\n",
       "      <td>0.161676</td>\n",
       "      <td>RandomForestRegressor</td>\n",
       "      <td>No</td>\n",
       "      <td>6.692755e-02</td>\n",
       "      <td>0.00652873</td>\n",
       "    </tr>\n",
       "    <tr>\n",
       "      <th>6</th>\n",
       "      <td>MinMaxNorm with Purged Data</td>\n",
       "      <td>0.344875</td>\n",
       "      <td>LinearRegression</td>\n",
       "      <td>Yes</td>\n",
       "      <td>3.448749e-01</td>\n",
       "      <td>NaN</td>\n",
       "    </tr>\n",
       "    <tr>\n",
       "      <th>7</th>\n",
       "      <td>MinMaxNorm with Purged Data</td>\n",
       "      <td>0.207998</td>\n",
       "      <td>DecisionTreeRegressor</td>\n",
       "      <td>Yes</td>\n",
       "      <td>5.635338e-16</td>\n",
       "      <td>0.0133717</td>\n",
       "    </tr>\n",
       "    <tr>\n",
       "      <th>8</th>\n",
       "      <td>MinMaxNorm with Purged Data</td>\n",
       "      <td>0.174349</td>\n",
       "      <td>RandomForestRegressor</td>\n",
       "      <td>Yes</td>\n",
       "      <td>7.125276e-02</td>\n",
       "      <td>0.0100123</td>\n",
       "    </tr>\n",
       "    <tr>\n",
       "      <th>9</th>\n",
       "      <td>StandardScaler  with Purged Data</td>\n",
       "      <td>0.344875</td>\n",
       "      <td>LinearRegression</td>\n",
       "      <td>Yes</td>\n",
       "      <td>3.448749e-01</td>\n",
       "      <td>NaN</td>\n",
       "    </tr>\n",
       "    <tr>\n",
       "      <th>10</th>\n",
       "      <td>StandardScaler  with Purged Data</td>\n",
       "      <td>0.208031</td>\n",
       "      <td>DecisionTreeRegressor</td>\n",
       "      <td>Yes</td>\n",
       "      <td>5.632644e-16</td>\n",
       "      <td>0.0136248</td>\n",
       "    </tr>\n",
       "    <tr>\n",
       "      <th>11</th>\n",
       "      <td>StandardScaler  with Purged Data</td>\n",
       "      <td>0.173791</td>\n",
       "      <td>RandomForestRegressor</td>\n",
       "      <td>Yes</td>\n",
       "      <td>7.052914e-02</td>\n",
       "      <td>0.0114647</td>\n",
       "    </tr>\n",
       "  </tbody>\n",
       "</table>\n",
       "</div>"
      ],
      "text/plain": [
       "                             details      mean                   name purging  \\\n",
       "0         MinMaxNorm with Basic Data  0.348219       LinearRegression      No   \n",
       "1         MinMaxNorm with Basic Data  0.194135  DecisionTreeRegressor      No   \n",
       "2         MinMaxNorm with Basic Data  0.162000  RandomForestRegressor      No   \n",
       "3     StandardScaler with Basic Data  0.348219       LinearRegression      No   \n",
       "4     StandardScaler with Basic Data  0.194910  DecisionTreeRegressor      No   \n",
       "5     StandardScaler with Basic Data  0.161676  RandomForestRegressor      No   \n",
       "6        MinMaxNorm with Purged Data  0.344875       LinearRegression     Yes   \n",
       "7        MinMaxNorm with Purged Data  0.207998  DecisionTreeRegressor     Yes   \n",
       "8        MinMaxNorm with Purged Data  0.174349  RandomForestRegressor     Yes   \n",
       "9   StandardScaler  with Purged Data  0.344875       LinearRegression     Yes   \n",
       "10  StandardScaler  with Purged Data  0.208031  DecisionTreeRegressor     Yes   \n",
       "11  StandardScaler  with Purged Data  0.173791  RandomForestRegressor     Yes   \n",
       "\n",
       "            rmse standard deviation  \n",
       "0   3.482192e-01                NaN  \n",
       "1   5.631693e-16          0.0136303  \n",
       "2   6.622622e-02         0.00825669  \n",
       "3   3.482192e-01                NaN  \n",
       "4   5.647523e-16          0.0132147  \n",
       "5   6.692755e-02         0.00652873  \n",
       "6   3.448749e-01                NaN  \n",
       "7   5.635338e-16          0.0133717  \n",
       "8   7.125276e-02          0.0100123  \n",
       "9   3.448749e-01                NaN  \n",
       "10  5.632644e-16          0.0136248  \n",
       "11  7.052914e-02          0.0114647  "
      ]
     },
     "execution_count": 35,
     "metadata": {},
     "output_type": "execute_result"
    }
   ],
   "source": [
    "statistic_table"
   ]
  },
  {
   "cell_type": "markdown",
   "metadata": {},
   "source": [
    "## Legjobb hiperparaméterek keresése a legjob eddigi moddelhez"
   ]
  },
  {
   "cell_type": "markdown",
   "metadata": {},
   "source": [
    "RandomForestRegressor modellhez hiperparaméterek keresése GridSearchCV class segítségével:"
   ]
  },
  {
   "cell_type": "code",
   "execution_count": 36,
   "metadata": {},
   "outputs": [
    {
     "data": {
      "text/plain": [
       "GridSearchCV(cv=10, error_score='raise-deprecating',\n",
       "       estimator=RandomForestRegressor(bootstrap=True, criterion='mse', max_depth=None,\n",
       "           max_features='auto', max_leaf_nodes=None,\n",
       "           min_impurity_decrease=0.0, min_impurity_split=None,\n",
       "           min_samples_leaf=1, min_samples_split=2,\n",
       "           min_weight_fraction_leaf=0.0, n_estimators='warn', n_jobs=None,\n",
       "           oob_score=False, random_state=None, verbose=0, warm_start=False),\n",
       "       fit_params=None, iid='warn', n_jobs=None,\n",
       "       param_grid=[{'bootstrap': [False], 'n_estimators': [10, 15, 20], 'max_features': [3, 5, 10]}],\n",
       "       pre_dispatch='2*n_jobs', refit=True, return_train_score='warn',\n",
       "       scoring='neg_mean_squared_error', verbose=0)"
      ]
     },
     "execution_count": 36,
     "metadata": {},
     "output_type": "execute_result"
    }
   ],
   "source": [
    "param_grid = [\n",
    "     {'bootstrap': [False], 'n_estimators': [10, 15, 20], 'max_features': [3, 5, 10]},\n",
    " ]\n",
    "forest_reg = RandomForestRegressor()\n",
    "grid_search = GridSearchCV(forest_reg, param_grid, cv=10, scoring='neg_mean_squared_error')\n",
    "grid_search.fit(train_set_ready_with_standard_scaler, train_labels)"
   ]
  },
  {
   "cell_type": "code",
   "execution_count": 37,
   "metadata": {},
   "outputs": [
    {
     "name": "stdout",
     "output_type": "stream",
     "text": [
      "{'bootstrap': False, 'max_features': 10, 'n_estimators': 20}\n",
      "RandomForestRegressor(bootstrap=False, criterion='mse', max_depth=None,\n",
      "           max_features=10, max_leaf_nodes=None, min_impurity_decrease=0.0,\n",
      "           min_impurity_split=None, min_samples_leaf=1,\n",
      "           min_samples_split=2, min_weight_fraction_leaf=0.0,\n",
      "           n_estimators=20, n_jobs=None, oob_score=False,\n",
      "           random_state=None, verbose=0, warm_start=False)\n"
     ]
    }
   ],
   "source": [
    "print(grid_search.best_params_)\n",
    "print(grid_search.best_estimator_)"
   ]
  },
  {
   "cell_type": "code",
   "execution_count": 38,
   "metadata": {},
   "outputs": [
    {
     "name": "stdout",
     "output_type": "stream",
     "text": [
      "0.26727943733464005 {'bootstrap': False, 'max_features': 3, 'n_estimators': 10}\n",
      "0.26072625724122056 {'bootstrap': False, 'max_features': 3, 'n_estimators': 15}\n",
      "0.2577902173851599 {'bootstrap': False, 'max_features': 3, 'n_estimators': 20}\n",
      "0.2132680442485754 {'bootstrap': False, 'max_features': 5, 'n_estimators': 10}\n",
      "0.2118156927816446 {'bootstrap': False, 'max_features': 5, 'n_estimators': 15}\n",
      "0.21066619951473417 {'bootstrap': False, 'max_features': 5, 'n_estimators': 20}\n",
      "0.16027986034151667 {'bootstrap': False, 'max_features': 10, 'n_estimators': 10}\n",
      "0.15537990977328547 {'bootstrap': False, 'max_features': 10, 'n_estimators': 15}\n",
      "0.15179860655774646 {'bootstrap': False, 'max_features': 10, 'n_estimators': 20}\n",
      "min:  0.15179860655774646\n"
     ]
    }
   ],
   "source": [
    "cvres = grid_search.cv_results_\n",
    "for mean_score, params in zip(cvres[\"mean_test_score\"], cvres[\"params\"]):\n",
    "    print(np.sqrt(-mean_score), params)\n",
    "print('min: ', np.sqrt(-cvres[\"mean_test_score\"].max()))"
   ]
  },
  {
   "cell_type": "markdown",
   "metadata": {},
   "source": [
    "RandomForestRegressor modellhez hiperparaméterek keresése RandomSearchCV class segítségével:\n",
    "\n",
    "(mivel sokáig fut, és mindig azonos eredményt ért el, mint a gridSerachCV, így kikommenteztük)"
   ]
  },
  {
   "cell_type": "code",
   "execution_count": 39,
   "metadata": {},
   "outputs": [],
   "source": [
    "#from sklearn.model_selection import RandomizedSearchCV\n",
    "#forest_reg = RandomForestRegressor()\n",
    "#from scipy.stats import randint as sp_randint\n",
    "#param_dist = {\n",
    " #             \"max_features\": sp_randint(2, 45),\n",
    "  #            \"bootstrap\": [True, False],\n",
    "  #            'n_estimators': sp_randint(3, 10)}\n",
    "#n_iter_search = 10\n",
    "#rand_search = RandomizedSearchCV(forest_reg,param_distributions=param_dist, n_iter=n_iter_search, cv=10, scoring='neg_mean_squared_error')\n",
    "#rand_search.fit(train_set_ready_with_minmax, train_labels)\n"
   ]
  },
  {
   "cell_type": "markdown",
   "metadata": {},
   "source": [
    "## Csak a vizualizáció kedvéért újra lefuttatás"
   ]
  },
  {
   "cell_type": "markdown",
   "metadata": {},
   "source": [
    "A legjobb becslő (modell + hiperparaméterek) által tippelt és a valós rate értékek közötti átlagos hiba ábrázolása."
   ]
  },
  {
   "cell_type": "code",
   "execution_count": 40,
   "metadata": {},
   "outputs": [],
   "source": [
    "best_predictions = grid_search.best_estimator_.predict(train_set_ready_with_standard_scaler)\n",
    "abs_error_array = abs(best_predictions - train_labels)"
   ]
  },
  {
   "cell_type": "code",
   "execution_count": 41,
   "metadata": {},
   "outputs": [
    {
     "data": {
      "image/png": "[encoded data removed]",
      "text/plain": [
       "<Figure size 432x432 with 1 Axes>"
      ]
     },
     "metadata": {
      "needs_background": "light"
     },
     "output_type": "display_data"
    }
   ],
   "source": [
    "plt.figure(figsize=(6,6))\n",
    "sns.distplot(abs_error_array)\n",
    "plt.show()"
   ]
  },
  {
   "cell_type": "markdown",
   "metadata": {},
   "source": [
    "A legjobb becslő által, cross validation során elért rmse-átlagértékek ábrázolva:"
   ]
  },
  {
   "cell_type": "code",
   "execution_count": 42,
   "metadata": {},
   "outputs": [],
   "source": [
    "best_estimator_scores_ = cross_val_score(grid_search.best_estimator_, train_set_ready_with_standard_scaler, train_labels, scoring=\"neg_mean_squared_error\", cv=10)\n",
    "best_estimator_scores = np.sqrt(-best_estimator_scores_)"
   ]
  },
  {
   "cell_type": "code",
   "execution_count": 43,
   "metadata": {},
   "outputs": [
    {
     "data": {
      "image/png": "[encoded data removed]",
      "text/plain": [
       "<Figure size 432x432 with 1 Axes>"
      ]
     },
     "metadata": {
      "needs_background": "light"
     },
     "output_type": "display_data"
    }
   ],
   "source": [
    "plt.figure(figsize=(6,6))\n",
    "sns.distplot(best_estimator_scores)\n",
    "plt.show()"
   ]
  },
  {
   "cell_type": "markdown",
   "metadata": {},
   "source": [
    "## Az egyes attribútumok 'fontossága' a predikcióban"
   ]
  },
  {
   "cell_type": "markdown",
   "metadata": {},
   "source": [
    "A legjobb becslő által fontosnak gondolt feature-ök elemzése"
   ]
  },
  {
   "cell_type": "code",
   "execution_count": 44,
   "metadata": {},
   "outputs": [
    {
     "data": {
      "text/plain": [
       "[(0.29997010595293816, 'votes'),\n",
       " (0.15935601035963037, 'dish_liked'),\n",
       " (0.10177790917041796, 'approx_cost(for two people)'),\n",
       " (0.09501436957182949, 'cuisines'),\n",
       " (0.09420397456385297, 'name'),\n",
       " (0.0930674153438442, 'address'),\n",
       " (0.05436366072656469, 'book_table'),\n",
       " (0.013548063913528485, 'online_order'),\n",
       " (0.006012910954834015, 'Desserts'),\n",
       " (0.005206083670017399, 'Marathahalli'),\n",
       " (0.004503858718328464, 'Delivery'),\n",
       " (0.004420791796306887, 'Brookefield'),\n",
       " (0.004064424504782395, 'Electronic City'),\n",
       " (0.00405632995158937, 'Whitefield'),\n",
       " (0.003398353982026438, 'Sarjapur Road'),\n",
       " (0.00330118868523294, 'Dine-out'),\n",
       " (0.0032655866969990752, 'Old Airport Road'),\n",
       " (0.003239767479706574, 'Indiranagar'),\n",
       " (0.0030545406067912515, 'Cafes'),\n",
       " (0.0030370749075455503, 'Bellandur'),\n",
       " (0.002963600286574242, 'HSR'),\n",
       " (0.002878703211841536, 'Bannerghatta Road'),\n",
       " (0.002672835357293525, 'Malleshwaram'),\n",
       " (0.002416245135410183, 'Rajajinagar'),\n",
       " (0.002261120974231174, 'JP Nagar'),\n",
       " (0.0022283132590803336, 'Drinks & nightlife'),\n",
       " (0.002068388954626608, 'Kammanahalli'),\n",
       " (0.001985746826628063, 'New BEL Road'),\n",
       " (0.0018948380928733883, 'Kalyan Nagar'),\n",
       " (0.0018480685653628572, 'Basavanagudi'),\n",
       " (0.0016648002348754504, 'BTM'),\n",
       " (0.0016289117377773388, 'Pubs and bars'),\n",
       " (0.001547485219660041, 'Banashankari'),\n",
       " (0.0014642417749928648, 'Jayanagar'),\n",
       " (0.0012995170878766437, 'Buffet'),\n",
       " (0.0011451280457768437, 'Koramangala 7th Block'),\n",
       " (0.0011233186018967827, 'Koramangala 4th Block'),\n",
       " (0.0011191426114903463, 'MG Road'),\n",
       " (0.00110870233497364, 'Frazer Town'),\n",
       " (0.0010712575445398164, 'Church Street'),\n",
       " (0.00100670157237621, 'Residency Road'),\n",
       " (0.0009628737461542976, 'Koramangala 6th Block'),\n",
       " (0.0009516081856058743, 'Lavelle Road'),\n",
       " (0.0009374201217692316, 'Brigade Road'),\n",
       " (0.000888608959546132, 'Koramangala 5th Block')]"
      ]
     },
     "execution_count": 44,
     "metadata": {},
     "output_type": "execute_result"
    }
   ],
   "source": [
    "feature_importances = grid_search.best_estimator_.feature_importances_\n",
    "attributes = ['address', 'name', 'online_order', 'book_table', 'votes', 'dish_liked', 'cuisines', 'approx_cost(for two people)'] + type_labels + city_labels\n",
    "sorted(zip(feature_importances, attributes), reverse=True)"
   ]
  },
  {
   "cell_type": "code",
   "execution_count": 45,
   "metadata": {},
   "outputs": [
    {
     "data": {
      "image/png": "[encoded data removed]",
      "text/plain": [
       "<Figure size 864x432 with 1 Axes>"
      ]
     },
     "metadata": {
      "needs_background": "light"
     },
     "output_type": "display_data"
    }
   ],
   "source": [
    "plot_importances(grid_search.best_estimator_, attributes)"
   ]
  },
  {
   "cell_type": "markdown",
   "metadata": {},
   "source": [
    "## Végül a teszt szetten futtatás, mérés (Basic dataset)"
   ]
  },
  {
   "cell_type": "code",
   "execution_count": 46,
   "metadata": {},
   "outputs": [],
   "source": [
    "final_model = grid_search.best_estimator_\n",
    "\n",
    "X_test = runPipeline(test_set, False, standardScaler)\n",
    "y_test = test_labels"
   ]
  },
  {
   "cell_type": "code",
   "execution_count": 48,
   "metadata": {},
   "outputs": [
    {
     "name": "stdout",
     "output_type": "stream",
     "text": [
      "8529\n",
      "Scores: 0.3572286248621699\n",
      "Mean: 0.3572286248621699\n",
      "Standard deviation: 0.0\n",
      "\n",
      "\n"
     ]
    }
   ],
   "source": [
    "print(len(y_test))\n",
    "X_test_df = pd.DataFrame(X_test)\n",
    "final_predictions = final_model.predict(X_test_df)\n",
    "final_mse = mean_squared_error(y_test, final_predictions)\n",
    "final_rmse = np.sqrt(final_mse)\n",
    "display_scores(final_rmse)\n",
    "printToTestStatistics(\"Test with Basic Data\", final_rmse)"
   ]
  },
  {
   "cell_type": "code",
   "execution_count": 49,
   "metadata": {},
   "outputs": [
    {
     "data": {
      "text/plain": [
       "<matplotlib.legend.Legend at 0x7fdd51b487f0>"
      ]
     },
     "execution_count": 49,
     "metadata": {},
     "output_type": "execute_result"
    },
    {
     "data": {
      "image/png": "[encoded data removed]",
      "text/plain": [
       "<Figure size 432x288 with 1 Axes>"
      ]
     },
     "metadata": {
      "needs_background": "light"
     },
     "output_type": "display_data"
    }
   ],
   "source": [
    "y_test.plot(kind='hist', label='true values')\n",
    "pd.Series(final_predictions).plot(kind='hist', label='predictions')\n",
    "plt.legend()"
   ]
  },
  {
   "cell_type": "markdown",
   "metadata": {},
   "source": [
    "## Model vizsgálata, mi alapján dönt a döntési fa"
   ]
  },
  {
   "cell_type": "code",
   "execution_count": 50,
   "metadata": {},
   "outputs": [],
   "source": [
    "def convert_dot_to_png(model, max_depth=5, feature_names=list(attributes)):\n",
    "    export_graphviz(model.estimators_[0], out_file='tree.dot', max_depth=max_depth, feature_names=feature_names, rounded=True)\n",
    "    (graph,) = pydot.graph_from_dot_file('tree.dot')\n",
    "    graph.write_png('tree.png')"
   ]
  },
  {
   "cell_type": "code",
   "execution_count": 51,
   "metadata": {
    "scrolled": true
   },
   "outputs": [
    {
     "data": {
      "image/png": "[encoded data removed]",
      "text/plain": [
       "<IPython.core.display.Image object>"
      ]
     },
     "execution_count": 51,
     "metadata": {},
     "output_type": "execute_result"
    }
   ],
   "source": [
    "convert_dot_to_png(final_model)\n",
    "Image('tree.png')"
   ]
  },
  {
   "cell_type": "markdown",
   "metadata": {},
   "source": [
    "## Lokáció (GPS koordináták) hozzáadása"
   ]
  },
  {
   "cell_type": "markdown",
   "metadata": {},
   "source": [
    "Geopy segítségével a lokációk koordiánátinak lekérése."
   ]
  },
  {
   "cell_type": "code",
   "execution_count": 52,
   "metadata": {},
   "outputs": [],
   "source": [
    "def get_lat_lon(df):\n",
    "    locations=pd.DataFrame({\"Name\":zomato['location'].unique()})\n",
    "    locations['Name']=locations['Name'].apply(lambda x: \"Bangalore \" + str(x))\n",
    "    lat=[]\n",
    "    lon=[]\n",
    "    geolocator=Nominatim(user_agent=\"app\")\n",
    "    for location in locations['Name']:\n",
    "        location = geolocator.geocode(location)\n",
    "        if location is None:\n",
    "            lat.append(np.nan)\n",
    "            lon.append(np.nan)\n",
    "        else:    \n",
    "            lat.append(location.latitude)\n",
    "            lon.append(location.longitude)\n",
    "    locations['lat']=lat\n",
    "    locations['lon']=lon\n",
    "    return locations"
   ]
  },
  {
   "cell_type": "code",
   "execution_count": 53,
   "metadata": {},
   "outputs": [],
   "source": [
    "zomato_loc = backup_zomato.copy()\n",
    "locations=pd.DataFrame({\"Name\":zomato_loc['location'].unique()})\n",
    "locations['Name']=locations['Name'].apply(lambda x: \"Bangalore \" + str(x))\n",
    "lat_lon=[]\n",
    "geolocator=Nominatim(user_agent=\"app\")\n",
    "for location in locations['Name']:\n",
    "    location = geolocator.geocode(location)\n",
    "    if location is None:\n",
    "        lat_lon.append(np.nan)\n",
    "    else:    \n",
    "        geo=(location.latitude,location.longitude)\n",
    "        lat_lon.append(geo)\n",
    "\n",
    "locations['geo_loc']=lat_lon"
   ]
  },
  {
   "cell_type": "code",
   "execution_count": 54,
   "metadata": {},
   "outputs": [
    {
     "data": {
      "text/html": [
       "<div>\n",
       "<style scoped>\n",
       "    .dataframe tbody tr th:only-of-type {\n",
       "        vertical-align: middle;\n",
       "    }\n",
       "\n",
       "    .dataframe tbody tr th {\n",
       "        vertical-align: top;\n",
       "    }\n",
       "\n",
       "    .dataframe thead th {\n",
       "        text-align: right;\n",
       "    }\n",
       "</style>\n",
       "<table border=\"1\" class=\"dataframe\">\n",
       "  <thead>\n",
       "    <tr style=\"text-align: right;\">\n",
       "      <th></th>\n",
       "      <th>Name</th>\n",
       "      <th>geo_loc</th>\n",
       "    </tr>\n",
       "  </thead>\n",
       "  <tbody>\n",
       "    <tr>\n",
       "      <th>0</th>\n",
       "      <td>MG Road</td>\n",
       "      <td>(12.9741854, 77.6124135)</td>\n",
       "    </tr>\n",
       "    <tr>\n",
       "      <th>1</th>\n",
       "      <td>Koramangala 1st Block</td>\n",
       "      <td>(12.9243509, 77.6255562)</td>\n",
       "    </tr>\n",
       "    <tr>\n",
       "      <th>2</th>\n",
       "      <td>Lavelle Road</td>\n",
       "      <td>(12.9749565, 77.5997278)</td>\n",
       "    </tr>\n",
       "    <tr>\n",
       "      <th>3</th>\n",
       "      <td>Bommanahalli</td>\n",
       "      <td>(13.3457317, 77.4333346)</td>\n",
       "    </tr>\n",
       "    <tr>\n",
       "      <th>4</th>\n",
       "      <td>Residency Road</td>\n",
       "      <td>(13.055254, 77.6254675)</td>\n",
       "    </tr>\n",
       "  </tbody>\n",
       "</table>\n",
       "</div>"
      ],
      "text/plain": [
       "                    Name                   geo_loc\n",
       "0                MG Road  (12.9741854, 77.6124135)\n",
       "1  Koramangala 1st Block  (12.9243509, 77.6255562)\n",
       "2           Lavelle Road  (12.9749565, 77.5997278)\n",
       "3           Bommanahalli  (13.3457317, 77.4333346)\n",
       "4         Residency Road   (13.055254, 77.6254675)"
      ]
     },
     "execution_count": 54,
     "metadata": {},
     "output_type": "execute_result"
    }
   ],
   "source": [
    "locations[\"Name\"]=locations['Name'].apply(lambda x :  x.replace(\"Bangalore\",\"\")[1:])\n",
    "locations.head()"
   ]
  },
  {
   "cell_type": "code",
   "execution_count": 55,
   "metadata": {},
   "outputs": [
    {
     "data": {
      "text/plain": [
       "5124"
      ]
     },
     "execution_count": 55,
     "metadata": {},
     "output_type": "execute_result"
    }
   ],
   "source": [
    "Rest_locations=pd.DataFrame(zomato_loc['location'].value_counts().reset_index())\n",
    "Rest_locations.columns=['Name','count']\n",
    "Rest_locations=Rest_locations.merge(locations,on='Name',how=\"left\").dropna()\n",
    "Rest_locations['count'].max()"
   ]
  },
  {
   "cell_type": "code",
   "execution_count": 56,
   "metadata": {
    "scrolled": true
   },
   "outputs": [
    {
     "data": {
      "text/plain": [
       "<folium.plugins.heat_map.HeatMap at 0x7fdd4f7cf240>"
      ]
     },
     "execution_count": 56,
     "metadata": {},
     "output_type": "execute_result"
    }
   ],
   "source": [
    "lat,lon=zip(*np.array(Rest_locations['geo_loc']))\n",
    "Rest_locations['lat']=lat\n",
    "Rest_locations['lon']=lon\n",
    "basemap=generateBaseMap()\n",
    "HeatMap(Rest_locations[['lat','lon','count']].values.tolist(),zoom=20,radius=15).add_to(basemap)"
   ]
  },
  {
   "cell_type": "code",
   "execution_count": 57,
   "metadata": {},
   "outputs": [
    {
     "data": {
      "text/html": [
       "<div style=\"width:100%;\"><div style=\"position:relative;width:100%;height:0;padding-bottom:60%;\"><iframe src=\"data:text/html;charset=utf-8;base64,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\" style=\"position:absolute;width:100%;height:100%;left:0;top:0;border:none !important;\" allowfullscreen webkitallowfullscreen mozallowfullscreen></iframe></div></div>"
      ],
      "text/plain": [
       "<folium.folium.Map at 0x7fdd51b1a518>"
      ]
     },
     "execution_count": 57,
     "metadata": {},
     "output_type": "execute_result"
    }
   ],
   "source": [
    "basemap"
   ]
  },
  {
   "cell_type": "markdown",
   "metadata": {},
   "source": [
    "A helyek összepárosítása a gps koordinátákkal."
   ]
  },
  {
   "cell_type": "code",
   "execution_count": 58,
   "metadata": {},
   "outputs": [],
   "source": [
    "loc_dict = dict(zip(zomato_loc['location'].unique(), locations['geo_loc']))\n",
    "loc_array = list()\n",
    "for x in zomato_loc['location']:\n",
    "    loc_array.append(loc_dict[x])"
   ]
  },
  {
   "cell_type": "markdown",
   "metadata": {},
   "source": [
    "NaN értékek lecserélése (-1, -1)-ekre a gps koordinátáknál."
   ]
  },
  {
   "cell_type": "code",
   "execution_count": 59,
   "metadata": {},
   "outputs": [],
   "source": [
    "nan_free_loc_array = []\n",
    "for x in loc_array:\n",
    "    if(x != x):\n",
    "        nan_free_loc_array.append((-1, -1))\n",
    "    else:\n",
    "        nan_free_loc_array.append(x)"
   ]
  },
  {
   "cell_type": "markdown",
   "metadata": {},
   "source": [
    "## Új dataset létrehozása (Lat Lon dataset), azon szokásos feldolgozás elvégzése"
   ]
  },
  {
   "cell_type": "code",
   "execution_count": 60,
   "metadata": {},
   "outputs": [],
   "source": [
    "extended_dataset = zomato.copy()\n",
    "cleaned_rate_labels = []\n",
    "\n",
    "list_of_lat = [x[0] for x in nan_free_loc_array]\n",
    "list_of_lon = [x[1] for x in nan_free_loc_array]\n",
    "\n",
    "extended_dataset['lat'] = list_of_lat\n",
    "extended_dataset['lon'] = list_of_lon\n",
    "\n",
    "extended_dataset = extended_dataset.loc[extended_dataset['rate'] !='NEW']\n",
    "extended_dataset = extended_dataset.loc[extended_dataset['rate'] !='-'].reset_index(drop=True)\n",
    "\n",
    "for n in extended_dataset['rate']:\n",
    "    cleaned_rate_labels.append(float(cleanRates(n)))\n",
    "extended_dataset['rate'] = cleaned_rate_labels\n",
    "extended_dataset = extended_dataset.drop(extended_dataset[np.isnan(extended_dataset['rate'])].index)\n",
    "\n",
    "extended_dataset = extended_dataset.reset_index()\n",
    "\n",
    "extended_train_set, extended_test_set = split_train_test_by_id(extended_dataset, 0.2, \"index\")\n",
    "\n",
    "extended_train_labels = extended_train_set['rate']\n",
    "extended_train_set = extended_train_set.drop('index', axis=1)\n",
    "extended_test_labels = extended_test_set['rate']\n",
    "extended_test_set = extended_test_set.drop('index', axis=1)"
   ]
  },
  {
   "cell_type": "markdown",
   "metadata": {},
   "source": [
    "Az új attribútumok skálázása külön, hiszen ez előtt meghívva nem léteznek még, így a függvényben nem kivitelezhető.\n",
    "\n",
    "Skálázatlan oszlopok kimentése a későbbi vizualizációra való felhasználásra."
   ]
  },
  {
   "cell_type": "code",
   "execution_count": 61,
   "metadata": {},
   "outputs": [],
   "source": [
    "not_scaled_extended_train_set = pd.DataFrame()\n",
    "not_scaled_extended_train_set['lat'] = extended_train_set['lat']\n",
    "not_scaled_extended_train_set['lon'] = extended_train_set['lon']\n",
    "\n",
    "extended_train_set['lat'] = standardScaler(extended_train_set['lat'], \"lat\", True)\n",
    "extended_train_set['lon'] = standardScaler(extended_train_set['lon'], \"lon\", True)\n",
    "\n",
    "extended_test_set['lat'] = standardScaler(extended_test_set['lat'], \"lat\", False)\n",
    "extended_test_set['lon'] = standardScaler(extended_test_set['lon'], \"lon\", False)\n"
   ]
  },
  {
   "cell_type": "markdown",
   "metadata": {},
   "source": [
    "A nem új feature-ökhöz tartozó adat végigfuttatása a Pipeline-on, majd modellek kpróbálása, feldolgozott dataset elmentése (extended_train_set_ready_with_standard_scaler)."
   ]
  },
  {
   "cell_type": "code",
   "execution_count": 62,
   "metadata": {},
   "outputs": [
    {
     "name": "stdout",
     "output_type": "stream",
     "text": [
      "Linear Regression with StandardScaler with Lat Lon Data\n",
      "Predictions:\t [4.42140208 3.695817   4.22393871 3.53356005 3.5226985 ]\n",
      "Labels:\t\t    rate\n",
      "0   4.3\n",
      "1   4.0\n",
      "2   4.4\n",
      "3   3.8\n",
      "6   2.8\n",
      "\n",
      "\n",
      "Decision Tree with StandardScaler with Lat Lon Data\n",
      "Scores: [0.17536925 0.19095415 0.17436842 0.16961385 0.18395179 0.16471295\n",
      " 0.1913619  0.18556413 0.2029811  0.21892777]\n",
      "Mean: 0.185780533293793\n",
      "Standard deviation: 0.01549110655119344\n",
      "\n",
      "\n",
      "Random forest with StandardScaler with Lat Lon Data\n",
      "Scores: [0.15042587 0.16347981 0.14891805 0.14930184 0.15607909 0.15189519\n",
      " 0.15560986 0.14548326 0.16013634 0.16444934]\n",
      "Mean: 0.1545778634495943\n",
      "Standard deviation: 0.006147549943891619\n",
      "\n",
      "\n"
     ]
    }
   ],
   "source": [
    "trainDataWithGivenScalerAndRunAllModels(extended_train_set, extended_train_labels,  standardScaler, \"StandardScaler with Lat Lon Data\", \"No\")"
   ]
  },
  {
   "cell_type": "code",
   "execution_count": 63,
   "metadata": {},
   "outputs": [],
   "source": [
    "extended_train_set_ready_with_standard_scaler = runPipeline(extended_train_set, True, standardScaler)"
   ]
  },
  {
   "cell_type": "markdown",
   "metadata": {},
   "source": [
    "## GridSearch Cross Validation lefuttatása (Lat Lon dataset)"
   ]
  },
  {
   "cell_type": "code",
   "execution_count": 64,
   "metadata": {},
   "outputs": [
    {
     "data": {
      "text/plain": [
       "GridSearchCV(cv=10, error_score='raise-deprecating',\n",
       "       estimator=RandomForestRegressor(bootstrap=True, criterion='mse', max_depth=None,\n",
       "           max_features='auto', max_leaf_nodes=None,\n",
       "           min_impurity_decrease=0.0, min_impurity_split=None,\n",
       "           min_samples_leaf=1, min_samples_split=2,\n",
       "           min_weight_fraction_leaf=0.0, n_estimators='warn', n_jobs=None,\n",
       "           oob_score=False, random_state=None, verbose=0, warm_start=False),\n",
       "       fit_params=None, iid='warn', n_jobs=None,\n",
       "       param_grid=[{'bootstrap': [False], 'n_estimators': [10, 15, 20], 'max_features': [3, 5, 10]}],\n",
       "       pre_dispatch='2*n_jobs', refit=True, return_train_score='warn',\n",
       "       scoring='neg_mean_squared_error', verbose=0)"
      ]
     },
     "execution_count": 64,
     "metadata": {},
     "output_type": "execute_result"
    }
   ],
   "source": [
    "grid_search.fit(extended_train_set_ready_with_standard_scaler, extended_train_labels)"
   ]
  },
  {
   "cell_type": "code",
   "execution_count": 65,
   "metadata": {},
   "outputs": [
    {
     "name": "stdout",
     "output_type": "stream",
     "text": [
      "0.24282131241593954 {'bootstrap': False, 'max_features': 3, 'n_estimators': 10}\n",
      "0.23803479902746238 {'bootstrap': False, 'max_features': 3, 'n_estimators': 15}\n",
      "0.23223569474171066 {'bootstrap': False, 'max_features': 3, 'n_estimators': 20}\n",
      "0.19512670919491293 {'bootstrap': False, 'max_features': 5, 'n_estimators': 10}\n",
      "0.185099375673742 {'bootstrap': False, 'max_features': 5, 'n_estimators': 15}\n",
      "0.18421751153963578 {'bootstrap': False, 'max_features': 5, 'n_estimators': 20}\n",
      "0.14412053885530007 {'bootstrap': False, 'max_features': 10, 'n_estimators': 10}\n",
      "0.13951088365073705 {'bootstrap': False, 'max_features': 10, 'n_estimators': 15}\n",
      "0.13710318712856823 {'bootstrap': False, 'max_features': 10, 'n_estimators': 20}\n",
      "min:  0.13710318712856823\n"
     ]
    }
   ],
   "source": [
    "cvres = grid_search.cv_results_\n",
    "for mean_score, params in zip(cvres[\"mean_test_score\"], cvres[\"params\"]):\n",
    "    print(np.sqrt(-mean_score), params)\n",
    "print('min: ', np.sqrt(-cvres[\"mean_test_score\"].max()))"
   ]
  },
  {
   "cell_type": "markdown",
   "metadata": {},
   "source": [
    "## A legjobb becslő általi eredmények megjelenítése (Lat Lon dataset)"
   ]
  },
  {
   "cell_type": "code",
   "execution_count": 66,
   "metadata": {},
   "outputs": [],
   "source": [
    "best_predictions = grid_search.best_estimator_.predict(extended_train_set_ready_with_standard_scaler)"
   ]
  },
  {
   "cell_type": "code",
   "execution_count": 67,
   "metadata": {},
   "outputs": [
    {
     "data": {
      "text/plain": [
       "array([0.13099049, 0.15155319, 0.13575053, 0.13314162, 0.13958723,\n",
       "       0.13339594, 0.13530881, 0.12610361, 0.13613075, 0.13972799])"
      ]
     },
     "execution_count": 67,
     "metadata": {},
     "output_type": "execute_result"
    }
   ],
   "source": [
    "best_estimator_scores_ = cross_val_score(grid_search.best_estimator_, extended_train_set_ready_with_standard_scaler, extended_train_labels, scoring=\"neg_mean_squared_error\", cv=10)\n",
    "best_estimator_scores = np.sqrt(-best_estimator_scores_)\n",
    "best_estimator_scores"
   ]
  },
  {
   "cell_type": "code",
   "execution_count": 68,
   "metadata": {},
   "outputs": [
    {
     "data": {
      "image/png": "[encoded data removed]",
      "text/plain": [
       "<Figure size 432x432 with 1 Axes>"
      ]
     },
     "metadata": {
      "needs_background": "light"
     },
     "output_type": "display_data"
    }
   ],
   "source": [
    "plt.figure(figsize=(6,6))\n",
    "sns.distplot(best_estimator_scores)\n",
    "plt.show()"
   ]
  },
  {
   "cell_type": "code",
   "execution_count": 69,
   "metadata": {},
   "outputs": [
    {
     "data": {
      "text/plain": [
       "[(0.29997010595293816, 'votes'),\n",
       " (0.15935601035963037, 'dish_liked'),\n",
       " (0.10177790917041796, 'approx_cost(for two people)'),\n",
       " (0.09501436957182949, 'cuisines'),\n",
       " (0.09420397456385297, 'name'),\n",
       " (0.0930674153438442, 'address'),\n",
       " (0.05436366072656469, 'book_table'),\n",
       " (0.013548063913528485, 'online_order'),\n",
       " (0.006012910954834015, 'Cafes'),\n",
       " (0.005206083670017399, 'MG Road'),\n",
       " (0.004503858718328464, 'Buffet'),\n",
       " (0.004420791796306887, 'Bellandur'),\n",
       " (0.004064424504782395, 'Brookefield'),\n",
       " (0.00405632995158937, 'Residency Road'),\n",
       " (0.003398353982026438, 'Rajajinagar'),\n",
       " (0.00330118868523294, 'Delivery'),\n",
       " (0.0032655866969990752, 'Marathahalli'),\n",
       " (0.003239767479706574, 'Frazer Town'),\n",
       " (0.0030545406067912515, 'lot'),\n",
       " (0.0030370749075455503, 'Bannerghatta Road'),\n",
       " (0.002963600286574242, 'Electronic City'),\n",
       " (0.002878703211841536, 'BTM'),\n",
       " (0.002672835357293525, 'Lavelle Road'),\n",
       " (0.002416245135410183, 'New BEL Road'),\n",
       " (0.002261120974231174, 'HSR'),\n",
       " (0.0022283132590803336, 'Desserts'),\n",
       " (0.002068388954626608, 'Jayanagar'),\n",
       " (0.001985746826628063, 'Malleshwaram'),\n",
       " (0.0018948380928733883, 'JP Nagar'),\n",
       " (0.0018480685653628572, 'Banashankari'),\n",
       " (0.0016648002348754504, 'Drinks & nightlife'),\n",
       " (0.0016289117377773388, 'Dine-out'),\n",
       " (0.001547485219660041, 'Pubs and bars'),\n",
       " (0.0014642417749928648, 'Indiranagar'),\n",
       " (0.0012995170878766437, 'lat'),\n",
       " (0.0011451280457768437, 'Koramangala 5th Block'),\n",
       " (0.0011233186018967827, 'Kalyan Nagar'),\n",
       " (0.0011191426114903463, 'Koramangala 7th Block'),\n",
       " (0.00110870233497364, 'Church Street'),\n",
       " (0.0010712575445398164, 'Brigade Road'),\n",
       " (0.00100670157237621, 'Old Airport Road'),\n",
       " (0.0009628737461542976, 'Koramangala 4th Block'),\n",
       " (0.0009516081856058743, 'Koramangala 6th Block'),\n",
       " (0.0009374201217692316, 'Basavanagudi'),\n",
       " (0.000888608959546132, 'Kammanahalli')]"
      ]
     },
     "execution_count": 69,
     "metadata": {},
     "output_type": "execute_result"
    }
   ],
   "source": [
    "attributes = ['address', 'name', 'online_order', 'book_table', 'votes', 'dish_liked', 'cuisines', 'approx_cost(for two people)', 'lat', 'lot'] + type_labels + city_labels\n",
    "sorted(zip(feature_importances, attributes), reverse=True)"
   ]
  },
  {
   "cell_type": "markdown",
   "metadata": {},
   "source": [
    "## Teszt lefuttatása végül, eredmény kijelzése (Lat Lon dataset)"
   ]
  },
  {
   "cell_type": "code",
   "execution_count": 70,
   "metadata": {},
   "outputs": [
    {
     "name": "stdout",
     "output_type": "stream",
     "text": [
      "8529\n",
      "Scores: 0.3494389167961928\n",
      "Mean: 0.3494389167961928\n",
      "Standard deviation: 0.0\n",
      "\n",
      "\n"
     ]
    },
    {
     "data": {
      "text/plain": [
       "<matplotlib.legend.Legend at 0x7fdd51ae45c0>"
      ]
     },
     "execution_count": 70,
     "metadata": {},
     "output_type": "execute_result"
    },
    {
     "data": {
      "image/png": "[encoded data removed]",
      "text/plain": [
       "<Figure size 432x288 with 1 Axes>"
      ]
     },
     "metadata": {
      "needs_background": "light"
     },
     "output_type": "display_data"
    }
   ],
   "source": [
    "final_model = grid_search.best_estimator_\n",
    "\n",
    "X_extended_test = runPipeline(extended_test_set, False, standardScaler)\n",
    "y_extended_test = extended_test_labels\n",
    "print(len(y_test))\n",
    "X_extended_test_df = pd.DataFrame(X_extended_test)\n",
    "final_predictions = final_model.predict(X_extended_test_df)\n",
    "final_mse = mean_squared_error(y_extended_test, final_predictions)\n",
    "final_rmse = np.sqrt(final_mse)\n",
    "display_scores(final_rmse)\n",
    "printToTestStatistics(\"Test with Lat Lon Data\", final_rmse)\n",
    "y_extended_test.plot(kind='hist', label='true values')\n",
    "pd.Series(final_predictions).plot(kind='hist', label='predictions')\n",
    "plt.legend()"
   ]
  },
  {
   "cell_type": "markdown",
   "metadata": {},
   "source": [
    "## K-Means klaszterezéssel GPS koordináták csoportokba sorolása"
   ]
  },
  {
   "cell_type": "markdown",
   "metadata": {},
   "source": [
    "Az előbb elmentett \"extended_train_set\" felhasználása, belőle a 'lat' és a 'lon' feature-ök kinyerése"
   ]
  },
  {
   "cell_type": "code",
   "execution_count": 71,
   "metadata": {},
   "outputs": [],
   "source": [
    "coord_cols_train_df = pd.DataFrame()\n",
    "coord_cols_train_df['lat'] = extended_train_set['lat']\n",
    "coord_cols_train_df['lon'] = extended_train_set['lon']"
   ]
  },
  {
   "cell_type": "code",
   "execution_count": 72,
   "metadata": {},
   "outputs": [],
   "source": [
    "coord_cols_train = np.array(coord_cols_train_df)"
   ]
  },
  {
   "cell_type": "markdown",
   "metadata": {},
   "source": [
    "### Klaszterezés lefuttatása"
   ]
  },
  {
   "cell_type": "code",
   "execution_count": 73,
   "metadata": {},
   "outputs": [],
   "source": [
    "km = KMeans()\n",
    "y_km = km.fit_predict(coord_cols_train)"
   ]
  },
  {
   "cell_type": "markdown",
   "metadata": {},
   "source": [
    "### Klaszterezés megjelenítése koordináták alapján"
   ]
  },
  {
   "cell_type": "code",
   "execution_count": 74,
   "metadata": {},
   "outputs": [],
   "source": [
    "coord_cols_df = pd.DataFrame()\n",
    "coord_cols_df['lat'] = not_scaled_extended_train_set['lat']\n",
    "coord_cols_df['lon'] = not_scaled_extended_train_set['lon']\n",
    "coord_cols_ = np.array(coord_cols_df)"
   ]
  },
  {
   "cell_type": "markdown",
   "metadata": {},
   "source": [
    "Kiszedjük a -1-es sorokat, hogy meg tudjuk állapítani a legkisebb értékeket, amikkel körbehatárolhatjuk a térképet a vizualizációnál."
   ]
  },
  {
   "cell_type": "code",
   "execution_count": 75,
   "metadata": {},
   "outputs": [],
   "source": [
    "coord_cols_del = [x for x in coord_cols_ if x[0] != -1.0] "
   ]
  },
  {
   "cell_type": "code",
   "execution_count": 76,
   "metadata": {},
   "outputs": [],
   "source": [
    "lower_lat = min(coord_cols_del, key = lambda t: t[1])[1] \n",
    "lower_lon = min(coord_cols_del, key = lambda t: t[0])[0]\n",
    "upper_lat = max(coord_cols_del, key = lambda t: t[1])[1]\n",
    "upper_lon = max(coord_cols_del, key = lambda t: t[0])[0]"
   ]
  },
  {
   "cell_type": "code",
   "execution_count": 77,
   "metadata": {},
   "outputs": [
    {
     "name": "stdout",
     "output_type": "stream",
     "text": [
      "77.4333346\n",
      "12.9055682\n",
      "77.7519261\n",
      "13.3457317\n"
     ]
    }
   ],
   "source": [
    "print(lower_lat)\n",
    "print(lower_lon)\n",
    "print(upper_lat)\n",
    "print(upper_lon)"
   ]
  },
  {
   "cell_type": "markdown",
   "metadata": {},
   "source": [
    "Kiszedjük az egyedi értékeket (először tuple formába konvertáljuk, hogy megmaradjanak az adatkettesek), a hozzájuk tartozó \"zónákkal\" párban."
   ]
  },
  {
   "cell_type": "code",
   "execution_count": 78,
   "metadata": {},
   "outputs": [],
   "source": [
    "tuple_coords = []\n",
    "for x in coord_cols_:\n",
    "    tuple_coords.append((x[0], x[1]))\n",
    "unique_tuple_coords = np.unique(tuple_coords, return_index = True, axis = 0)   \n",
    "unique_y_km = []\n",
    "for x in unique_tuple_coords[1]:\n",
    "    unique_y_km.append(y_km[x])"
   ]
  },
  {
   "cell_type": "markdown",
   "metadata": {},
   "source": [
    "Kiíratjuk, mely zónába hány, egyedi koordináátkkal rendelkező étterem van (ennyi pontunk lesz)"
   ]
  },
  {
   "cell_type": "code",
   "execution_count": 79,
   "metadata": {},
   "outputs": [
    {
     "data": {
      "text/plain": [
       "Counter({1: 1, 0: 9, 5: 11, 7: 9, 3: 24, 6: 12, 4: 10, 2: 2})"
      ]
     },
     "execution_count": 79,
     "metadata": {},
     "output_type": "execute_result"
    }
   ],
   "source": [
    "Counter(unique_y_km)"
   ]
  },
  {
   "cell_type": "markdown",
   "metadata": {},
   "source": [
    "Kirajzoltatjuk az egyedi koordinátákat (hiszen nem lehet/ nincs értelme ugyanazt a pontot többször), különböző zónákat különböző színnel. Itt viszont az eredeti koordinátákat kell felhasználnunk, hiszen a skálázott értékekkel nem lehet jól vizualizálni."
   ]
  },
  {
   "cell_type": "code",
   "execution_count": 80,
   "metadata": {},
   "outputs": [
    {
     "data": {
      "image/png": "[encoded data removed]",
      "text/plain": [
       "<Figure size 432x288 with 1 Axes>"
      ]
     },
     "metadata": {},
     "output_type": "display_data"
    }
   ],
   "source": [
    "m=Basemap(llcrnrlon = lower_lon - 0.015, llcrnrlat = lower_lat - 0.015, urcrnrlon = upper_lon + 0.015 , urcrnrlat = upper_lat + 0.015)\n",
    "m.drawmapboundary(fill_color='#A6CAE0', linewidth=0)\n",
    "m.fillcontinents(color='grey', alpha=0.7, lake_color='grey')\n",
    "m.drawcoastlines(linewidth=0.1, color=\"white\")\n",
    "\n",
    "for coord, zona in zip(unique_tuple_coords[0], unique_y_km):\n",
    "    if zona == 0:\n",
    "        m.plot(coord[0], coord[1], linestyle='none', marker=\"o\", markersize=16, alpha=0.6, c=\"black\", markeredgecolor=\"black\", markeredgewidth=1)\n",
    "    if zona == 1:\n",
    "        m.plot(coord[0], coord[1], linestyle='none', marker=\"o\", markersize=16, alpha=0.6, c=\"orange\", markeredgecolor=\"black\", markeredgewidth=1)\n",
    "    if zona == 2:\n",
    "        m.plot(coord[0], coord[1], linestyle='none', marker=\"o\", markersize=16, alpha=0.6, c=\"red\", markeredgecolor=\"black\", markeredgewidth=1)\n",
    "    if zona == 3:\n",
    "        m.plot(coord[0], coord[1], linestyle='none', marker=\"o\", markersize=16, alpha=0.6, c=\"yellow\", markeredgecolor=\"black\", markeredgewidth=1)\n",
    "    if zona == 4:\n",
    "        m.plot(coord[0], coord[1], linestyle='none', marker=\"o\", markersize=16, alpha=0.6, c=\"blue\", markeredgecolor=\"black\", markeredgewidth=1)\n",
    "    if zona == 5:\n",
    "        m.plot(coord[0], coord[1], linestyle='none', marker=\"o\", markersize=16, alpha=0.6, c=\"green\", markeredgecolor=\"black\", markeredgewidth=1)\n",
    "    if zona == 6:\n",
    "        m.plot(coord[0], coord[1], linestyle='none', marker=\"o\", markersize=16, alpha=0.6, c=\"brown\", markeredgecolor=\"black\", markeredgewidth=1)\n",
    "    if zona == 7:\n",
    "        m.plot(coord[0], coord[1], linestyle='none', marker=\"o\", markersize=16, alpha=0.6, c=\"purple\", markeredgecolor=\"black\", markeredgewidth=1)\n",
    "        "
   ]
  },
  {
   "cell_type": "markdown",
   "metadata": {},
   "source": [
    "## Új dataset létrehozása  (Zones dataset), azon szokásos feldolgozás elvégzése"
   ]
  },
  {
   "cell_type": "code",
   "execution_count": 81,
   "metadata": {},
   "outputs": [],
   "source": [
    "dataset_with_zones = zomato.copy()\n",
    "cleaned_rate_labels = []\n",
    "\n",
    "dataset_with_zones = dataset_with_zones.loc[dataset_with_zones['rate'] !='NEW']\n",
    "dataset_with_zones = dataset_with_zones.loc[dataset_with_zones['rate'] !='-'].reset_index(drop=True)\n",
    "\n",
    "for n in dataset_with_zones['rate']:\n",
    "    cleaned_rate_labels.append(float(cleanRates(n)))\n",
    "dataset_with_zones['rate'] = cleaned_rate_labels\n",
    "dataset_with_zones = dataset_with_zones.drop(dataset_with_zones[np.isnan(dataset_with_zones['rate'])].index)\n",
    "\n",
    "dataset_with_zones = dataset_with_zones.reset_index()\n",
    "\n",
    "zones_train_set, zones_test_set = split_train_test_by_id(dataset_with_zones, 0.2, \"index\")\n",
    "\n",
    "zones_train_labels = zones_train_set['rate']\n",
    "zones_train_set = zones_train_set.drop('index', axis=1)\n",
    "zones_train_set['zone'] = y_km\n",
    "zones_test_labels = zones_test_set['rate']\n",
    "zones_test_set = zones_test_set.drop('index', axis=1)"
   ]
  },
  {
   "cell_type": "code",
   "execution_count": 82,
   "metadata": {},
   "outputs": [
    {
     "name": "stdout",
     "output_type": "stream",
     "text": [
      "Linear Regression with StandardScaler with Zones Data\n",
      "Predictions:\t [4.41715406 3.71825299 4.21654866 3.50604075 3.55812222]\n",
      "Labels:\t\t    rate\n",
      "0   4.3\n",
      "1   4.0\n",
      "2   4.4\n",
      "3   3.8\n",
      "6   2.8\n",
      "\n",
      "\n",
      "Decision Tree with StandardScaler with Zones Data\n",
      "Scores: [0.17377036 0.20763926 0.18993217 0.17249806 0.19805177 0.17996345\n",
      " 0.19010379 0.17390943 0.19339376 0.19275279]\n",
      "Mean: 0.18720148455329647\n",
      "Standard deviation: 0.011163001012724934\n",
      "\n",
      "\n",
      "Random forest with StandardScaler with Zones Data\n",
      "Scores: [0.15243626 0.17294661 0.15163731 0.15460747 0.15890192 0.15010839\n",
      " 0.15340034 0.15009324 0.16328493 0.16628076]\n",
      "Mean: 0.1573697226771694\n",
      "Standard deviation: 0.007386766301356112\n",
      "\n",
      "\n"
     ]
    }
   ],
   "source": [
    "trainDataWithGivenScalerAndRunAllModels(zones_train_set, zones_train_labels,  standardScaler, \"StandardScaler with Zones Data\", \"No\")"
   ]
  },
  {
   "cell_type": "markdown",
   "metadata": {},
   "source": [
    "Az adatok végigfuttatása a Pipeline-on, feldolgozott dataset elmentése (zones_train_set_ready_with_standard_scaler)."
   ]
  },
  {
   "cell_type": "code",
   "execution_count": 83,
   "metadata": {},
   "outputs": [],
   "source": [
    "zones_train_set_ready_with_standard_scaler = runPipeline(zones_train_set, True, standardScaler)"
   ]
  },
  {
   "cell_type": "markdown",
   "metadata": {},
   "source": [
    "## GridSearch Cross Validation lefuttatása (Zones dataset)"
   ]
  },
  {
   "cell_type": "code",
   "execution_count": 84,
   "metadata": {},
   "outputs": [
    {
     "data": {
      "text/plain": [
       "GridSearchCV(cv=10, error_score='raise-deprecating',\n",
       "       estimator=RandomForestRegressor(bootstrap=True, criterion='mse', max_depth=None,\n",
       "           max_features='auto', max_leaf_nodes=None,\n",
       "           min_impurity_decrease=0.0, min_impurity_split=None,\n",
       "           min_samples_leaf=1, min_samples_split=2,\n",
       "           min_weight_fraction_leaf=0.0, n_estimators='warn', n_jobs=None,\n",
       "           oob_score=False, random_state=None, verbose=0, warm_start=False),\n",
       "       fit_params=None, iid='warn', n_jobs=None,\n",
       "       param_grid=[{'bootstrap': [False], 'n_estimators': [10, 15, 20], 'max_features': [3, 5, 10]}],\n",
       "       pre_dispatch='2*n_jobs', refit=True, return_train_score='warn',\n",
       "       scoring='neg_mean_squared_error', verbose=0)"
      ]
     },
     "execution_count": 84,
     "metadata": {},
     "output_type": "execute_result"
    }
   ],
   "source": [
    "grid_search.fit(zones_train_set_ready_with_standard_scaler, zones_train_labels)"
   ]
  },
  {
   "cell_type": "code",
   "execution_count": 85,
   "metadata": {},
   "outputs": [
    {
     "name": "stdout",
     "output_type": "stream",
     "text": [
      "0.252608654027035 {'bootstrap': False, 'max_features': 3, 'n_estimators': 10}\n",
      "0.24880773611179843 {'bootstrap': False, 'max_features': 3, 'n_estimators': 15}\n",
      "0.245621644842423 {'bootstrap': False, 'max_features': 3, 'n_estimators': 20}\n",
      "0.2051473808053117 {'bootstrap': False, 'max_features': 5, 'n_estimators': 10}\n",
      "0.20199498458125967 {'bootstrap': False, 'max_features': 5, 'n_estimators': 15}\n",
      "0.1976079082168555 {'bootstrap': False, 'max_features': 5, 'n_estimators': 20}\n",
      "0.15215822218171055 {'bootstrap': False, 'max_features': 10, 'n_estimators': 10}\n",
      "0.14701194091673025 {'bootstrap': False, 'max_features': 10, 'n_estimators': 15}\n",
      "0.14482139461036886 {'bootstrap': False, 'max_features': 10, 'n_estimators': 20}\n",
      "min:  0.14482139461036886\n"
     ]
    }
   ],
   "source": [
    "cvres = grid_search.cv_results_\n",
    "for mean_score, params in zip(cvres[\"mean_test_score\"], cvres[\"params\"]):\n",
    "    print(np.sqrt(-mean_score), params)\n",
    "print('min: ', np.sqrt(-cvres[\"mean_test_score\"].max()))"
   ]
  },
  {
   "cell_type": "markdown",
   "metadata": {},
   "source": [
    "## A legjobb becslő általi eredmények megjelenítése (Zones dataset)"
   ]
  },
  {
   "cell_type": "code",
   "execution_count": 86,
   "metadata": {},
   "outputs": [],
   "source": [
    "best_predictions = grid_search.best_estimator_.predict(zones_train_set_ready_with_standard_scaler)"
   ]
  },
  {
   "cell_type": "code",
   "execution_count": 87,
   "metadata": {},
   "outputs": [
    {
     "data": {
      "text/plain": [
       "array([0.1396135 , 0.16138947, 0.14668976, 0.13596811, 0.14302077,\n",
       "       0.13816773, 0.14165509, 0.14060598, 0.14947021, 0.14922334])"
      ]
     },
     "execution_count": 87,
     "metadata": {},
     "output_type": "execute_result"
    }
   ],
   "source": [
    "best_estimator_scores_ = cross_val_score(grid_search.best_estimator_, zones_train_set_ready_with_standard_scaler, zones_train_labels, scoring=\"neg_mean_squared_error\", cv=10)\n",
    "best_estimator_scores = np.sqrt(-best_estimator_scores_)\n",
    "best_estimator_scores"
   ]
  },
  {
   "cell_type": "code",
   "execution_count": 88,
   "metadata": {},
   "outputs": [
    {
     "data": {
      "image/png": "[encoded data removed]",
      "text/plain": [
       "<Figure size 432x432 with 1 Axes>"
      ]
     },
     "metadata": {
      "needs_background": "light"
     },
     "output_type": "display_data"
    }
   ],
   "source": [
    "plt.figure(figsize=(6,6))\n",
    "sns.distplot(best_estimator_scores)\n",
    "plt.show()"
   ]
  },
  {
   "cell_type": "code",
   "execution_count": 89,
   "metadata": {},
   "outputs": [
    {
     "data": {
      "text/plain": [
       "[(0.29997010595293816, 'votes'),\n",
       " (0.15935601035963037, 'dish_liked'),\n",
       " (0.10177790917041796, 'approx_cost(for two people)'),\n",
       " (0.09501436957182949, 'cuisines'),\n",
       " (0.09420397456385297, 'name'),\n",
       " (0.0930674153438442, 'address'),\n",
       " (0.05436366072656469, 'book_table'),\n",
       " (0.013548063913528485, 'online_order'),\n",
       " (0.006012910954834015, 'Delivery'),\n",
       " (0.005206083670017399, 'Malleshwaram'),\n",
       " (0.004503858718328464, 'Cafes'),\n",
       " (0.004420791796306887, 'Brigade Road'),\n",
       " (0.004064424504782395, 'Church Street'),\n",
       " (0.00405632995158937, 'Sarjapur Road'),\n",
       " (0.003398353982026438, 'Residency Road'),\n",
       " (0.00330118868523294, 'Desserts'),\n",
       " (0.0032655866969990752, 'New BEL Road'),\n",
       " (0.003239767479706574, 'HSR'),\n",
       " (0.0030545406067912515, 'Buffet'),\n",
       " (0.0030370749075455503, 'Basavanagudi'),\n",
       " (0.002963600286574242, 'Frazer Town'),\n",
       " (0.002878703211841536, 'Banashankari'),\n",
       " (0.002672835357293525, 'MG Road'),\n",
       " (0.002416245135410183, 'Old Airport Road'),\n",
       " (0.002261120974231174, 'Indiranagar'),\n",
       " (0.0022283132590803336, 'Dine-out'),\n",
       " (0.002068388954626608, 'Kalyan Nagar'),\n",
       " (0.001985746826628063, 'Marathahalli'),\n",
       " (0.0018948380928733883, 'Jayanagar'),\n",
       " (0.0018480685653628572, 'Bannerghatta Road'),\n",
       " (0.0016648002348754504, 'Pubs and bars'),\n",
       " (0.0016289117377773388, 'Drinks & nightlife'),\n",
       " (0.001547485219660041, 'BTM'),\n",
       " (0.0014642417749928648, 'JP Nagar'),\n",
       " (0.0012995170878766437, 'zones'),\n",
       " (0.0011451280457768437, 'Koramangala 6th Block'),\n",
       " (0.0011233186018967827, 'Kammanahalli'),\n",
       " (0.0011191426114903463, 'Lavelle Road'),\n",
       " (0.00110870233497364, 'Electronic City'),\n",
       " (0.0010712575445398164, 'Brookefield'),\n",
       " (0.00100670157237621, 'Rajajinagar'),\n",
       " (0.0009628737461542976, 'Koramangala 5th Block'),\n",
       " (0.0009516081856058743, 'Koramangala 7th Block'),\n",
       " (0.0009374201217692316, 'Bellandur'),\n",
       " (0.000888608959546132, 'Koramangala 4th Block')]"
      ]
     },
     "execution_count": 89,
     "metadata": {},
     "output_type": "execute_result"
    }
   ],
   "source": [
    "attributes = ['address', 'name', 'online_order', 'book_table', 'votes', 'dish_liked', 'cuisines', 'approx_cost(for two people)', 'zones'] + type_labels + city_labels\n",
    "sorted(zip(feature_importances, attributes), reverse=True)"
   ]
  },
  {
   "cell_type": "markdown",
   "metadata": {},
   "source": [
    "## Test set-hez zónák predikciója KNN algo-val"
   ]
  },
  {
   "cell_type": "code",
   "execution_count": 90,
   "metadata": {},
   "outputs": [],
   "source": [
    "X_loc = coord_cols_train.copy()\n",
    "y_loc = y_km.copy()"
   ]
  },
  {
   "cell_type": "markdown",
   "metadata": {},
   "source": [
    "Először a train szettet is szétszedjük és azon betanítjuk a K Nearest Neighbors klaszterezésre használt modellt, majd ellenőrizzük is helyes működését."
   ]
  },
  {
   "cell_type": "code",
   "execution_count": 91,
   "metadata": {},
   "outputs": [],
   "source": [
    "X_loc_train, X_loc_test, y_loc_train, y_loc_test = train_test_split(X_loc, y_loc, test_size=0.20) "
   ]
  },
  {
   "cell_type": "code",
   "execution_count": 92,
   "metadata": {},
   "outputs": [
    {
     "data": {
      "text/plain": [
       "KNeighborsClassifier(algorithm='auto', leaf_size=30, metric='minkowski',\n",
       "           metric_params=None, n_jobs=None, n_neighbors=8, p=2,\n",
       "           weights='uniform')"
      ]
     },
     "execution_count": 92,
     "metadata": {},
     "output_type": "execute_result"
    }
   ],
   "source": [
    "classifier = KNeighborsClassifier(n_neighbors=8)  \n",
    "classifier.fit(X_loc_train, y_loc_train) "
   ]
  },
  {
   "cell_type": "code",
   "execution_count": 93,
   "metadata": {},
   "outputs": [],
   "source": [
    "y_pred = classifier.predict(X_loc_test)  "
   ]
  },
  {
   "cell_type": "markdown",
   "metadata": {},
   "source": [
    "Amint látni, 100%-ig egyeznek a prediktált értékek. Így feltételezhetjük, hogy a test set adatsoraihoz is helyesen fogja megjósolni a zónákat"
   ]
  },
  {
   "cell_type": "code",
   "execution_count": 94,
   "metadata": {},
   "outputs": [
    {
     "name": "stdout",
     "output_type": "stream",
     "text": [
      "[[1616    0    0    0    0    0    0    0]\n",
      " [   0  132    0    0    0    0    0    0]\n",
      " [   0    0  736    0    0    0    0    0]\n",
      " [   0    0    0 2006    0    0    0    0]\n",
      " [   0    0    0    0  250    0    0    0]\n",
      " [   0    0    0    0    0  834    0    0]\n",
      " [   0    0    0    0    0    0  546    0]\n",
      " [   0    0    0    0    0    0    0  508]]\n",
      "              precision    recall  f1-score   support\n",
      "\n",
      "           0       1.00      1.00      1.00      1616\n",
      "           1       1.00      1.00      1.00       132\n",
      "           2       1.00      1.00      1.00       736\n",
      "           3       1.00      1.00      1.00      2006\n",
      "           4       1.00      1.00      1.00       250\n",
      "           5       1.00      1.00      1.00       834\n",
      "           6       1.00      1.00      1.00       546\n",
      "           7       1.00      1.00      1.00       508\n",
      "\n",
      "   micro avg       1.00      1.00      1.00      6628\n",
      "   macro avg       1.00      1.00      1.00      6628\n",
      "weighted avg       1.00      1.00      1.00      6628\n",
      "\n"
     ]
    }
   ],
   "source": [
    "print(confusion_matrix(y_loc_test, y_pred))  \n",
    "print(classification_report(y_loc_test, y_pred)) "
   ]
  },
  {
   "cell_type": "markdown",
   "metadata": {},
   "source": [
    "A teszt szetten is megjósoljuk a kategóriákat és hozzáadjuk a teszt szetthez az oszlopot."
   ]
  },
  {
   "cell_type": "code",
   "execution_count": 95,
   "metadata": {},
   "outputs": [],
   "source": [
    "coord_cols_test_df = pd.DataFrame()\n",
    "coord_cols_test_df['lat'] = extended_test_set['lat']\n",
    "coord_cols_test_df['lon'] = extended_test_set['lon']\n",
    "coord_cols_test = np.array(coord_cols_test_df)\n",
    "\n",
    "y_test_pred = classifier.predict(coord_cols_test)  "
   ]
  },
  {
   "cell_type": "code",
   "execution_count": 96,
   "metadata": {},
   "outputs": [],
   "source": [
    "zones_test_set['zones'] = y_test_pred"
   ]
  },
  {
   "cell_type": "markdown",
   "metadata": {},
   "source": [
    "## Teszt lefuttatása végül, eredmény kijelzése (Zones dataset)"
   ]
  },
  {
   "cell_type": "code",
   "execution_count": 97,
   "metadata": {},
   "outputs": [
    {
     "name": "stdout",
     "output_type": "stream",
     "text": [
      "8529\n",
      "Scores: 0.35312327287165945\n",
      "Mean: 0.35312327287165945\n",
      "Standard deviation: 0.0\n",
      "\n",
      "\n"
     ]
    },
    {
     "data": {
      "text/plain": [
       "<matplotlib.legend.Legend at 0x7fdd508cb748>"
      ]
     },
     "execution_count": 97,
     "metadata": {},
     "output_type": "execute_result"
    },
    {
     "data": {
      "image/png": "[encoded data removed]",
      "text/plain": [
       "<Figure size 432x288 with 1 Axes>"
      ]
     },
     "metadata": {
      "needs_background": "light"
     },
     "output_type": "display_data"
    }
   ],
   "source": [
    "final_model = grid_search.best_estimator_\n",
    "\n",
    "X_zones_test = runPipeline(zones_test_set, False, standardScaler)\n",
    "y_zones_test = zones_test_labels\n",
    "print(len(y_test))\n",
    "X_zones_test_df = pd.DataFrame(X_zones_test)\n",
    "final_predictions = final_model.predict(X_zones_test_df)\n",
    "final_mse = mean_squared_error(y_zones_test, final_predictions)\n",
    "final_rmse = np.sqrt(final_mse)\n",
    "display_scores(final_rmse)\n",
    "printToTestStatistics(\"Test with Zones Data\", final_rmse)\n",
    "y_zones_test.plot(kind='hist', label='true values')\n",
    "pd.Series(final_predictions).plot(kind='hist', label='predictions')\n",
    "plt.legend()"
   ]
  },
  {
   "cell_type": "markdown",
   "metadata": {},
   "source": [
    "## Elért eredmények újabb csekkolása"
   ]
  },
  {
   "cell_type": "code",
   "execution_count": 98,
   "metadata": {},
   "outputs": [
    {
     "data": {
      "text/html": [
       "<div>\n",
       "<style scoped>\n",
       "    .dataframe tbody tr th:only-of-type {\n",
       "        vertical-align: middle;\n",
       "    }\n",
       "\n",
       "    .dataframe tbody tr th {\n",
       "        vertical-align: top;\n",
       "    }\n",
       "\n",
       "    .dataframe thead th {\n",
       "        text-align: right;\n",
       "    }\n",
       "</style>\n",
       "<table border=\"1\" class=\"dataframe\">\n",
       "  <thead>\n",
       "    <tr style=\"text-align: right;\">\n",
       "      <th></th>\n",
       "      <th>details</th>\n",
       "      <th>mean</th>\n",
       "      <th>name</th>\n",
       "      <th>purging</th>\n",
       "      <th>rmse</th>\n",
       "      <th>standard deviation</th>\n",
       "    </tr>\n",
       "  </thead>\n",
       "  <tbody>\n",
       "    <tr>\n",
       "      <th>14</th>\n",
       "      <td>StandardScaler with Lat Lon Data</td>\n",
       "      <td>0.154578</td>\n",
       "      <td>RandomForestRegressor</td>\n",
       "      <td>No</td>\n",
       "      <td>6.439489e-02</td>\n",
       "      <td>0.00614755</td>\n",
       "    </tr>\n",
       "    <tr>\n",
       "      <th>17</th>\n",
       "      <td>StandardScaler with Zones Data</td>\n",
       "      <td>0.157370</td>\n",
       "      <td>RandomForestRegressor</td>\n",
       "      <td>No</td>\n",
       "      <td>6.444176e-02</td>\n",
       "      <td>0.00738677</td>\n",
       "    </tr>\n",
       "    <tr>\n",
       "      <th>5</th>\n",
       "      <td>StandardScaler with Basic Data</td>\n",
       "      <td>0.161676</td>\n",
       "      <td>RandomForestRegressor</td>\n",
       "      <td>No</td>\n",
       "      <td>6.692755e-02</td>\n",
       "      <td>0.00652873</td>\n",
       "    </tr>\n",
       "    <tr>\n",
       "      <th>2</th>\n",
       "      <td>MinMaxNorm with Basic Data</td>\n",
       "      <td>0.162000</td>\n",
       "      <td>RandomForestRegressor</td>\n",
       "      <td>No</td>\n",
       "      <td>6.622622e-02</td>\n",
       "      <td>0.00825669</td>\n",
       "    </tr>\n",
       "    <tr>\n",
       "      <th>11</th>\n",
       "      <td>StandardScaler  with Purged Data</td>\n",
       "      <td>0.173791</td>\n",
       "      <td>RandomForestRegressor</td>\n",
       "      <td>Yes</td>\n",
       "      <td>7.052914e-02</td>\n",
       "      <td>0.0114647</td>\n",
       "    </tr>\n",
       "    <tr>\n",
       "      <th>8</th>\n",
       "      <td>MinMaxNorm with Purged Data</td>\n",
       "      <td>0.174349</td>\n",
       "      <td>RandomForestRegressor</td>\n",
       "      <td>Yes</td>\n",
       "      <td>7.125276e-02</td>\n",
       "      <td>0.0100123</td>\n",
       "    </tr>\n",
       "    <tr>\n",
       "      <th>13</th>\n",
       "      <td>StandardScaler with Lat Lon Data</td>\n",
       "      <td>0.185781</td>\n",
       "      <td>DecisionTreeRegressor</td>\n",
       "      <td>No</td>\n",
       "      <td>5.877280e-16</td>\n",
       "      <td>0.0154911</td>\n",
       "    </tr>\n",
       "    <tr>\n",
       "      <th>16</th>\n",
       "      <td>StandardScaler with Zones Data</td>\n",
       "      <td>0.187201</td>\n",
       "      <td>DecisionTreeRegressor</td>\n",
       "      <td>No</td>\n",
       "      <td>5.654527e-16</td>\n",
       "      <td>0.011163</td>\n",
       "    </tr>\n",
       "    <tr>\n",
       "      <th>1</th>\n",
       "      <td>MinMaxNorm with Basic Data</td>\n",
       "      <td>0.194135</td>\n",
       "      <td>DecisionTreeRegressor</td>\n",
       "      <td>No</td>\n",
       "      <td>5.631693e-16</td>\n",
       "      <td>0.0136303</td>\n",
       "    </tr>\n",
       "    <tr>\n",
       "      <th>4</th>\n",
       "      <td>StandardScaler with Basic Data</td>\n",
       "      <td>0.194910</td>\n",
       "      <td>DecisionTreeRegressor</td>\n",
       "      <td>No</td>\n",
       "      <td>5.647523e-16</td>\n",
       "      <td>0.0132147</td>\n",
       "    </tr>\n",
       "    <tr>\n",
       "      <th>7</th>\n",
       "      <td>MinMaxNorm with Purged Data</td>\n",
       "      <td>0.207998</td>\n",
       "      <td>DecisionTreeRegressor</td>\n",
       "      <td>Yes</td>\n",
       "      <td>5.635338e-16</td>\n",
       "      <td>0.0133717</td>\n",
       "    </tr>\n",
       "    <tr>\n",
       "      <th>10</th>\n",
       "      <td>StandardScaler  with Purged Data</td>\n",
       "      <td>0.208031</td>\n",
       "      <td>DecisionTreeRegressor</td>\n",
       "      <td>Yes</td>\n",
       "      <td>5.632644e-16</td>\n",
       "      <td>0.0136248</td>\n",
       "    </tr>\n",
       "    <tr>\n",
       "      <th>9</th>\n",
       "      <td>StandardScaler  with Purged Data</td>\n",
       "      <td>0.344875</td>\n",
       "      <td>LinearRegression</td>\n",
       "      <td>Yes</td>\n",
       "      <td>3.448749e-01</td>\n",
       "      <td>NaN</td>\n",
       "    </tr>\n",
       "    <tr>\n",
       "      <th>6</th>\n",
       "      <td>MinMaxNorm with Purged Data</td>\n",
       "      <td>0.344875</td>\n",
       "      <td>LinearRegression</td>\n",
       "      <td>Yes</td>\n",
       "      <td>3.448749e-01</td>\n",
       "      <td>NaN</td>\n",
       "    </tr>\n",
       "    <tr>\n",
       "      <th>15</th>\n",
       "      <td>StandardScaler with Zones Data</td>\n",
       "      <td>0.347381</td>\n",
       "      <td>LinearRegression</td>\n",
       "      <td>No</td>\n",
       "      <td>3.473814e-01</td>\n",
       "      <td>NaN</td>\n",
       "    </tr>\n",
       "    <tr>\n",
       "      <th>12</th>\n",
       "      <td>StandardScaler with Lat Lon Data</td>\n",
       "      <td>0.348062</td>\n",
       "      <td>LinearRegression</td>\n",
       "      <td>No</td>\n",
       "      <td>3.480616e-01</td>\n",
       "      <td>NaN</td>\n",
       "    </tr>\n",
       "    <tr>\n",
       "      <th>0</th>\n",
       "      <td>MinMaxNorm with Basic Data</td>\n",
       "      <td>0.348219</td>\n",
       "      <td>LinearRegression</td>\n",
       "      <td>No</td>\n",
       "      <td>3.482192e-01</td>\n",
       "      <td>NaN</td>\n",
       "    </tr>\n",
       "    <tr>\n",
       "      <th>3</th>\n",
       "      <td>StandardScaler with Basic Data</td>\n",
       "      <td>0.348219</td>\n",
       "      <td>LinearRegression</td>\n",
       "      <td>No</td>\n",
       "      <td>3.482192e-01</td>\n",
       "      <td>NaN</td>\n",
       "    </tr>\n",
       "  </tbody>\n",
       "</table>\n",
       "</div>"
      ],
      "text/plain": [
       "                             details      mean                   name purging  \\\n",
       "14  StandardScaler with Lat Lon Data  0.154578  RandomForestRegressor      No   \n",
       "17    StandardScaler with Zones Data  0.157370  RandomForestRegressor      No   \n",
       "5     StandardScaler with Basic Data  0.161676  RandomForestRegressor      No   \n",
       "2         MinMaxNorm with Basic Data  0.162000  RandomForestRegressor      No   \n",
       "11  StandardScaler  with Purged Data  0.173791  RandomForestRegressor     Yes   \n",
       "8        MinMaxNorm with Purged Data  0.174349  RandomForestRegressor     Yes   \n",
       "13  StandardScaler with Lat Lon Data  0.185781  DecisionTreeRegressor      No   \n",
       "16    StandardScaler with Zones Data  0.187201  DecisionTreeRegressor      No   \n",
       "1         MinMaxNorm with Basic Data  0.194135  DecisionTreeRegressor      No   \n",
       "4     StandardScaler with Basic Data  0.194910  DecisionTreeRegressor      No   \n",
       "7        MinMaxNorm with Purged Data  0.207998  DecisionTreeRegressor     Yes   \n",
       "10  StandardScaler  with Purged Data  0.208031  DecisionTreeRegressor     Yes   \n",
       "9   StandardScaler  with Purged Data  0.344875       LinearRegression     Yes   \n",
       "6        MinMaxNorm with Purged Data  0.344875       LinearRegression     Yes   \n",
       "15    StandardScaler with Zones Data  0.347381       LinearRegression      No   \n",
       "12  StandardScaler with Lat Lon Data  0.348062       LinearRegression      No   \n",
       "0         MinMaxNorm with Basic Data  0.348219       LinearRegression      No   \n",
       "3     StandardScaler with Basic Data  0.348219       LinearRegression      No   \n",
       "\n",
       "            rmse standard deviation  \n",
       "14  6.439489e-02         0.00614755  \n",
       "17  6.444176e-02         0.00738677  \n",
       "5   6.692755e-02         0.00652873  \n",
       "2   6.622622e-02         0.00825669  \n",
       "11  7.052914e-02          0.0114647  \n",
       "8   7.125276e-02          0.0100123  \n",
       "13  5.877280e-16          0.0154911  \n",
       "16  5.654527e-16           0.011163  \n",
       "1   5.631693e-16          0.0136303  \n",
       "4   5.647523e-16          0.0132147  \n",
       "7   5.635338e-16          0.0133717  \n",
       "10  5.632644e-16          0.0136248  \n",
       "9   3.448749e-01                NaN  \n",
       "6   3.448749e-01                NaN  \n",
       "15  3.473814e-01                NaN  \n",
       "12  3.480616e-01                NaN  \n",
       "0   3.482192e-01                NaN  \n",
       "3   3.482192e-01                NaN  "
      ]
     },
     "execution_count": 98,
     "metadata": {},
     "output_type": "execute_result"
    }
   ],
   "source": [
    "statistic_table.sort_values(by=['mean'])"
   ]
  },
  {
   "cell_type": "markdown",
   "metadata": {},
   "source": [
    " "
   ]
  },
  {
   "cell_type": "code",
   "execution_count": 99,
   "metadata": {},
   "outputs": [
    {
     "data": {
      "text/html": [
       "<div>\n",
       "<style scoped>\n",
       "    .dataframe tbody tr th:only-of-type {\n",
       "        vertical-align: middle;\n",
       "    }\n",
       "\n",
       "    .dataframe tbody tr th {\n",
       "        vertical-align: top;\n",
       "    }\n",
       "\n",
       "    .dataframe thead th {\n",
       "        text-align: right;\n",
       "    }\n",
       "</style>\n",
       "<table border=\"1\" class=\"dataframe\">\n",
       "  <thead>\n",
       "    <tr style=\"text-align: right;\">\n",
       "      <th></th>\n",
       "      <th>name</th>\n",
       "      <th>score</th>\n",
       "    </tr>\n",
       "  </thead>\n",
       "  <tbody>\n",
       "    <tr>\n",
       "      <th>1</th>\n",
       "      <td>Test with Lat Lon Data</td>\n",
       "      <td>0.349439</td>\n",
       "    </tr>\n",
       "    <tr>\n",
       "      <th>2</th>\n",
       "      <td>Test with Zones Data</td>\n",
       "      <td>0.353123</td>\n",
       "    </tr>\n",
       "    <tr>\n",
       "      <th>0</th>\n",
       "      <td>Test with Basic Data</td>\n",
       "      <td>0.357229</td>\n",
       "    </tr>\n",
       "  </tbody>\n",
       "</table>\n",
       "</div>"
      ],
      "text/plain": [
       "                     name     score\n",
       "1  Test with Lat Lon Data  0.349439\n",
       "2    Test with Zones Data  0.353123\n",
       "0    Test with Basic Data  0.357229"
      ]
     },
     "execution_count": 99,
     "metadata": {},
     "output_type": "execute_result"
    }
   ],
   "source": [
    "test_statistic_table.sort_values(by=['score'])"
   ]
  },
  {
   "cell_type": "code",
   "execution_count": null,
   "metadata": {},
   "outputs": [],
   "source": []
  }
 ],
 "metadata": {
  "kernelspec": {
   "display_name": "Python 3",
   "language": "python",
   "name": "python3"
  },
  "language_info": {
   "codemirror_mode": {
    "name": "ipython",
    "version": 3
   },
   "file_extension": ".py",
   "mimetype": "text/x-python",
   "name": "python",
   "nbconvert_exporter": "python",
   "pygments_lexer": "ipython3",
   "version": "3.7.3"
  },
  "varInspector": {
   "cols": {
    "lenName": 16,
    "lenType": 16,
    "lenVar": 40
   },
   "kernels_config": {
    "python": {
     "delete_cmd_postfix": "",
     "delete_cmd_prefix": "del ",
     "library": "var_list.py",
     "varRefreshCmd": "print(var_dic_list())"
    },
    "r": {
     "delete_cmd_postfix": ") ",
     "delete_cmd_prefix": "rm(",
     "library": "var_list.r",
     "varRefreshCmd": "cat(var_dic_list()) "
    }
   },
   "types_to_exclude": [
    "module",
    "function",
    "builtin_function_or_method",
    "instance",
    "_Feature"
   ],
   "window_display": false
  }
 },
 "nbformat": 4,
 "nbformat_minor": 2
}
